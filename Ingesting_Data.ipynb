{
 "metadata": {
  "language_info": {
   "codemirror_mode": {
    "name": "ipython",
    "version": 3
   },
   "file_extension": ".py",
   "mimetype": "text/x-python",
   "name": "python",
   "nbconvert_exporter": "python",
   "pygments_lexer": "ipython3",
   "version": "3.8.5"
  },
  "orig_nbformat": 4,
  "kernelspec": {
   "name": "python3",
   "display_name": "Python 3.8.5 64-bit ('GISAPI': conda)"
  },
  "interpreter": {
   "hash": "d36bcb9db2b01809dd0786a778839d7cb7bf4091d5809431ddbab2266db9b46f"
  }
 },
 "nbformat": 4,
 "nbformat_minor": 2,
 "cells": [
  {
   "cell_type": "markdown",
   "source": [],
   "metadata": {}
  },
  {
   "cell_type": "code",
   "execution_count": 1,
   "source": [
    "print(\"Hello\")"
   ],
   "outputs": [
    {
     "output_type": "stream",
     "name": "stdout",
     "text": [
      "Hello\n"
     ]
    }
   ],
   "metadata": {}
  },
  {
   "cell_type": "code",
   "execution_count": 3,
   "source": [
    "import numpy as np\r\n",
    "np.__version__\r\n"
   ],
   "outputs": [
    {
     "output_type": "execute_result",
     "data": {
      "text/plain": [
       "'1.21.0'"
      ]
     },
     "metadata": {},
     "execution_count": 3
    }
   ],
   "metadata": {}
  },
  {
   "cell_type": "code",
   "execution_count": 4,
   "source": [
    "import pandas as pd\r\n",
    "pd.__version__"
   ],
   "outputs": [
    {
     "output_type": "execute_result",
     "data": {
      "text/plain": [
       "'1.1.0'"
      ]
     },
     "metadata": {},
     "execution_count": 4
    }
   ],
   "metadata": {}
  },
  {
   "cell_type": "code",
   "execution_count": 20,
   "source": [
    "df = pd.read_table(r\"C:\\Users\\yuri7100\\Desktop\\Data.csv\")\r\n",
    "df.head()"
   ],
   "outputs": [
    {
     "output_type": "execute_result",
     "data": {
      "text/plain": [
       "  OID_,EO_ID,LAST_OBS,EO_STATUS,EO_RANK,ACCURACY,NAME_CATGY,DATA_DATE,Shape_Length,Shape_Area\n",
       "0  5063,6979.000000000000000,1999-07,Current,E,4-...                                         \n",
       "1  12089,16558.000000000000000,1936-08-14,Histori...                                         \n",
       "2  17770,24840.000000000000000,2007-05-15,Current...                                         \n",
       "3  18166,25338.000000000000000,2007-05-15,Current...                                         \n",
       "4  18167,25339.000000000000000,2010,Current,C,2-H...                                         "
      ],
      "text/html": [
       "<div>\n",
       "<style scoped>\n",
       "    .dataframe tbody tr th:only-of-type {\n",
       "        vertical-align: middle;\n",
       "    }\n",
       "\n",
       "    .dataframe tbody tr th {\n",
       "        vertical-align: top;\n",
       "    }\n",
       "\n",
       "    .dataframe thead th {\n",
       "        text-align: right;\n",
       "    }\n",
       "</style>\n",
       "<table border=\"1\" class=\"dataframe\">\n",
       "  <thead>\n",
       "    <tr style=\"text-align: right;\">\n",
       "      <th></th>\n",
       "      <th>OID_,EO_ID,LAST_OBS,EO_STATUS,EO_RANK,ACCURACY,NAME_CATGY,DATA_DATE,Shape_Length,Shape_Area</th>\n",
       "    </tr>\n",
       "  </thead>\n",
       "  <tbody>\n",
       "    <tr>\n",
       "      <th>0</th>\n",
       "      <td>5063,6979.000000000000000,1999-07,Current,E,4-...</td>\n",
       "    </tr>\n",
       "    <tr>\n",
       "      <th>1</th>\n",
       "      <td>12089,16558.000000000000000,1936-08-14,Histori...</td>\n",
       "    </tr>\n",
       "    <tr>\n",
       "      <th>2</th>\n",
       "      <td>17770,24840.000000000000000,2007-05-15,Current...</td>\n",
       "    </tr>\n",
       "    <tr>\n",
       "      <th>3</th>\n",
       "      <td>18166,25338.000000000000000,2007-05-15,Current...</td>\n",
       "    </tr>\n",
       "    <tr>\n",
       "      <th>4</th>\n",
       "      <td>18167,25339.000000000000000,2010,Current,C,2-H...</td>\n",
       "    </tr>\n",
       "  </tbody>\n",
       "</table>\n",
       "</div>"
      ]
     },
     "metadata": {},
     "execution_count": 20
    }
   ],
   "metadata": {}
  },
  {
   "cell_type": "code",
   "execution_count": 2,
   "source": [
    "import glob\r\n",
    "\r\n",
    "glob.glob(r\"C:\\Development_Projects\\*\")"
   ],
   "outputs": [
    {
     "output_type": "execute_result",
     "data": {
      "text/plain": [
       "['C:\\\\Development_Projects\\\\Android_ArcGIS',\n",
       " 'C:\\\\Development_Projects\\\\ArcGIS_Hub',\n",
       " 'C:\\\\Development_Projects\\\\ArcGIS_JS',\n",
       " 'C:\\\\Development_Projects\\\\Clone_Content_Notebooks.mp4',\n",
       " 'C:\\\\Development_Projects\\\\Clone_Folder.avi',\n",
       " 'C:\\\\Development_Projects\\\\Clone_Item.avi',\n",
       " 'C:\\\\Development_Projects\\\\Cornell_Courses',\n",
       " 'C:\\\\Development_Projects\\\\Cornell_DS',\n",
       " 'C:\\\\Development_Projects\\\\fastAI',\n",
       " 'C:\\\\Development_Projects\\\\GIS_Machine_Learning',\n",
       " 'C:\\\\Development_Projects\\\\HTTP_Calls_AGOL_Feature_Service_Rest_Requests',\n",
       " 'C:\\\\Development_Projects\\\\Hub_Samples',\n",
       " 'C:\\\\Development_Projects\\\\Network_Analyst',\n",
       " 'C:\\\\Development_Projects\\\\Node_JS',\n",
       " 'C:\\\\Development_Projects\\\\powershell',\n",
       " 'C:\\\\Development_Projects\\\\Python_Algorithms',\n",
       " 'C:\\\\Development_Projects\\\\python_api',\n",
       " 'C:\\\\Development_Projects\\\\Python_API_Samples',\n",
       " 'C:\\\\Development_Projects\\\\Python_UT',\n",
       " 'C:\\\\Development_Projects\\\\React_JS',\n",
       " 'C:\\\\Development_Projects\\\\SubSite',\n",
       " 'C:\\\\Development_Projects\\\\TypeScript']"
      ]
     },
     "metadata": {},
     "execution_count": 2
    }
   ],
   "metadata": {}
  },
  {
   "cell_type": "code",
   "execution_count": null,
   "source": [
    "def readMultiCSV(directory):\r\n",
    "    files = {}\r\n",
    "    filesTest = glob.glob(directory + \".csv\")\r\n",
    "    for file in filesTest:\r\n",
    "        stop = filename.find(\".csv\")\r\n",
    "        start = stop-4\r\n",
    "        year = filename[start:stop]\r\n",
    "        df = pd.read_csv(filename, index_col= \"\")\r\n",
    "        sales[year] = df\r\n",
    "    return sales\r\n",
    "\r\n",
    "import glob\r\n",
    "\r\n",
    "def read_multiyear_sales_data(directory):\r\n",
    "    sales = {}\r\n",
    "    # get names of all files matching this name\r\n",
    "    salesfiles = glob.glob(directory + '/sales*.csv')\r\n",
    "    for filename in salesfiles:\r\n",
    "        # parse year from filename\r\n",
    "        stop = filename.find('.csv')\r\n",
    "        start = stop-4 \r\n",
    "        year = filename[start:stop]\r\n",
    "        # read in dataframe for this year\r\n",
    "        df = pd.read_csv(filename, index_col='Month')\r\n",
    "        # store dataframe in a dictionary\r\n",
    "        sales[year] = df\r\n",
    "    return sales\r\n",
    "\r\n",
    "sales_by_year = read_multiyear_sales_data('sales_directory')"
   ],
   "outputs": [],
   "metadata": {}
  },
  {
   "cell_type": "code",
   "execution_count": null,
   "source": [
    "filename = 'sales_directory/year_2012_salesdata.csv'\r\n",
    "stop = filename.find('_salesdata.csv')\r\n",
    "start = stop-4\r\n",
    "year = filename[start:stop]\r\n",
    "\r\n",
    "print(start, stop, year)"
   ],
   "outputs": [],
   "metadata": {}
  }
 ]
}