{
 "metadata": {
  "language_info": {
   "codemirror_mode": {
    "name": "ipython",
    "version": 3
   },
   "file_extension": ".py",
   "mimetype": "text/x-python",
   "name": "python",
   "nbconvert_exporter": "python",
   "pygments_lexer": "ipython3",
   "version": "3.8.5"
  },
  "orig_nbformat": 4,
  "kernelspec": {
   "name": "python3",
   "display_name": "Python 3.8.5 64-bit ('GISAPI': conda)"
  },
  "interpreter": {
   "hash": "d36bcb9db2b01809dd0786a778839d7cb7bf4091d5809431ddbab2266db9b46f"
  }
 },
 "nbformat": 4,
 "nbformat_minor": 2,
 "cells": [
  {
   "cell_type": "code",
   "execution_count": null,
   "metadata": {},
   "outputs": [],
   "source": [
    "import numpy as np\n",
    "\n",
    "CURVE_CENTER = 80\n",
    "\n",
    "grades = np.array([72, 35, 64, 88, 51, 90, 74, 12])\n",
    "\n",
    "def curve(grades):\n",
    "    average = grades.mean()\n",
    "    change = CURVE_CENTER - average\n",
    "    new_grades = grades + change\n",
    "    return np.clip(new_grades, grades, 100)\n",
    "\n",
    "curve(grades)\n"
   ]
  },
  {
   "cell_type": "code",
   "execution_count": null,
   "metadata": {},
   "outputs": [],
   "source": [
    "import numpy as np\n",
    "type(np)"
   ]
  },
  {
   "cell_type": "code",
   "execution_count": null,
   "metadata": {
    "tags": [
     "outputPrepend"
    ]
   },
   "outputs": [],
   "source": [
    "%whos\n"
   ]
  },
  {
   "source": [
    "### Pandas"
   ],
   "cell_type": "markdown",
   "metadata": {}
  },
  {
   "cell_type": "code",
   "execution_count": 10,
   "metadata": {},
   "outputs": [
    {
     "output_type": "execute_result",
     "data": {
      "text/plain": [
       "0          Hibriten\n",
       "1               Hen\n",
       "2    Timbered Ridge\n",
       "Name: Name, dtype: object"
      ]
     },
     "metadata": {},
     "execution_count": 10
    }
   ],
   "source": [
    "import pandas as pd\n",
    "\n",
    "df = pd.DataFrame(\n",
    "    {\n",
    "        \"Name\": [\"Hibriten\",\n",
    "         \"Hen\",\n",
    "         \"Timbered Ridge\"\n",
    "         ],\n",
    "         \"Elevation\":[2250, 2000, 1500]\n",
    "    }\n",
    ")\n",
    "\n",
    "df[\"Name\"]"
   ]
  },
  {
   "cell_type": "code",
   "execution_count": 11,
   "metadata": {},
   "outputs": [
    {
     "output_type": "execute_result",
     "data": {
      "text/plain": [
       "         Elevation\n",
       "count     3.000000\n",
       "mean   1916.666667\n",
       "std     381.881308\n",
       "min    1500.000000\n",
       "25%    1750.000000\n",
       "50%    2000.000000\n",
       "75%    2125.000000\n",
       "max    2250.000000"
      ],
      "text/html": "<div>\n<style scoped>\n    .dataframe tbody tr th:only-of-type {\n        vertical-align: middle;\n    }\n\n    .dataframe tbody tr th {\n        vertical-align: top;\n    }\n\n    .dataframe thead th {\n        text-align: right;\n    }\n</style>\n<table border=\"1\" class=\"dataframe\">\n  <thead>\n    <tr style=\"text-align: right;\">\n      <th></th>\n      <th>Elevation</th>\n    </tr>\n  </thead>\n  <tbody>\n    <tr>\n      <th>count</th>\n      <td>3.000000</td>\n    </tr>\n    <tr>\n      <th>mean</th>\n      <td>1916.666667</td>\n    </tr>\n    <tr>\n      <th>std</th>\n      <td>381.881308</td>\n    </tr>\n    <tr>\n      <th>min</th>\n      <td>1500.000000</td>\n    </tr>\n    <tr>\n      <th>25%</th>\n      <td>1750.000000</td>\n    </tr>\n    <tr>\n      <th>50%</th>\n      <td>2000.000000</td>\n    </tr>\n    <tr>\n      <th>75%</th>\n      <td>2125.000000</td>\n    </tr>\n    <tr>\n      <th>max</th>\n      <td>2250.000000</td>\n    </tr>\n  </tbody>\n</table>\n</div>"
     },
     "metadata": {},
     "execution_count": 11
    }
   ],
   "source": [
    "df.describe()"
   ]
  },
  {
   "cell_type": "code",
   "execution_count": 15,
   "metadata": {},
   "outputs": [
    {
     "output_type": "execute_result",
     "data": {
      "text/plain": [
       "    OID_    EO_ID    LAST_OBS   EO_STATUS EO_RANK  ACCURACY  \\\n",
       "0   5063   6979.0     1999-07     Current       E     4-Low   \n",
       "1  12089  16558.0  1936-08-14  Historical       H  3-Medium   \n",
       "2  17770  24840.0  2007-05-15     Current      BC  3-Medium   \n",
       "3  18166  25338.0  2007-05-15     Current      B?    2-High   \n",
       "4  18167  25339.0        2010     Current       C    2-High   \n",
       "5  18168  25340.0        2010     Current       D  3-Medium   \n",
       "6  18509  25774.0  2007-05-15     Current       C    2-High   \n",
       "7  25000  33272.0  1987-07-29  Historical      H?  3-Medium   \n",
       "\n",
       "          NAME_CATGY   DATA_DATE  Shape_Length    Shape_Area  \n",
       "0             Animal  2015-10-12  12546.189221  1.248577e+07  \n",
       "1              Plant  2015-10-12   2509.239143  4.994314e+05  \n",
       "2             Animal  2015-10-12    573.611122  2.609918e+04  \n",
       "3  Natural Community  2015-10-12   2172.669099  4.636786e+04  \n",
       "4  Natural Community  2015-10-12   8198.446845  5.265418e+05  \n",
       "5  Natural Community  2015-10-12   2756.711689  9.078148e+04  \n",
       "6              Plant  2015-10-12    155.042756  5.501592e+02  \n",
       "7             Animal  2015-10-12   4664.866686  2.125255e+04  "
      ],
      "text/html": "<div>\n<style scoped>\n    .dataframe tbody tr th:only-of-type {\n        vertical-align: middle;\n    }\n\n    .dataframe tbody tr th {\n        vertical-align: top;\n    }\n\n    .dataframe thead th {\n        text-align: right;\n    }\n</style>\n<table border=\"1\" class=\"dataframe\">\n  <thead>\n    <tr style=\"text-align: right;\">\n      <th></th>\n      <th>OID_</th>\n      <th>EO_ID</th>\n      <th>LAST_OBS</th>\n      <th>EO_STATUS</th>\n      <th>EO_RANK</th>\n      <th>ACCURACY</th>\n      <th>NAME_CATGY</th>\n      <th>DATA_DATE</th>\n      <th>Shape_Length</th>\n      <th>Shape_Area</th>\n    </tr>\n  </thead>\n  <tbody>\n    <tr>\n      <th>0</th>\n      <td>5063</td>\n      <td>6979.0</td>\n      <td>1999-07</td>\n      <td>Current</td>\n      <td>E</td>\n      <td>4-Low</td>\n      <td>Animal</td>\n      <td>2015-10-12</td>\n      <td>12546.189221</td>\n      <td>1.248577e+07</td>\n    </tr>\n    <tr>\n      <th>1</th>\n      <td>12089</td>\n      <td>16558.0</td>\n      <td>1936-08-14</td>\n      <td>Historical</td>\n      <td>H</td>\n      <td>3-Medium</td>\n      <td>Plant</td>\n      <td>2015-10-12</td>\n      <td>2509.239143</td>\n      <td>4.994314e+05</td>\n    </tr>\n    <tr>\n      <th>2</th>\n      <td>17770</td>\n      <td>24840.0</td>\n      <td>2007-05-15</td>\n      <td>Current</td>\n      <td>BC</td>\n      <td>3-Medium</td>\n      <td>Animal</td>\n      <td>2015-10-12</td>\n      <td>573.611122</td>\n      <td>2.609918e+04</td>\n    </tr>\n    <tr>\n      <th>3</th>\n      <td>18166</td>\n      <td>25338.0</td>\n      <td>2007-05-15</td>\n      <td>Current</td>\n      <td>B?</td>\n      <td>2-High</td>\n      <td>Natural Community</td>\n      <td>2015-10-12</td>\n      <td>2172.669099</td>\n      <td>4.636786e+04</td>\n    </tr>\n    <tr>\n      <th>4</th>\n      <td>18167</td>\n      <td>25339.0</td>\n      <td>2010</td>\n      <td>Current</td>\n      <td>C</td>\n      <td>2-High</td>\n      <td>Natural Community</td>\n      <td>2015-10-12</td>\n      <td>8198.446845</td>\n      <td>5.265418e+05</td>\n    </tr>\n    <tr>\n      <th>5</th>\n      <td>18168</td>\n      <td>25340.0</td>\n      <td>2010</td>\n      <td>Current</td>\n      <td>D</td>\n      <td>3-Medium</td>\n      <td>Natural Community</td>\n      <td>2015-10-12</td>\n      <td>2756.711689</td>\n      <td>9.078148e+04</td>\n    </tr>\n    <tr>\n      <th>6</th>\n      <td>18509</td>\n      <td>25774.0</td>\n      <td>2007-05-15</td>\n      <td>Current</td>\n      <td>C</td>\n      <td>2-High</td>\n      <td>Plant</td>\n      <td>2015-10-12</td>\n      <td>155.042756</td>\n      <td>5.501592e+02</td>\n    </tr>\n    <tr>\n      <th>7</th>\n      <td>25000</td>\n      <td>33272.0</td>\n      <td>1987-07-29</td>\n      <td>Historical</td>\n      <td>H?</td>\n      <td>3-Medium</td>\n      <td>Animal</td>\n      <td>2015-10-12</td>\n      <td>4664.866686</td>\n      <td>2.125255e+04</td>\n    </tr>\n  </tbody>\n</table>\n</div>"
     },
     "metadata": {},
     "execution_count": 15
    }
   ],
   "source": [
    "layer = pd.read_csv()\n",
    "layer[:8]"
   ]
  },
  {
   "cell_type": "code",
   "execution_count": null,
   "metadata": {},
   "outputs": [],
   "source": []
  }
 ]
}