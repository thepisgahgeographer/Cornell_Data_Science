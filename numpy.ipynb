{
 "metadata": {
  "language_info": {
   "codemirror_mode": {
    "name": "ipython",
    "version": 3
   },
   "file_extension": ".py",
   "mimetype": "text/x-python",
   "name": "python",
   "nbconvert_exporter": "python",
   "pygments_lexer": "ipython3",
   "version": "3.8.5"
  },
  "orig_nbformat": 4,
  "kernelspec": {
   "name": "python3",
   "display_name": "Python 3.8.5 64-bit ('GISAPI': conda)"
  },
  "interpreter": {
   "hash": "d36bcb9db2b01809dd0786a778839d7cb7bf4091d5809431ddbab2266db9b46f"
  }
 },
 "nbformat": 4,
 "nbformat_minor": 2,
 "cells": [
  {
   "cell_type": "code",
   "execution_count": null,
   "metadata": {},
   "outputs": [],
   "source": [
    "import numpy as np\n",
    "\n",
    "CURVE_CENTER = 80\n",
    "\n",
    "grades = np.array([72, 35, 64, 88, 51, 90, 74, 12])\n",
    "\n",
    "def curve(grades):\n",
    "    average = grades.mean()\n",
    "    change = CURVE_CENTER - average\n",
    "    new_grades = grades + change\n",
    "    return np.clip(new_grades, grades, 100)\n",
    "\n",
    "curve(grades)\n"
   ]
  },
  {
   "cell_type": "code",
   "execution_count": null,
   "metadata": {},
   "outputs": [],
   "source": [
    "import numpy as np\n",
    "type(np)"
   ]
  },
  {
   "cell_type": "code",
   "execution_count": null,
   "metadata": {
    "tags": [
     "outputPrepend"
    ]
   },
   "outputs": [],
   "source": [
    "%whos\n"
   ]
  },
  {
   "source": [],
   "cell_type": "markdown",
   "metadata": {}
  },
  {
   "cell_type": "code",
   "execution_count": null,
   "metadata": {},
   "outputs": [],
   "source": [
    "import matplotlib.pyplot as plt\n",
    "%matplotlib inline"
   ]
  },
  {
   "cell_type": "code",
   "execution_count": null,
   "metadata": {},
   "outputs": [],
   "source": [
    "## tset"
   ]
  },
  {
   "source": [
    "### Pandas"
   ],
   "cell_type": "code",
   "metadata": {},
   "execution_count": null,
   "outputs": []
  },
  {
   "cell_type": "code",
   "execution_count": 2,
   "metadata": {},
   "outputs": [
    {
     "output_type": "execute_result",
     "data": {
      "text/plain": [
       "0          Hibriten\n",
       "1               Hen\n",
       "2    Timbered Ridge\n",
       "Name: Name, dtype: object"
      ]
     },
     "metadata": {},
     "execution_count": 2
    }
   ],
   "source": [
    "import pandas as pd\n",
    "\n",
    "df = pd.DataFrame(\n",
    "    {\n",
    "        \"Name\": [\"Hibriten\",\n",
    "         \"Hen\",\n",
    "         \"Timbered Ridge\"\n",
    "         ],\n",
    "         \"Elevation\":[2250, 2000, 1500]\n",
    "    }\n",
    ")\n",
    "\n",
    "df[\"Name\"]"
   ]
  },
  {
   "cell_type": "code",
   "execution_count": 6,
   "metadata": {},
   "outputs": [
    {
     "output_type": "execute_result",
     "data": {
      "text/plain": [
       "pandas.core.frame.DataFrame"
      ]
     },
     "metadata": {},
     "execution_count": 6
    }
   ],
   "source": [
    "df.Elevation>2000\n",
    "test = df[df.Elevation > 2000]\n",
    "type(test)"
   ]
  },
  {
   "cell_type": "code",
   "execution_count": 8,
   "metadata": {},
   "outputs": [
    {
     "output_type": "execute_result",
     "data": {
      "text/plain": [
       "pandas.core.frame.DataFrame"
      ]
     },
     "metadata": {},
     "execution_count": 8
    }
   ],
   "source": [
    "A = df[\"Elevation\"]\n",
    "type(A)\n",
    "AB = df[[\"Elevation\", \"Name\"]]\n",
    "type(AB)"
   ]
  },
  {
   "cell_type": "code",
   "execution_count": 10,
   "metadata": {},
   "outputs": [
    {
     "output_type": "execute_result",
     "data": {
      "text/plain": [
       "             Name  Elevation\n",
       "0        Hibriten       2250\n",
       "2  Timbered Ridge       1500"
      ],
      "text/html": "<div>\n<style scoped>\n    .dataframe tbody tr th:only-of-type {\n        vertical-align: middle;\n    }\n\n    .dataframe tbody tr th {\n        vertical-align: top;\n    }\n\n    .dataframe thead th {\n        text-align: right;\n    }\n</style>\n<table border=\"1\" class=\"dataframe\">\n  <thead>\n    <tr style=\"text-align: right;\">\n      <th></th>\n      <th>Name</th>\n      <th>Elevation</th>\n    </tr>\n  </thead>\n  <tbody>\n    <tr>\n      <th>0</th>\n      <td>Hibriten</td>\n      <td>2250</td>\n    </tr>\n    <tr>\n      <th>2</th>\n      <td>Timbered Ridge</td>\n      <td>1500</td>\n    </tr>\n  </tbody>\n</table>\n</div>"
     },
     "metadata": {},
     "execution_count": 10
    }
   ],
   "source": [
    "df[[True, False, True]]"
   ]
  },
  {
   "cell_type": "code",
   "execution_count": null,
   "metadata": {},
   "outputs": [],
   "source": [
    "df.describe()"
   ]
  },
  {
   "cell_type": "code",
   "execution_count": null,
   "metadata": {},
   "outputs": [],
   "source": [
    "layer = pd.read_csv(r\"\")\n",
    "layer.head(9)\n",
    "#layer[:5]\n"
   ]
  },
  {
   "cell_type": "code",
   "execution_count": null,
   "metadata": {},
   "outputs": [],
   "source": [
    "layer.to_excel(r\"\")"
   ]
  },
  {
   "cell_type": "code",
   "execution_count": null,
   "metadata": {},
   "outputs": [],
   "source": [
    "pip install openpyxl"
   ]
  },
  {
   "cell_type": "code",
   "execution_count": null,
   "metadata": {},
   "outputs": [],
   "source": [
    "layer.info()"
   ]
  },
  {
   "cell_type": "code",
   "execution_count": null,
   "metadata": {},
   "outputs": [],
   "source": [
    "cat = layer[\"NAME_CATGY\"]\n",
    "cat"
   ]
  },
  {
   "cell_type": "code",
   "execution_count": null,
   "metadata": {},
   "outputs": [],
   "source": [
    "type(cat)"
   ]
  },
  {
   "cell_type": "code",
   "execution_count": null,
   "metadata": {},
   "outputs": [],
   "source": [
    "cat.shape"
   ]
  },
  {
   "cell_type": "code",
   "execution_count": null,
   "metadata": {},
   "outputs": [],
   "source": [
    "status = layer[[\"EO_STATUS\", \"NAME_CATGY\"]]\n",
    "status"
   ]
  },
  {
   "cell_type": "code",
   "execution_count": null,
   "metadata": {},
   "outputs": [],
   "source": [
    "filtered = layer[layer[\"NAME_CATGY\"] == \"Natural Community\"]\n",
    "filtered"
   ]
  },
  {
   "cell_type": "code",
   "execution_count": null,
   "metadata": {},
   "outputs": [],
   "source": [
    "confidenceLevel = layer[layer[\"ACCURACY\"].isin([\"2-High\", \"4-Low\"])]\n",
    "confidenceLevel"
   ]
  },
  {
   "cell_type": "code",
   "execution_count": null,
   "metadata": {},
   "outputs": [],
   "source": [
    "selectionOne = layer[layer[\"EO_RANK\"]== \"E\"]\n",
    "selectionOne"
   ]
  },
  {
   "cell_type": "code",
   "execution_count": null,
   "metadata": {},
   "outputs": [],
   "source": [
    "selectionTwo = layer[layer[\"NAME_CATGY\"].notna()]\n",
    "selectionTwo"
   ]
  },
  {
   "cell_type": "code",
   "execution_count": null,
   "metadata": {},
   "outputs": [],
   "source": [
    "sampleLoc = layer.loc[layer[\"NAME_CATGY\"]== \"Natural Community\", \"EO_RANK\"]\n",
    "sampleLoc"
   ]
  },
  {
   "cell_type": "code",
   "execution_count": null,
   "metadata": {},
   "outputs": [],
   "source": [
    "sampleIloc = layer.iloc[2:4, 2:6]\n",
    "sampleIloc"
   ]
  },
  {
   "cell_type": "code",
   "execution_count": null,
   "metadata": {},
   "outputs": [],
   "source": [
    "layer = pd.read_csv(r\"C:\\Users\\yuri7100\\Desktop\\Data.csv\")\n",
    "layer.head(9)\n",
    "#layer[:5]"
   ]
  },
  {
   "cell_type": "code",
   "execution_count": null,
   "metadata": {},
   "outputs": [],
   "source": [
    "selectAccuracy = layer[layer[\"ACCURACY\"] == \"3-Medium\"]\n",
    "selectAccuracy"
   ]
  },
  {
   "cell_type": "code",
   "execution_count": null,
   "metadata": {},
   "outputs": [],
   "source": [
    "selectObsRank = layer[(layer[\"LAST_OBS\"] == \"2007-05-15\") & (layer[\"NAME_CATGY\"]  == \"Animal\")]\n",
    "selectObsRank"
   ]
  },
  {
   "cell_type": "code",
   "execution_count": null,
   "metadata": {},
   "outputs": [],
   "source": [
    "selectLoc = layer.loc[layer[\"EO_STATUS\"] == \"Historical\", \"LAST_OBS\"]\n",
    "selectLoc"
   ]
  },
  {
   "cell_type": "code",
   "execution_count": null,
   "metadata": {},
   "outputs": [],
   "source": [
    "selectIloc = layer.iloc[:5, :3]\n",
    "selectIloc"
   ]
  },
  {
   "cell_type": "code",
   "execution_count": null,
   "metadata": {},
   "outputs": [],
   "source": [
    "layer[\"Elevation\"] = layer[\"Shape_Length\"] / 10"
   ]
  },
  {
   "cell_type": "code",
   "execution_count": null,
   "metadata": {},
   "outputs": [],
   "source": [
    "layer.head()"
   ]
  },
  {
   "cell_type": "code",
   "execution_count": null,
   "metadata": {},
   "outputs": [],
   "source": [
    "#layer[\"Dates\"] = (layer[\"LAST_OBS\"] + layer[\"DATA_DATE\"])\n",
    "layer.head()"
   ]
  },
  {
   "cell_type": "code",
   "execution_count": null,
   "metadata": {},
   "outputs": [],
   "source": [
    "layer[\"EO_ID\"].mean()"
   ]
  },
  {
   "cell_type": "code",
   "execution_count": null,
   "metadata": {},
   "outputs": [],
   "source": [
    "layer[[\"EO_ID\", \"Shape_Length\"]].median()"
   ]
  },
  {
   "cell_type": "code",
   "execution_count": null,
   "metadata": {},
   "outputs": [],
   "source": [
    "layer.agg(\n",
    "    {\n",
    "        \"EO_ID\": [\"min\", \"max\", \"median\", \"skew\"],\n",
    "        \"Shape_Length\": [\"min\", \"max\", \"median\", \"mean\"],\n",
    "    }\n",
    " )"
   ]
  },
  {
   "cell_type": "code",
   "execution_count": null,
   "metadata": {},
   "outputs": [],
   "source": [
    "layer.head(3)"
   ]
  },
  {
   "cell_type": "code",
   "execution_count": null,
   "metadata": {},
   "outputs": [],
   "source": [
    "layer.groupby(\"ACCURACY\").mean()"
   ]
  },
  {
   "cell_type": "code",
   "execution_count": null,
   "metadata": {},
   "outputs": [],
   "source": [
    "layer.groupby(\"ACCURACY\")[\"Elevation\"].mean()"
   ]
  },
  {
   "cell_type": "code",
   "execution_count": null,
   "metadata": {},
   "outputs": [],
   "source": [
    "layer.groupby([\"ACCURACY\",\"EO_ID\"])[\"Elevation\"].mean()"
   ]
  },
  {
   "cell_type": "code",
   "execution_count": null,
   "metadata": {},
   "outputs": [],
   "source": [
    "layer.head()"
   ]
  },
  {
   "cell_type": "code",
   "execution_count": null,
   "metadata": {},
   "outputs": [],
   "source": [
    "mtns = {\n",
    "    \"Hibriten\": 2300,\n",
    "    \"Hen\": 1850,\n",
    "    \"Timbered Ridge\": 1500\n",
    "}\n",
    "\n",
    "mountains = pd.Series(mtns)\n",
    "mountains"
   ]
  },
  {
   "cell_type": "code",
   "execution_count": null,
   "metadata": {},
   "outputs": [],
   "source": [
    "output = mountains*2\n",
    "output"
   ]
  },
  {
   "cell_type": "code",
   "execution_count": null,
   "metadata": {},
   "outputs": [],
   "source": [
    "mountains.get(\"Hibriten\")"
   ]
  },
  {
   "cell_type": "code",
   "execution_count": null,
   "metadata": {},
   "outputs": [],
   "source": [
    "import sys\n",
    "sys.path"
   ]
  },
  {
   "cell_type": "code",
   "execution_count": null,
   "metadata": {},
   "outputs": [],
   "source": [
    "import os\n",
    "os?"
   ]
  },
  {
   "cell_type": "code",
   "execution_count": null,
   "metadata": {},
   "outputs": [],
   "source": [
    "import numpy as np\n",
    "CURVE_CENTER = 80\n",
    "\n",
    "grades = np.array([72, 35, 64, 88, 51, 90, 74, 12])\n",
    "\n",
    "def curve(grades):\n",
    "     average = grades.mean()\n",
    "     change = CURVE_CENTER - average\n",
    "     new_grades = grades + change\n",
    "     return np.clip(new_grades, grades, 100)\n",
    "curve(grades)"
   ]
  },
  {
   "cell_type": "code",
   "execution_count": null,
   "metadata": {},
   "outputs": [],
   "source": [
    "temperatures = np.array([\n",
    "        29.3, 42.1, 18.8, 16.1, 38.0, 12.5,\n",
    "        12.6, 49.9, 38.6, 31.3, 9.2, 22.2\n",
    "   ]).reshape(2,2,3)\n",
    "\n",
    "temperatures"
   ]
  },
  {
   "cell_type": "code",
   "execution_count": null,
   "metadata": {},
   "outputs": [],
   "source": [
    "table = np.array([\n",
    "        [5, 3, 7, 1],\n",
    "        [2, 6, 7 ,9],\n",
    "        [1, 1, 1, 1],\n",
    "        [4, 3, 2, 0],\n",
    "   ])\n",
    "print(table.max(axis=0))\n",
    "print(table.max(axis=1))"
   ]
  },
  {
   "cell_type": "code",
   "execution_count": null,
   "metadata": {},
   "outputs": [],
   "source": [
    "table.sum()"
   ]
  },
  {
   "cell_type": "code",
   "execution_count": null,
   "metadata": {},
   "outputs": [],
   "source": [
    "square = np.array([\n",
    "        [16, 3, 2, 13],\n",
    "        [5, 10, 11, 8],\n",
    "        [9, 6, 7, 12],\n",
    "        [4, 15, 14, 1]\n",
    "   ])\n",
    "\n",
    "for i in range(4):\n",
    "    assert square[:, i].sum() == 34\n",
    "square.ndim"
   ]
  },
  {
   "cell_type": "code",
   "execution_count": null,
   "metadata": {},
   "outputs": [],
   "source": [
    "np.__version__"
   ]
  },
  {
   "cell_type": "code",
   "execution_count": null,
   "metadata": {},
   "outputs": [],
   "source": [
    "import numpy as np\n",
    "\n",
    "arr = np.array([[2200, 1850], \n",
    "        [2000, 1980]])\n",
    "arr[0][1]\n",
    "\n",
    "arr.ndim\n"
   ]
  },
  {
   "cell_type": "code",
   "execution_count": 58,
   "metadata": {},
   "outputs": [
    {
     "output_type": "stream",
     "name": "stdout",
     "text": [
      "3\n[[ 2  4  6]\n [ 8 10 12]]\n[[5 7 9]\n [5 7 9]]\n[[ 6 15]\n [ 6 15]]\n"
     ]
    }
   ],
   "source": [
    "arr2 = np.array([[[1, 2, 3], \n",
    "                  [4, 5, 6]], \n",
    "                  [[1, 2, 3], \n",
    "                  [4, 5, 6]]])\n",
    "\n",
    "print(arr2.ndim)\n",
    "print(arr2.sum(axis=0))\n",
    "print(arr2.sum(axis=1))\n",
    "print(arr2.sum(axis=2))"
   ]
  },
  {
   "cell_type": "code",
   "execution_count": 61,
   "metadata": {},
   "outputs": [
    {
     "output_type": "execute_result",
     "data": {
      "text/plain": [
       "array([[0., 0., 0., 0., 0., 0., 0., 0., 0., 0.],\n",
       "       [0., 0., 0., 0., 0., 0., 0., 0., 0., 0.],\n",
       "       [0., 0., 0., 0., 0., 0., 0., 0., 0., 0.],\n",
       "       [0., 0., 0., 0., 0., 0., 0., 0., 0., 0.],\n",
       "       [0., 0., 0., 0., 0., 0., 0., 0., 0., 0.],\n",
       "       [0., 0., 0., 0., 0., 0., 0., 0., 0., 0.],\n",
       "       [0., 0., 0., 0., 0., 0., 0., 0., 0., 0.],\n",
       "       [0., 0., 0., 0., 0., 0., 0., 0., 0., 0.],\n",
       "       [0., 0., 0., 0., 0., 0., 0., 0., 0., 0.],\n",
       "       [0., 0., 0., 0., 0., 0., 0., 0., 0., 0.]])"
      ]
     },
     "metadata": {},
     "execution_count": 61
    }
   ],
   "source": [
    "test1 = np.zeros((10,10))\n",
    "test1.dtype\n",
    "test1"
   ]
  },
  {
   "cell_type": "code",
   "execution_count": 65,
   "metadata": {},
   "outputs": [
    {
     "output_type": "execute_result",
     "data": {
      "text/plain": [
       "array([3, 7])"
      ]
     },
     "metadata": {},
     "execution_count": 65
    }
   ],
   "source": [
    "x = np.array([[1,2],[3,4]])\n",
    "x.sum(axis=1)"
   ]
  },
  {
   "cell_type": "code",
   "execution_count": 77,
   "metadata": {},
   "outputs": [
    {
     "output_type": "stream",
     "name": "stdout",
     "text": [
      "[ 6  7  8  9 10 11]\n"
     ]
    }
   ],
   "source": [
    "import numpy as np\n",
    "\n",
    "a = np.array([[0,1,2,3], [4,5,6,7], [8,9,10,11]])\n",
    "#print(a)\n",
    "\n",
    "lastrow = a[2]\n",
    "#print(lastrow.dtype)\n",
    "\n",
    "firstcol = a[:, 0]\n",
    "a_gt_5 = a > 5\n",
    "#print(a_gt_5)\n",
    "\n",
    "print(a[a>5])\n",
    "\n"
   ]
  },
  {
   "cell_type": "code",
   "execution_count": 85,
   "metadata": {},
   "outputs": [
    {
     "output_type": "execute_result",
     "data": {
      "text/plain": [
       "  Date (MM/DD/YYYY) Time (HH:mm:ss)  Time (Fract. Sec) Site Name  \\\n",
       "0         5/27/2021         9:05:23                  0        PK   \n",
       "1         5/27/2021         9:05:26                  0        PK   \n",
       "2         5/27/2021         9:05:29                  0        PK   \n",
       "3         5/27/2021         9:05:32                  0        PK   \n",
       "4         5/27/2021         9:05:35                  0        PK   \n",
       "\n",
       "   Chlorophyll RFU  Chlorophyll ug/L  Cond µS/cm  Depth m  fDOM QSU  fDOM RFU  \\\n",
       "0             0.39              1.63        36.3    0.233     11.50      3.79   \n",
       "1             0.39              1.63        36.3    0.233     11.51      3.79   \n",
       "2             0.37              1.55        36.3    0.233     11.51      3.79   \n",
       "3             0.35              1.49        36.3    0.233     11.50      3.78   \n",
       "4             0.37              1.56        36.3    0.233     11.51      3.79   \n",
       "\n",
       "   ...  pH mV  Temp °C  Vertical Position m  GPS Latitude °  GPS Longitude °  \\\n",
       "0  ...  -30.5    9.947                0.228        44.75709        -122.3655   \n",
       "1  ...  -30.4    9.948                0.228        44.75709        -122.3655   \n",
       "2  ...  -30.3    9.947                0.230        44.75708        -122.3655   \n",
       "3  ...  -30.2    9.947                0.243        44.75708        -122.3655   \n",
       "4  ...  -30.2    9.943                0.227        44.75708        -122.3655   \n",
       "\n",
       "   Altitude m  Battery V  Cable Pwr V  Barometer mmHg  Depth ft   \n",
       "0       307.8       5.93         12.1           736.4    0.76424  \n",
       "1       309.6       5.93         12.1           736.4    0.76424  \n",
       "2       311.5       5.93         12.1           736.3    0.76424  \n",
       "3       311.0       5.93         12.1           736.4    0.76424  \n",
       "4       309.7       5.93         12.1           736.4    0.76424  \n",
       "\n",
       "[5 rows x 34 columns]"
      ],
      "text/html": "<div>\n<style scoped>\n    .dataframe tbody tr th:only-of-type {\n        vertical-align: middle;\n    }\n\n    .dataframe tbody tr th {\n        vertical-align: top;\n    }\n\n    .dataframe thead th {\n        text-align: right;\n    }\n</style>\n<table border=\"1\" class=\"dataframe\">\n  <thead>\n    <tr style=\"text-align: right;\">\n      <th></th>\n      <th>Date (MM/DD/YYYY)</th>\n      <th>Time (HH:mm:ss)</th>\n      <th>Time (Fract. Sec)</th>\n      <th>Site Name</th>\n      <th>Chlorophyll RFU</th>\n      <th>Chlorophyll ug/L</th>\n      <th>Cond µS/cm</th>\n      <th>Depth m</th>\n      <th>fDOM QSU</th>\n      <th>fDOM RFU</th>\n      <th>...</th>\n      <th>pH mV</th>\n      <th>Temp °C</th>\n      <th>Vertical Position m</th>\n      <th>GPS Latitude °</th>\n      <th>GPS Longitude °</th>\n      <th>Altitude m</th>\n      <th>Battery V</th>\n      <th>Cable Pwr V</th>\n      <th>Barometer mmHg</th>\n      <th>Depth ft</th>\n    </tr>\n  </thead>\n  <tbody>\n    <tr>\n      <th>0</th>\n      <td>5/27/2021</td>\n      <td>9:05:23</td>\n      <td>0</td>\n      <td>PK</td>\n      <td>0.39</td>\n      <td>1.63</td>\n      <td>36.3</td>\n      <td>0.233</td>\n      <td>11.50</td>\n      <td>3.79</td>\n      <td>...</td>\n      <td>-30.5</td>\n      <td>9.947</td>\n      <td>0.228</td>\n      <td>44.75709</td>\n      <td>-122.3655</td>\n      <td>307.8</td>\n      <td>5.93</td>\n      <td>12.1</td>\n      <td>736.4</td>\n      <td>0.76424</td>\n    </tr>\n    <tr>\n      <th>1</th>\n      <td>5/27/2021</td>\n      <td>9:05:26</td>\n      <td>0</td>\n      <td>PK</td>\n      <td>0.39</td>\n      <td>1.63</td>\n      <td>36.3</td>\n      <td>0.233</td>\n      <td>11.51</td>\n      <td>3.79</td>\n      <td>...</td>\n      <td>-30.4</td>\n      <td>9.948</td>\n      <td>0.228</td>\n      <td>44.75709</td>\n      <td>-122.3655</td>\n      <td>309.6</td>\n      <td>5.93</td>\n      <td>12.1</td>\n      <td>736.4</td>\n      <td>0.76424</td>\n    </tr>\n    <tr>\n      <th>2</th>\n      <td>5/27/2021</td>\n      <td>9:05:29</td>\n      <td>0</td>\n      <td>PK</td>\n      <td>0.37</td>\n      <td>1.55</td>\n      <td>36.3</td>\n      <td>0.233</td>\n      <td>11.51</td>\n      <td>3.79</td>\n      <td>...</td>\n      <td>-30.3</td>\n      <td>9.947</td>\n      <td>0.230</td>\n      <td>44.75708</td>\n      <td>-122.3655</td>\n      <td>311.5</td>\n      <td>5.93</td>\n      <td>12.1</td>\n      <td>736.3</td>\n      <td>0.76424</td>\n    </tr>\n    <tr>\n      <th>3</th>\n      <td>5/27/2021</td>\n      <td>9:05:32</td>\n      <td>0</td>\n      <td>PK</td>\n      <td>0.35</td>\n      <td>1.49</td>\n      <td>36.3</td>\n      <td>0.233</td>\n      <td>11.50</td>\n      <td>3.78</td>\n      <td>...</td>\n      <td>-30.2</td>\n      <td>9.947</td>\n      <td>0.243</td>\n      <td>44.75708</td>\n      <td>-122.3655</td>\n      <td>311.0</td>\n      <td>5.93</td>\n      <td>12.1</td>\n      <td>736.4</td>\n      <td>0.76424</td>\n    </tr>\n    <tr>\n      <th>4</th>\n      <td>5/27/2021</td>\n      <td>9:05:35</td>\n      <td>0</td>\n      <td>PK</td>\n      <td>0.37</td>\n      <td>1.56</td>\n      <td>36.3</td>\n      <td>0.233</td>\n      <td>11.51</td>\n      <td>3.79</td>\n      <td>...</td>\n      <td>-30.2</td>\n      <td>9.943</td>\n      <td>0.227</td>\n      <td>44.75708</td>\n      <td>-122.3655</td>\n      <td>309.7</td>\n      <td>5.93</td>\n      <td>12.1</td>\n      <td>736.4</td>\n      <td>0.76424</td>\n    </tr>\n  </tbody>\n</table>\n<p>5 rows × 34 columns</p>\n</div>"
     },
     "metadata": {},
     "execution_count": 85
    }
   ],
   "source": [
    "import pandas as pd\n",
    "\n",
    "table = pd.read_csv(r\"C:\\Users\\yuri7100\\Desktop\\Velocity_Feeds\\Five.27.2021.csv\", encoding=\"latin1\")\n",
    "table.head()"
   ]
  },
  {
   "cell_type": "code",
   "execution_count": 96,
   "metadata": {},
   "outputs": [
    {
     "output_type": "execute_result",
     "data": {
      "text/plain": [
       "     GPS Latitude °  GPS Longitude °\n",
       "0          44.75709        -122.3655\n",
       "1          44.75709        -122.3655\n",
       "2          44.75708        -122.3655\n",
       "3          44.75708        -122.3655\n",
       "4          44.75708        -122.3655\n",
       "..              ...              ...\n",
       "166        44.79101        -122.7501\n",
       "167        44.79101        -122.7501\n",
       "168        44.79101        -122.7501\n",
       "169        44.79101        -122.7501\n",
       "170        44.79101        -122.7501\n",
       "\n",
       "[171 rows x 2 columns]"
      ],
      "text/html": "<div>\n<style scoped>\n    .dataframe tbody tr th:only-of-type {\n        vertical-align: middle;\n    }\n\n    .dataframe tbody tr th {\n        vertical-align: top;\n    }\n\n    .dataframe thead th {\n        text-align: right;\n    }\n</style>\n<table border=\"1\" class=\"dataframe\">\n  <thead>\n    <tr style=\"text-align: right;\">\n      <th></th>\n      <th>GPS Latitude °</th>\n      <th>GPS Longitude °</th>\n    </tr>\n  </thead>\n  <tbody>\n    <tr>\n      <th>0</th>\n      <td>44.75709</td>\n      <td>-122.3655</td>\n    </tr>\n    <tr>\n      <th>1</th>\n      <td>44.75709</td>\n      <td>-122.3655</td>\n    </tr>\n    <tr>\n      <th>2</th>\n      <td>44.75708</td>\n      <td>-122.3655</td>\n    </tr>\n    <tr>\n      <th>3</th>\n      <td>44.75708</td>\n      <td>-122.3655</td>\n    </tr>\n    <tr>\n      <th>4</th>\n      <td>44.75708</td>\n      <td>-122.3655</td>\n    </tr>\n    <tr>\n      <th>...</th>\n      <td>...</td>\n      <td>...</td>\n    </tr>\n    <tr>\n      <th>166</th>\n      <td>44.79101</td>\n      <td>-122.7501</td>\n    </tr>\n    <tr>\n      <th>167</th>\n      <td>44.79101</td>\n      <td>-122.7501</td>\n    </tr>\n    <tr>\n      <th>168</th>\n      <td>44.79101</td>\n      <td>-122.7501</td>\n    </tr>\n    <tr>\n      <th>169</th>\n      <td>44.79101</td>\n      <td>-122.7501</td>\n    </tr>\n    <tr>\n      <th>170</th>\n      <td>44.79101</td>\n      <td>-122.7501</td>\n    </tr>\n  </tbody>\n</table>\n<p>171 rows × 2 columns</p>\n</div>"
     },
     "metadata": {},
     "execution_count": 96
    }
   ],
   "source": [
    "latLong = table[[\"GPS Latitude °\", \"GPS Longitude °\"]]\n",
    "latLong"
   ]
  },
  {
   "cell_type": "code",
   "execution_count": 15,
   "metadata": {},
   "outputs": [],
   "source": [
    "table.to_json(r\"C:\\Users\\yuri7100\\Desktop\\Velocity_Feeds\\test.json\", orient=\"index\")"
   ]
  },
  {
   "cell_type": "code",
   "execution_count": 6,
   "metadata": {},
   "outputs": [
    {
     "output_type": "execute_result",
     "data": {
      "text/plain": [
       "array([[6.23042070e-307, 2.22523004e-307, 1.24610994e-306,\n",
       "        9.34605037e-307],\n",
       "       [2.33648883e-307, 1.60219578e-306, 9.34605037e-307,\n",
       "        6.23059726e-307],\n",
       "       [8.90104239e-307, 1.33511290e-306, 2.55899112e-307,\n",
       "        3.56033887e-307],\n",
       "       [1.11261027e-306, 1.11261502e-306, 1.42410839e-306,\n",
       "        7.56597770e-307],\n",
       "       [6.23059726e-307, 1.42419530e-306, 1.37961302e-306,\n",
       "        9.79094970e-307],\n",
       "       [1.78019354e-306, 6.89810244e-307, 9.34609111e-307,\n",
       "        2.56765117e-312]])"
      ]
     },
     "metadata": {},
     "execution_count": 6
    }
   ],
   "source": [
    "import numpy as np\n",
    "x = np.ndarray((6,4))\n",
    "x"
   ]
  },
  {
   "cell_type": "code",
   "execution_count": 8,
   "metadata": {},
   "outputs": [
    {
     "output_type": "execute_result",
     "data": {
      "text/plain": [
       "6"
      ]
     },
     "metadata": {},
     "execution_count": 8
    }
   ],
   "source": [
    "len(x[:,1])"
   ]
  },
  {
   "cell_type": "code",
   "execution_count": 10,
   "metadata": {},
   "outputs": [
    {
     "output_type": "execute_result",
     "data": {
      "text/plain": [
       "4"
      ]
     },
     "metadata": {},
     "execution_count": 10
    }
   ],
   "source": [
    "len(x[2:,2:])"
   ]
  },
  {
   "cell_type": "code",
   "execution_count": 11,
   "metadata": {},
   "outputs": [
    {
     "output_type": "execute_result",
     "data": {
      "text/plain": [
       "array([[2.55899112e-307, 3.56033887e-307],\n",
       "       [1.42410839e-306, 7.56597770e-307],\n",
       "       [1.37961302e-306, 9.79094970e-307],\n",
       "       [9.34609111e-307, 2.56765117e-312]])"
      ]
     },
     "metadata": {},
     "execution_count": 11
    }
   ],
   "source": [
    "x[2:,2:]"
   ]
  },
  {
   "cell_type": "code",
   "execution_count": 13,
   "metadata": {},
   "outputs": [
    {
     "output_type": "execute_result",
     "data": {
      "text/plain": [
       "dtype('float64')"
      ]
     },
     "metadata": {},
     "execution_count": 13
    }
   ],
   "source": [
    "x = np.zeros((6,4))\n",
    "typ = x[-1,-1]\n",
    "typ.dtype"
   ]
  },
  {
   "cell_type": "code",
   "execution_count": null,
   "metadata": {},
   "outputs": [],
   "source": []
  }
 ]
}