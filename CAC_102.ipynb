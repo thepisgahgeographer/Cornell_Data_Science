{
 "metadata": {
  "language_info": {
   "codemirror_mode": {
    "name": "ipython",
    "version": 3
   },
   "file_extension": ".py",
   "mimetype": "text/x-python",
   "name": "python",
   "nbconvert_exporter": "python",
   "pygments_lexer": "ipython3",
   "version": "3.8.5"
  },
  "orig_nbformat": 2,
  "kernelspec": {
   "name": "python3",
   "display_name": "Python 3.8.5 64-bit ('GISAPI': conda)"
  },
  "interpreter": {
   "hash": "d36bcb9db2b01809dd0786a778839d7cb7bf4091d5809431ddbab2266db9b46f"
  }
 },
 "nbformat": 4,
 "nbformat_minor": 2,
 "cells": [
  {
   "cell_type": "code",
   "execution_count": null,
   "source": [
    "def abs(x):\r\n",
    "    if x>=0:\r\n",
    "        return x\r\n",
    "    else:\r\n",
    "        return -x\r\n",
    "\r\n",
    "abs(-4)"
   ],
   "outputs": [],
   "metadata": {}
  },
  {
   "cell_type": "code",
   "execution_count": null,
   "source": [
    "def add(x, y):\r\n",
    "    result = x + y\r\n",
    "    return result\r\n",
    "\r\n",
    "add(10.2, 2)"
   ],
   "outputs": [],
   "metadata": {}
  },
  {
   "cell_type": "code",
   "execution_count": null,
   "source": [
    "def add(x, y):\r\n",
    "    result = x + y\r\n",
    "    return result\r\n",
    "\r\n",
    "add(2,3)"
   ],
   "outputs": [],
   "metadata": {}
  },
  {
   "cell_type": "code",
   "execution_count": 3,
   "source": [
    "print('Hello, my name is', 'Yuri', sep=': ', end='.')"
   ],
   "outputs": [
    {
     "output_type": "stream",
     "name": "stdout",
     "text": [
      "Hello, my name is: Yuri."
     ]
    }
   ],
   "metadata": {}
  },
  {
   "cell_type": "code",
   "execution_count": 6,
   "source": [
    "my_dict = {'a':1, 'b':2, 'c':3, 'd':4, 'e':5, 'f':6, 'g':7, 'h':8, 'i':9}\r\n",
    "\r\n",
    "def print_keys_and_values(adict):\r\n",
    "    \"\"\"\r\n",
    "    Returns a list of strings, where each key and value is converted to a string, and each key-value pair is concatenated.\r\n",
    "    NOTE: we use the builtin str() function to convert \r\n",
    "\t\tadict's keys and values to strings.\r\n",
    "    \"\"\"\r\n",
    "    new_list = []\r\n",
    "    for key, value in adict.items():\r\n",
    "        pair = str(key.upper()) + str(value)\r\n",
    "        new_list.append(pair)\r\n",
    "    return new_list\r\n",
    "\r\n",
    "print_keys_and_values(my_dict)"
   ],
   "outputs": [
    {
     "output_type": "execute_result",
     "data": {
      "text/plain": [
       "['A1', 'B2', 'C3', 'D4', 'E5', 'F6', 'G7', 'H8', 'I9']"
      ]
     },
     "metadata": {},
     "execution_count": 6
    }
   ],
   "metadata": {}
  },
  {
   "cell_type": "code",
   "execution_count": 7,
   "source": [
    "my_dict = {'a':1, 'b':2, 'c':3, 'd':4, 'e':5, 'f':6, 'g':7, 'h':8, 'i':9}\r\n",
    "\r\n",
    "def print_keys_and_values(adict):\r\n",
    "    \"\"\"\r\n",
    "    Returns a list of strings, where each key and value is converted to a string, and each key-value pair is    \r\n",
    "    concatenated. NOTE: we use the builtin str() function to convert \r\n",
    "\t\tadict's keys and values to strings.\r\n",
    "    \"\"\"\r\n",
    "    newList = []\r\n",
    "    for key, value in adict.items():\r\n",
    "        val = str(key) + str(value)\r\n",
    "        newList.append(val)\r\n",
    "    return newList\r\n",
    "\r\n",
    "print_keys_and_values(my_dict)\r\n"
   ],
   "outputs": [
    {
     "output_type": "execute_result",
     "data": {
      "text/plain": [
       "['a1', 'b2', 'c3', 'd4', 'e5', 'f6', 'g7', 'h8', 'i9']"
      ]
     },
     "metadata": {},
     "execution_count": 7
    }
   ],
   "metadata": {}
  },
  {
   "cell_type": "code",
   "execution_count": null,
   "source": [
    "import random\r\n",
    "\r\n",
    "my_list = [1,3,5,7,9]\r\n",
    "\r\n",
    "def get_N_random_elements_from_list(alist, N):\r\n",
    "    \"\"\"\r\n",
    "    Returns a new list that chooses N elements randomly from alist,\r\n",
    "    using the random.choice function, which can choose the same element more than once.\r\n",
    "    The resulting list that is returned should have N elements in it.\r\n",
    "    \"\"\"\r\n",
    "    counter = 0\r\n",
    "    new_list = []\r\n",
    "    while counter < N:\r\n",
    "        random_element = random.choice(alist)\r\n",
    "        new_list.append(random_element)\r\n",
    "        counter = counter + 1\r\n",
    "    return new_list\r\n",
    "get_N_random_elements_from_list(my_list, 10)"
   ],
   "outputs": [],
   "metadata": {}
  },
  {
   "cell_type": "code",
   "execution_count": null,
   "source": [
    "import random\r\n",
    "\r\n",
    "my_list = [1,3,5,7,9]\r\n",
    "\r\n",
    "my_dict = {'a':1, 'b':2, 'c':3, 'd':4, 'e':5, 'f':6, 'g':7, 'h':8, 'i':9}\r\n",
    "\r\n",
    "def multiply_list_by(alist, multiplier):\r\n",
    "    \"\"\"\r\n",
    "    Returns a new list that multiplies each element of alist by the multiplier, so that the new list is the same length as alist, and the n'th element of new_list is equal to multiplier times the n'th element of alist\r\n",
    "    \"\"\"\r\n",
    "    new_list = []\r\n",
    "    for elem in alist:\r\n",
    "        new_list.append(elem*multiplier)\r\n",
    "    return new_list\r\n",
    "\r\n",
    "def print_keys_and_values(adict):\r\n",
    "    \"\"\"\r\n",
    "    Returns a list of strings, where each key and value is converted to a string, and each key-value pair is concatenated.\r\n",
    "    NOTE: we use the builtin str() function to convert \r\n",
    "\t\tadict's keys and values to strings.\r\n",
    "    \"\"\"\r\n",
    "    new_list = []\r\n",
    "    for key, value in adict.items():\r\n",
    "        pair = str(key) + str(value)\r\n",
    "        new_list.append(pair)\r\n",
    "    return new_list\r\n",
    "\r\n",
    "def get_N_random_elements_from_list(alist, N):\r\n",
    "    \"\"\"\r\n",
    "    Returns a new list that chooses N elements randomly from alist,\r\n",
    "    using the random.choice function, which can choose the same element more than once.\r\n",
    "    The resulting list that is returned should have N elements in it.\r\n",
    "    \"\"\"\r\n",
    "    counter = 0\r\n",
    "    new_list = []\r\n",
    "    while counter < N:\r\n",
    "        random_element = random.choice(alist)\r\n",
    "        new_list.append(random_element)\r\n",
    "        counter = counter + 1\r\n",
    "    return new_list\r\n",
    "  \r\n",
    "get_N_random_elements_from_list(my_list, 20)"
   ],
   "outputs": [],
   "metadata": {}
  },
  {
   "cell_type": "code",
   "execution_count": null,
   "source": [
    "n = 12\r\n",
    "while n > 0:\r\n",
    "    n = n-1\r\n",
    "    print(n)"
   ],
   "outputs": [],
   "metadata": {}
  },
  {
   "cell_type": "code",
   "execution_count": null,
   "source": [
    "x = 3\r\n",
    "y = 4\r\n",
    "if (x+y) < 8:\r\n",
    "    print(\"sum is less than 8\")\r\n",
    "elif (x + y) == 8:\r\n",
    "    print(\"sum is equal to 8\")\r\n",
    "else:\r\n",
    "    print(\"sum is greater than 8\")"
   ],
   "outputs": [],
   "metadata": {}
  },
  {
   "cell_type": "code",
   "execution_count": null,
   "source": [
    "condition = (3 < 4)\r\n",
    "if condition:\r\n",
    "    print(\"condition is True\")\r\n",
    "else:\r\n",
    "    print(\"condition is False\")"
   ],
   "outputs": [],
   "metadata": {}
  },
  {
   "cell_type": "code",
   "execution_count": null,
   "source": [
    "squares = [n**2 for n in range(25) if n%2==0]\r\n",
    "squares"
   ],
   "outputs": [],
   "metadata": {}
  },
  {
   "cell_type": "code",
   "execution_count": null,
   "source": [
    "my_list = [1, 3, 14, 22, 29, 43, 89, 102, 256]\r\n",
    "\r\n",
    "def extract_even_numbers_in_list(alist):\r\n",
    "    \"\"\"\r\n",
    "    Returns a list of the numbers in the input alist\r\n",
    "    that are even numbers\r\n",
    "\r\n",
    "    NOTE: n%2 == 0 if n is even,  n%2 == 1 if n is odd\r\n",
    "    \"\"\"\r\n",
    "    result = []\r\n",
    "    for elem in alist:\r\n",
    "        if elem%2 == 0:\r\n",
    "            result.append(elem)\r\n",
    "    return result\r\n",
    "\r\n",
    "\r\n",
    "my_evens = extract_even_numbers_in_list(my_list)\r\n",
    "\r\n",
    "\r\n",
    "my_evens2 = [elem for elem in my_list if elem%2==0]\r\n",
    "my_evens"
   ],
   "outputs": [],
   "metadata": {}
  },
  {
   "cell_type": "code",
   "execution_count": null,
   "source": [
    "s = 'The answer is 42, but many people guess 12.'\r\n",
    "\r\n",
    "def extract_digits_from_string(s):\r\n",
    "    \"\"\"\r\n",
    "    Returns a list of all the digits that appear in a string,\r\n",
    "    in the order in which they are encountered.\r\n",
    "    \"\"\"\r\n",
    "    result = []\r\n",
    "    for c in s:\r\n",
    "        if c.isdigit():\r\n",
    "            result.append(c)\r\n",
    "    return result\r\n",
    "\r\n",
    "str_digits2 = [c for c in s if c.isdigit()]\r\n",
    "str_digits2\r\n",
    "\r\n"
   ],
   "outputs": [],
   "metadata": {}
  },
  {
   "cell_type": "code",
   "execution_count": null,
   "source": [
    "dict = {\r\n",
    "    \"Hibriten\": 2200,\r\n",
    "    \"Hen\": 1800\r\n",
    "}\r\n",
    "\r\n",
    "def make_dict_of_squares(n):\r\n",
    "    \"\"\"\r\n",
    "    Returns a dictionary that maps from integers to their squares, \r\n",
    "    starting with 0 and ending at one less than the input n\r\n",
    "    \"\"\"\r\n",
    "    result = {}\r\n",
    "    for i in range(n):\r\n",
    "        result[i] = i*i\r\n",
    "    return result\r\n",
    "make_dict_of_squares(10)\r\n",
    "\r\n",
    "squares2 = {x: x**2 for x in range(10)}\r\n",
    "squares2"
   ],
   "outputs": [],
   "metadata": {}
  },
  {
   "cell_type": "code",
   "execution_count": null,
   "source": [
    "for val in range(1,51,2):\r\n",
    "    print(val)\r\n",
    "\r\n",
    "[j for j in range(1,51,2) if j%2==0]\r\n",
    "tset\r\n",
    "9%2"
   ],
   "outputs": [],
   "metadata": {}
  },
  {
   "cell_type": "code",
   "execution_count": null,
   "source": [
    "[i for i in range(10) if True]"
   ],
   "outputs": [],
   "metadata": {}
  },
  {
   "cell_type": "code",
   "execution_count": null,
   "source": [
    "dict1 = {'a': 1, 'b': 2, 'c': 3, 'd': 4, 'e': 5}\r\n",
    "\r\n",
    "dict2 = {'c': 10, 'd': 20, 'e': 30, 'f': 40, 'g': 50}\r\n",
    "\r\n",
    "#shared_keys = {k for k in dict1.keys() if k in dict2.keys()}\r\n",
    "\r\n",
    "key1 = set(dict1.keys())\r\n",
    "key2 = set(dict2.keys())\r\n",
    "shared_keys = key1.intersection(key2)\r\n",
    "print(shared_keys)\r\n",
    "\r\n",
    "val1 = set(dict1.values())\r\n",
    "val2 = set(dict2.keys())\r\n",
    "shared_values = val1.intersection(val2)\r\n",
    "print(shared_values)"
   ],
   "outputs": [],
   "metadata": {}
  },
  {
   "cell_type": "code",
   "execution_count": null,
   "source": [
    "def sum_and_difference(x,y):\r\n",
    "    return x+y, x-y\r\n",
    "\r\n",
    "a,b = sum_and_difference(10,20)\r\n",
    "b"
   ],
   "outputs": [],
   "metadata": {}
  },
  {
   "cell_type": "code",
   "execution_count": null,
   "source": [
    "def product_and_ratio(x,y):\r\n",
    "    return x*y, x/y\r\n",
    "product_and_ratio(10, 20)"
   ],
   "outputs": [],
   "metadata": {}
  },
  {
   "cell_type": "code",
   "execution_count": null,
   "source": [
    "letters = \"ABCDEFGHIJKLMNOPQRSTUVWXYZabcdefghijklmnopqrstuvwxyz\"\r\n",
    "cipher = {letters[i]: letters[(i-3) % len(letters)] for i in range(len(letters))}\r\n",
    "\r\n",
    "def transform_message(message, cipher):\r\n",
    "    tmsg = \" \"\r\n",
    "    for c in message:\r\n",
    "        if c in cipher:\r\n",
    "            tmsg = tmsg + cipher[c]\r\n",
    "        else:\r\n",
    "            tmsg = tmsg + c\r\n",
    "    return tmsg\r\n",
    "\r\n",
    "\r\n",
    "test = \"I come to bury Caesar, not to praise him.\"\r\n",
    "\r\n",
    "transform_message(test, cipher)\r\n",
    "\r\n",
    "decode = {value: key for key, value in cipher.items()}\r\n",
    "decode"
   ],
   "outputs": [],
   "metadata": {}
  },
  {
   "cell_type": "markdown",
   "source": [
    "### Classes"
   ],
   "metadata": {}
  },
  {
   "cell_type": "code",
   "execution_count": null,
   "source": [
    "my_list = [1, 3, 14, 22, 29, 43, 89, 102, 256]\r\n",
    "my_list.__len__()"
   ],
   "outputs": [],
   "metadata": {}
  },
  {
   "cell_type": "code",
   "execution_count": null,
   "source": [
    "class bike:\r\n",
    "    def __init__(self, brand):\r\n",
    "        self.brand = brand\r\n",
    "        \r\n",
    "\r\n",
    "test = bike(\"Ragley\")\r\n",
    "test.brand"
   ],
   "outputs": [],
   "metadata": {}
  },
  {
   "cell_type": "code",
   "execution_count": null,
   "source": [
    "class ShiftCipher:\r\n",
    "    \"\"\"\r\n",
    "    ShiftCipher objects that can encrypt and decode text messages based on a specific shift length.\r\n",
    "    \"\"\"\r\n",
    "\r\n",
    "    def __init__(self, shift):\r\n",
    "        \"\"\"\r\n",
    "        Constructs a ShiftCipher for the specified degree of shift (positive or negative),\r\n",
    "        by building a cipher (dictionary mapping from letters to other letters), and \r\n",
    "        a decoder (the inverse of the cipher)\r\n",
    "        \"\"\"\r\n",
    "        self.shift = shift\r\n",
    "        self.letters = \"ABCDEFGHIJKLMNOPQRSTUVWXYZabcdefghijklmnopqrstuvwxyz\"\r\n",
    "        self.cipher = {self.letters[i]: self.letters[(i + shift) % len(self.letters)] for i in range(len  (self.letters))}\r\n",
    "        self.decoder = {value: key for key, value in self.cipher.items()}\r\n",
    "\r\n",
    "    def transform_message(self, message, cipher):\r\n",
    "        \"\"\"\r\n",
    "        Transforms a message using the specified cipher.  Is not called by users directly,\r\n",
    "        and can be called with either the cipher (to encrypt) or the decoder (to decode).\r\n",
    "        \"\"\"\r\n",
    "        tmsg = ''\r\n",
    "        for c in message:\r\n",
    "            tmsg = tmsg + cipher.get(c, c)\r\n",
    "        return tmsg\r\n",
    "\r\n",
    "\r\n",
    "    def encrypt(self, message):\r\n",
    "        \"\"\"\r\n",
    "        Transforms a message using the cipher, by calling self.transform_message\r\n",
    "        \"\"\"\r\n",
    "        return self.transform_message(message, self.cipher)\r\n",
    "\r\n",
    "\r\n",
    "    def decode(self, message):\r\n",
    "        \"\"\"\r\n",
    "        Transforms a message using the decoder, by calling self.transform_message\r\n",
    "        \"\"\"\r\n",
    "        return self.transform_message(message, self.decoder)\r\n",
    "        \r\n",
    "\r\n",
    "\r\n",
    "test = ShiftCipher(-3)\r\n",
    "# print(test.cipher)\r\n",
    "#print(test.decoder)\r\n",
    "# test.letters\r\n",
    "\r\n",
    "# print(test.transform_message(\"HELLO\", test.cipher))\r\n",
    "# print(test)\r\n",
    "print(test.encrypt(\"I come to bury Caesar, not to praise him.\"))\r\n",
    "#print(test.decode('v PbZR gb Ohel pNRfNe, abg gb ceNVfR UVZ.'))\r\n",
    "\r\n",
    "#F Zljb ql Yrov zXbpXo, klq ql moXfpb efj."
   ],
   "outputs": [],
   "metadata": {}
  },
  {
   "cell_type": "code",
   "execution_count": null,
   "source": [
    "# monthly expenses and revenues over course of year\r\n",
    "expenses = [40000., 42500., 47000., 40500., 38000., 36000., 39500., 43000., 47000., 48500., 49000., 50000.]\r\n",
    "revenues = [38000., 42500., 52000., 50000., 48000., 43000., 44500., 45000., 50000., 49500., 52000., 54000.]\r\n",
    "monthly_gross = [revenues[i]-expenses[i] for i in range(12)]\r\n",
    "\r\n",
    "def mean(x):\r\n",
    "    \"\"\"\r\n",
    "    return the mean value of the elements in x\r\n",
    "    by summing the elements and dividing by the length;\r\n",
    "    if the input type does not support this, \r\n",
    "    return the input itself\r\n",
    "    \"\"\"\r\n",
    "    try:\r\n",
    "        return sum(x)/len(x)\r\n",
    "    except TypeError:\r\n",
    "        return x\r\n",
    "\r\n",
    "def compute_quarterly_figures(expenses, revenues):\r\n",
    "    quarterlies = {}\r\n",
    "    for quarter in [1,2,3,4]:\r\n",
    "        start = (quarter - 1)*3\r\n",
    "        end = start + 3\r\n",
    "        total_expenses_qtr = sum(expenses[start:end])\r\n",
    "        mean_expenses = mean(expenses[start:end])\r\n",
    "        total_revenues_qtr = sum(revenues[start:end])\r\n",
    "        mean_revenues = mean(revenues[start:end])\r\n",
    "        total_gross_qtr = total_revenues_qtr - total_expenses_qtr\r\n",
    "        summary = 'Q{}: rev = {:.2f}, exp = {:.2f}, gross = {:.2f}'\r\n",
    "        summary_line = summary.format(\r\n",
    "            quarter, mean_revenues, mean_expenses, total_gross_qtr)\r\n",
    "\r\n",
    "        print(summary_line)\r\n",
    "\r\n",
    "        quarterlies['Q{0}'.format(quarter)] = \\\r\n",
    "          (mean_revenues,mean_expenses, total_gross_qtr)\r\n",
    "    return quarterlies"
   ],
   "outputs": [],
   "metadata": {}
  },
  {
   "cell_type": "code",
   "execution_count": null,
   "source": [
    "\r\n",
    "balance = 100.0\r\n",
    "rate = 0.03\r\n",
    "\r\n",
    "print(0, round(balance,2))\r\n",
    "for n in range(1,11):\r\n",
    "    balance = round(balance * (1 + rate), 2)\r\n",
    "    print(n, round(balance,2))\r\n",
    "\r\n",
    "def compound(balance, rate, num_periods):\r\n",
    "    print(0, round(balance,2))\r\n",
    "    for n in range(num_periods):\r\n",
    "        balance = round(balance * (1 + rate), 2)\r\n",
    "        print(n, round(balance,2))\r\n",
    "\r\n",
    "def compound_by_period(balance, rate, num_periods):\r\n",
    "    lists = []\r\n",
    "    print(0, round(balance,2))\r\n",
    "    for n in range(num_periods):\r\n",
    "        balance = round(balance * (1 + rate), 2)\r\n",
    "        print(n, round(balance,2))\r\n",
    "        lists.append(balance)\r\n",
    "    return lists\r\n",
    "\r\n",
    "def change_per_period(balance, rate, num_periods):\r\n",
    "    lists = []\r\n",
    "    lis = lists\r\n",
    "    bal = 0\r\n",
    "    print(0, round(balance,2))\r\n",
    "    for n in range(num_periods):\r\n",
    "        balance = round(balance * (1 + rate), 2)\r\n",
    "        print(n, round(balance,2))\r\n",
    "        bal +=n\r\n",
    "        lists.append(balance[n]-bal[i])\r\n",
    "    return lists"
   ],
   "outputs": [],
   "metadata": {}
  },
  {
   "cell_type": "code",
   "execution_count": null,
   "source": [
    "\r\n",
    "balance = 100.0\r\n",
    "rate = 0.03\r\n",
    "\r\n",
    "def compound_by_period(balance, rate, num_periods):\r\n",
    "    lists = []\r\n",
    "    #print(0, round(balance,2))\r\n",
    "    for n in range(num_periods):\r\n",
    "        balance = round(balance * (1 + rate), 2)\r\n",
    "        #print(n, round(balance,2))\r\n",
    "        lists.append(balance)\r\n",
    "    return lists\r\n",
    "\r\n",
    "\r\n",
    "wheat = compound_by_period(1, 1, 63)\r\n",
    "print(wheat)\r\n",
    "\r\n",
    "total_wheat = sum(wheat)\r\n",
    "print(total_wheat)"
   ],
   "outputs": [],
   "metadata": {}
  },
  {
   "cell_type": "code",
   "execution_count": null,
   "source": [
    "lists = [j for j in range(10) if j%2==0]\r\n",
    "lists"
   ],
   "outputs": [],
   "metadata": {}
  },
  {
   "cell_type": "code",
   "execution_count": null,
   "source": [
    "tup = ([1, 2, 3], \"Lake Norman State Park\", 0.315)\r\n",
    "type(tup)\r\n",
    "print(tup[0][1])"
   ],
   "outputs": [],
   "metadata": {}
  },
  {
   "cell_type": "code",
   "execution_count": null,
   "source": [
    "def myfunc(n):\r\n",
    "  return len(n)\r\n",
    "\r\n",
    "x = map(myfunc, ('apple', 'banana', 'cherry')) \r\n",
    "for y in x:\r\n",
    "  print(y)\r\n"
   ],
   "outputs": [],
   "metadata": {}
  },
  {
   "cell_type": "code",
   "execution_count": null,
   "source": [
    "pip install --upgrade numpy\r\n"
   ],
   "outputs": [],
   "metadata": {}
  },
  {
   "cell_type": "code",
   "execution_count": null,
   "source": [
    "import sys\r\n",
    "sys.path"
   ],
   "outputs": [],
   "metadata": {}
  },
  {
   "cell_type": "code",
   "execution_count": null,
   "source": [
    "conda -list"
   ],
   "outputs": [],
   "metadata": {}
  },
  {
   "cell_type": "markdown",
   "source": [
    "### Create a program that asks the user to enter their name and their age. Print out a message addressed to them that tells them the year that they will turn 100 years old."
   ],
   "metadata": {}
  },
  {
   "cell_type": "code",
   "execution_count": 20,
   "source": [
    "val = input(\"What is your age\")\r\n",
    "value = int(val)\r\n",
    "\r\n",
    "def age():\r\n",
    "    toHundred = 100 - value\r\n",
    "    return toHundred\r\n",
    "age()"
   ],
   "outputs": [
    {
     "output_type": "execute_result",
     "data": {
      "text/plain": [
       "63"
      ]
     },
     "metadata": {},
     "execution_count": 20
    }
   ],
   "metadata": {}
  },
  {
   "cell_type": "markdown",
   "source": [
    "### Write a function that takes the base and height of a triangle and return its area.\r\n",
    "(base * height) / 2"
   ],
   "metadata": {}
  },
  {
   "cell_type": "code",
   "execution_count": 21,
   "source": [
    "def area(base, height):\r\n",
    "    return (base * height) / 2\r\n",
    "\r\n",
    "area(10, 20)"
   ],
   "outputs": [
    {
     "output_type": "execute_result",
     "data": {
      "text/plain": [
       "100.0"
      ]
     },
     "metadata": {},
     "execution_count": 21
    }
   ],
   "metadata": {}
  },
  {
   "cell_type": "code",
   "execution_count": 22,
   "source": [
    "def sqRT(val, exp):\r\n",
    "    return pow(val, exp)\r\n",
    "\r\n",
    "sqRT(5, 2)\r\n",
    "\r\n"
   ],
   "outputs": [
    {
     "output_type": "execute_result",
     "data": {
      "text/plain": [
       "25"
      ]
     },
     "metadata": {},
     "execution_count": 22
    }
   ],
   "metadata": {}
  },
  {
   "cell_type": "code",
   "execution_count": null,
   "source": [],
   "outputs": [],
   "metadata": {}
  }
 ]
}