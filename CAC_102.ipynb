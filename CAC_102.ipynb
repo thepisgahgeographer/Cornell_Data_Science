{
 "metadata": {
  "language_info": {
   "codemirror_mode": {
    "name": "ipython",
    "version": 3
   },
   "file_extension": ".py",
   "mimetype": "text/x-python",
   "name": "python",
   "nbconvert_exporter": "python",
   "pygments_lexer": "ipython3",
   "version": "3.8.5"
  },
  "orig_nbformat": 2,
  "kernelspec": {
   "name": "python3",
   "display_name": "Python 3.8.5 64-bit ('GISAPI': conda)"
  },
  "interpreter": {
   "hash": "d36bcb9db2b01809dd0786a778839d7cb7bf4091d5809431ddbab2266db9b46f"
  }
 },
 "nbformat": 4,
 "nbformat_minor": 2,
 "cells": [
  {
   "cell_type": "code",
   "execution_count": null,
   "metadata": {},
   "outputs": [],
   "source": [
    "def abs(x):\n",
    "    if x>=0:\n",
    "        return x\n",
    "    else:\n",
    "        return -x\n",
    "\n",
    "abs(-4)"
   ]
  },
  {
   "cell_type": "code",
   "execution_count": null,
   "metadata": {},
   "outputs": [],
   "source": [
    "def add(x, y):\n",
    "    result = x + y\n",
    "    return result\n",
    "\n",
    "add(10.2, 2)"
   ]
  },
  {
   "cell_type": "code",
   "execution_count": null,
   "metadata": {},
   "outputs": [],
   "source": [
    "def add(x, y):\n",
    "    result = x + y\n",
    "    return result\n",
    "\n",
    "add(2,3)"
   ]
  },
  {
   "cell_type": "code",
   "execution_count": null,
   "metadata": {},
   "outputs": [],
   "source": [
    "print('Hello, my name is', 'Bob', sep=': ', end='.')"
   ]
  },
  {
   "cell_type": "code",
   "execution_count": null,
   "metadata": {},
   "outputs": [],
   "source": [
    "my_dict = {'a':1, 'b':2, 'c':3, 'd':4, 'e':5, 'f':6, 'g':7, 'h':8, 'i':9}\n",
    "\n",
    "def print_keys_and_values(adict):\n",
    "    \"\"\"\n",
    "    Returns a list of strings, where each key and value is converted to a string, and each key-value pair is concatenated.\n",
    "    NOTE: we use the builtin str() function to convert \n",
    "\t\tadict's keys and values to strings.\n",
    "    \"\"\"\n",
    "    new_list = []\n",
    "    for key, value in adict.items():\n",
    "        pair = str(key) + str(value)\n",
    "        new_list.append(pair)\n",
    "    return new_list\n",
    "\n",
    "print_keys_and_values(my_dict)"
   ]
  },
  {
   "cell_type": "code",
   "execution_count": null,
   "metadata": {},
   "outputs": [],
   "source": [
    "my_dict = {'a':1, 'b':2, 'c':3, 'd':4, 'e':5, 'f':6, 'g':7, 'h':8, 'i':9}\n",
    "\n",
    "def print_keys_and_values(adict):\n",
    "    \"\"\"\n",
    "    Returns a list of strings, where each key and value is converted to a string, and each key-value pair is    \n",
    "    concatenated. NOTE: we use the builtin str() function to convert \n",
    "\t\tadict's keys and values to strings.\n",
    "    \"\"\"\n",
    "    newList = []\n",
    "    for key, value in adict.items():\n",
    "        val = str(key) + str(value)\n",
    "        newList.append(val)\n",
    "    return newList\n",
    "\n",
    "print_keys_and_values(my_dict)\n"
   ]
  },
  {
   "cell_type": "code",
   "execution_count": null,
   "metadata": {},
   "outputs": [],
   "source": [
    "import random\n",
    "\n",
    "my_list = [1,3,5,7,9]\n",
    "\n",
    "def get_N_random_elements_from_list(alist, N):\n",
    "    \"\"\"\n",
    "    Returns a new list that chooses N elements randomly from alist,\n",
    "    using the random.choice function, which can choose the same element more than once.\n",
    "    The resulting list that is returned should have N elements in it.\n",
    "    \"\"\"\n",
    "    counter = 0\n",
    "    new_list = []\n",
    "    while counter < N:\n",
    "        random_element = random.choice(alist)\n",
    "        new_list.append(random_element)\n",
    "        counter = counter + 1\n",
    "    return new_list\n",
    "get_N_random_elements_from_list(my_list, 10)"
   ]
  },
  {
   "cell_type": "code",
   "execution_count": null,
   "metadata": {},
   "outputs": [],
   "source": [
    "import random\n",
    "\n",
    "my_list = [1,3,5,7,9]\n",
    "\n",
    "my_dict = {'a':1, 'b':2, 'c':3, 'd':4, 'e':5, 'f':6, 'g':7, 'h':8, 'i':9}\n",
    "\n",
    "def multiply_list_by(alist, multiplier):\n",
    "    \"\"\"\n",
    "    Returns a new list that multiplies each element of alist by the multiplier, so that the new list is the same length as alist, and the n'th element of new_list is equal to multiplier times the n'th element of alist\n",
    "    \"\"\"\n",
    "    new_list = []\n",
    "    for elem in alist:\n",
    "        new_list.append(elem*multiplier)\n",
    "    return new_list\n",
    "\n",
    "def print_keys_and_values(adict):\n",
    "    \"\"\"\n",
    "    Returns a list of strings, where each key and value is converted to a string, and each key-value pair is concatenated.\n",
    "    NOTE: we use the builtin str() function to convert \n",
    "\t\tadict's keys and values to strings.\n",
    "    \"\"\"\n",
    "    new_list = []\n",
    "    for key, value in adict.items():\n",
    "        pair = str(key) + str(value)\n",
    "        new_list.append(pair)\n",
    "    return new_list\n",
    "\n",
    "def get_N_random_elements_from_list(alist, N):\n",
    "    \"\"\"\n",
    "    Returns a new list that chooses N elements randomly from alist,\n",
    "    using the random.choice function, which can choose the same element more than once.\n",
    "    The resulting list that is returned should have N elements in it.\n",
    "    \"\"\"\n",
    "    counter = 0\n",
    "    new_list = []\n",
    "    while counter < N:\n",
    "        random_element = random.choice(alist)\n",
    "        new_list.append(random_element)\n",
    "        counter = counter + 1\n",
    "    return new_list\n",
    "  \n",
    "get_N_random_elements_from_list(my_list, 20)"
   ]
  },
  {
   "cell_type": "code",
   "execution_count": null,
   "metadata": {},
   "outputs": [],
   "source": [
    "n = 12\n",
    "while n > 0:\n",
    "    n = n-1\n",
    "    print(n)"
   ]
  },
  {
   "cell_type": "code",
   "execution_count": null,
   "metadata": {},
   "outputs": [],
   "source": [
    "x = 3\n",
    "y = 4\n",
    "if (x+y) < 8:\n",
    "    print(\"sum is less than 8\")\n",
    "elif (x + y) == 8:\n",
    "    print(\"sum is equal to 8\")\n",
    "else:\n",
    "    print(\"sum is greater than 8\")"
   ]
  },
  {
   "cell_type": "code",
   "execution_count": null,
   "metadata": {},
   "outputs": [],
   "source": [
    "condition = (3 < 4)\n",
    "if condition:\n",
    "    print(\"condition is True\")\n",
    "else:\n",
    "    print(\"condition is False\")"
   ]
  },
  {
   "cell_type": "code",
   "execution_count": null,
   "metadata": {},
   "outputs": [],
   "source": [
    "squares = [n**2 for n in range(25) if n%2==0]\n",
    "squares"
   ]
  },
  {
   "cell_type": "code",
   "execution_count": null,
   "metadata": {},
   "outputs": [],
   "source": [
    "my_list = [1, 3, 14, 22, 29, 43, 89, 102, 256]\n",
    "\n",
    "def extract_even_numbers_in_list(alist):\n",
    "    \"\"\"\n",
    "    Returns a list of the numbers in the input alist\n",
    "    that are even numbers\n",
    "\n",
    "    NOTE: n%2 == 0 if n is even,  n%2 == 1 if n is odd\n",
    "    \"\"\"\n",
    "    result = []\n",
    "    for elem in alist:\n",
    "        if elem%2 == 0:\n",
    "            result.append(elem)\n",
    "    return result\n",
    "\n",
    "\n",
    "my_evens = extract_even_numbers_in_list(my_list)\n",
    "\n",
    "\n",
    "my_evens2 = [elem for elem in my_list if elem%2==0]\n",
    "my_evens"
   ]
  },
  {
   "cell_type": "code",
   "execution_count": null,
   "metadata": {},
   "outputs": [],
   "source": [
    "s = 'The answer is 42, but many people guess 12.'\n",
    "\n",
    "def extract_digits_from_string(s):\n",
    "    \"\"\"\n",
    "    Returns a list of all the digits that appear in a string,\n",
    "    in the order in which they are encountered.\n",
    "    \"\"\"\n",
    "    result = []\n",
    "    for c in s:\n",
    "        if c.isdigit():\n",
    "            result.append(c)\n",
    "    return result\n",
    "\n",
    "str_digits2 = [c for c in s if c.isdigit()]\n",
    "str_digits2\n",
    "\n"
   ]
  },
  {
   "cell_type": "code",
   "execution_count": null,
   "metadata": {},
   "outputs": [],
   "source": [
    "dict = {\n",
    "    \"Hibriten\": 2200,\n",
    "    \"Hen\": 1800\n",
    "}\n",
    "\n",
    "def make_dict_of_squares(n):\n",
    "    \"\"\"\n",
    "    Returns a dictionary that maps from integers to their squares, \n",
    "    starting with 0 and ending at one less than the input n\n",
    "    \"\"\"\n",
    "    result = {}\n",
    "    for i in range(n):\n",
    "        result[i] = i*i\n",
    "    return result\n",
    "make_dict_of_squares(10)\n",
    "\n",
    "squares2 = {x: x**2 for x in range(10)}\n",
    "squares2"
   ]
  },
  {
   "cell_type": "code",
   "execution_count": null,
   "metadata": {},
   "outputs": [],
   "source": [
    "for val in range(1,51,2):\n",
    "    print(val)\n",
    "\n",
    "[j for j in range(1,51,2) if j%2==0]\n",
    "tset\n",
    "9%2"
   ]
  },
  {
   "cell_type": "code",
   "execution_count": null,
   "metadata": {},
   "outputs": [],
   "source": [
    "[i for i in range(10) if True]"
   ]
  },
  {
   "cell_type": "code",
   "execution_count": null,
   "metadata": {},
   "outputs": [],
   "source": [
    "dict1 = {'a': 1, 'b': 2, 'c': 3, 'd': 4, 'e': 5}\n",
    "\n",
    "dict2 = {'c': 10, 'd': 20, 'e': 30, 'f': 40, 'g': 50}\n",
    "\n",
    "#shared_keys = {k for k in dict1.keys() if k in dict2.keys()}\n",
    "\n",
    "key1 = set(dict1.keys())\n",
    "key2 = set(dict2.keys())\n",
    "shared_keys = key1.intersection(key2)\n",
    "print(shared_keys)\n",
    "\n",
    "val1 = set(dict1.values())\n",
    "val2 = set(dict2.keys())\n",
    "shared_values = val1.intersection(val2)\n",
    "print(shared_values)"
   ]
  },
  {
   "cell_type": "code",
   "execution_count": null,
   "metadata": {},
   "outputs": [],
   "source": [
    "def sum_and_difference(x,y):\n",
    "    return x+y, x-y\n",
    "\n",
    "a,b = sum_and_difference(10,20)\n",
    "b"
   ]
  },
  {
   "cell_type": "code",
   "execution_count": null,
   "metadata": {},
   "outputs": [],
   "source": [
    "def product_and_ratio(x,y):\n",
    "    return x*y, x/y\n",
    "product_and_ratio(10, 20)"
   ]
  },
  {
   "cell_type": "code",
   "execution_count": null,
   "metadata": {},
   "outputs": [],
   "source": [
    "letters = \"ABCDEFGHIJKLMNOPQRSTUVWXYZabcdefghijklmnopqrstuvwxyz\"\n",
    "cipher = {letters[i]: letters[(i-3) % len(letters)] for i in range(len(letters))}\n",
    "\n",
    "def transform_message(message, cipher):\n",
    "    tmsg = \" \"\n",
    "    for c in message:\n",
    "        if c in cipher:\n",
    "            tmsg = tmsg + cipher[c]\n",
    "        else:\n",
    "            tmsg = tmsg + c\n",
    "    return tmsg\n",
    "\n",
    "\n",
    "test = \"I come to bury Caesar, not to praise him.\"\n",
    "\n",
    "transform_message(test, cipher)\n",
    "\n",
    "decode = {value: key for key, value in cipher.items()}\n",
    "decode"
   ]
  },
  {
   "source": [
    "### Classes"
   ],
   "cell_type": "markdown",
   "metadata": {}
  },
  {
   "cell_type": "code",
   "execution_count": null,
   "metadata": {},
   "outputs": [],
   "source": [
    "my_list = [1, 3, 14, 22, 29, 43, 89, 102, 256]\n",
    "my_list.__len__()"
   ]
  },
  {
   "cell_type": "code",
   "execution_count": null,
   "metadata": {},
   "outputs": [],
   "source": [
    "class bike:\n",
    "    def __init__(self, brand):\n",
    "        self.brand = brand\n",
    "        \n",
    "\n",
    "test = bike(\"Ragley\")\n",
    "test.brand"
   ]
  },
  {
   "source": [
    "    Let’s first complete the __init__ method. This is code that is called when you want to create a new ShiftCipher. You’ll see that the __init__ method takes one input beyond the required self: that is the number of letters to shift in the alphabet (either a positive or negative integer). You’ll want to store the value of the shift, and then construct both the self.cipher and self.decoder based upon the value of the shift. In the earlier exercise, you created a minus-3 shift cipher with an expression like this: cipher = {letters[i]: letters[(i-3) % len(letters)] for i in range(len(letters))}. Now you want to create a variable stored in self.cipher, but instead of hard-coding the minus-3 shift as we did previously, we want to create a cipher dictionary based on whatever value of shift we have stored in the variable self.shift. Remember: whenever you use one of these variables inside the class, make sure to prepend the variable name with self.\n",
    "    After you’ve filled in the __init__ method, test it out – run your code file in the interpreter. Now try creating a ShiftCipher with a specific value of the shift parameter:\n",
    "        c0 = ShiftCipher(0) should create a cipher with a shift of 0, not very useful for encrypting, but good for checking that you were able to create a cipher that maps every letter to itself (print the value of c0.cipher to inspect it)\n",
    "        m3 = ShiftCipher(-3) should create a cipher with a shift of -3, as in Caesar’s cipher\n",
    "        p13 = ShiftCipher(13) should create a cipher with a shift of 13, similar to that used in the Zen of Python\n",
    "    The method transform_message is more or less like the function you wrote in the earlier exercise, except now converted to a method for ShiftCipher objects.\n",
    "    Complete both the encrypt and decode methods so that they call self.transform_message with the appropriate cipher. Each of these methods should return a string (either an encrypted one, or a decoded one). Remember: whenever you call one of these functions inside the class, make sure to prepend the function name with self.\n",
    "    After all the methods are defined, you can test your cipher once again. Run your code file in the interpreter and then do the following:\n",
    "        Create a shift=-3 Caesar cipher, and use it to encrypt the test message defined in the code file (“I come to bury Caesar, not to praise him.”). Remember that encrypt is a method that you will call on the cipher you have created. Does the encrypted message read as ‘F Zljb ql Yrov zXbpXo, klq ql moXfpb efj.’ ?\n",
    "        Create a shift=13 cipher, and use it to encrypt the test message defined in the code file (“I come to bury Caesar, not to praise him.”). Does the encrypted message read as ‘’V pBzr GB oHEL PnrFnE, ABG GB CEnvFr uvz.’ ?\n",
    "        Test your cipher to make sure that it encrypts and decodes correctly. If you encrypt a message with a cipher, and then decode it with the same cipher, you should end up with the original message. Because methods return values, you can encrypt and decode all in one line by chaining a series of method calls like this: cipher.decode(cipher.encrypt(test)). You should read this expression from the inside-out: first, cipher.encrypt is called on the message test (or whatever message you want to pass in), and then that encrypted message gets passed to cipher.decode, which will return the decoded message. If you wanted, you could even automate a check to see whether the encrypted-and-decoded message is the same as the original message, with an expression like the following (note the double equal signs for equality testing): test == cipher.decode(cipher.encrypt(test)). This should evaluate to True if the test message is correctly encrypted and decoded, and to False if that process is not correct.\n",
    "\n",
    "Before testing your code for correctness with the button below, run %run exercise.py in the terminal to ensure the file runs with no errors. If there are errors, use the information from them to debug your code."
   ],
   "cell_type": "code",
   "metadata": {},
   "execution_count": null,
   "outputs": []
  },
  {
   "cell_type": "code",
   "execution_count": 76,
   "metadata": {},
   "outputs": [
    {
     "output_type": "stream",
     "name": "stdout",
     "text": [
      "F Zljb ql Yrov zXbpXo, klq ql moXfpb efj.\n"
     ]
    }
   ],
   "source": [
    "class ShiftCipher:\n",
    "    \"\"\"\n",
    "    ShiftCipher objects that can encrypt and decode text messages based on a specific shift length.\n",
    "    \"\"\"\n",
    "\n",
    "    def __init__(self, shift):\n",
    "        \"\"\"\n",
    "        Constructs a ShiftCipher for the specified degree of shift (positive or negative),\n",
    "        by building a cipher (dictionary mapping from letters to other letters), and \n",
    "        a decoder (the inverse of the cipher)\n",
    "        \"\"\"\n",
    "        self.shift = shift\n",
    "        self.letters = \"ABCDEFGHIJKLMNOPQRSTUVWXYZabcdefghijklmnopqrstuvwxyz\"\n",
    "        self.cipher = {self.letters[i]: self.letters[(i + shift) % len(self.letters)] for i in range(len  (self.letters))}\n",
    "        self.decoder = {value: key for key, value in self.cipher.items()}\n",
    "\n",
    "    def transform_message(self, message, cipher):\n",
    "        \"\"\"\n",
    "        Transforms a message using the specified cipher.  Is not called by users directly,\n",
    "        and can be called with either the cipher (to encrypt) or the decoder (to decode).\n",
    "        \"\"\"\n",
    "        tmsg = ''\n",
    "        for c in message:\n",
    "            tmsg = tmsg + cipher.get(c, c)\n",
    "        return tmsg\n",
    "\n",
    "\n",
    "    def encrypt(self, message):\n",
    "        \"\"\"\n",
    "        Transforms a message using the cipher, by calling self.transform_message\n",
    "        \"\"\"\n",
    "        return self.transform_message(message, self.cipher)\n",
    "\n",
    "\n",
    "    def decode(self, message):\n",
    "        \"\"\"\n",
    "        Transforms a message using the decoder, by calling self.transform_message\n",
    "        \"\"\"\n",
    "        return self.transform_message(message, self.decoder)\n",
    "        \n",
    "\n",
    "\n",
    "test = ShiftCipher(-3)\n",
    "# print(test.cipher)\n",
    "#print(test.decoder)\n",
    "# test.letters\n",
    "\n",
    "# print(test.transform_message(\"HELLO\", test.cipher))\n",
    "# print(test)\n",
    "print(test.encrypt(\"I come to bury Caesar, not to praise him.\"))\n",
    "#print(test.decode('v PbZR gb Ohel pNRfNe, abg gb ceNVfR UVZ.'))\n",
    "\n",
    "#F Zljb ql Yrov zXbpXo, klq ql moXfpb efj."
   ]
  },
  {
   "cell_type": "code",
   "execution_count": null,
   "metadata": {},
   "outputs": [],
   "source": []
  }
 ]
}