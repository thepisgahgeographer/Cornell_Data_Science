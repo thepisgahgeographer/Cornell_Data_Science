{
 "metadata": {
  "language_info": {
   "codemirror_mode": {
    "name": "ipython",
    "version": 3
   },
   "file_extension": ".py",
   "mimetype": "text/x-python",
   "name": "python",
   "nbconvert_exporter": "python",
   "pygments_lexer": "ipython3",
   "version": "3.8.5"
  },
  "orig_nbformat": 2,
  "kernelspec": {
   "name": "python385jvsc74a57bd0d36bcb9db2b01809dd0786a778839d7cb7bf4091d5809431ddbab2266db9b46f",
   "display_name": "Python 3.8.5 64-bit ('GISAPI': conda)"
  }
 },
 "nbformat": 4,
 "nbformat_minor": 2,
 "cells": [
  {
   "cell_type": "code",
   "execution_count": 4,
   "metadata": {},
   "outputs": [
    {
     "output_type": "execute_result",
     "data": {
      "text/plain": [
       "4"
      ]
     },
     "metadata": {},
     "execution_count": 4
    }
   ],
   "source": [
    "def abs(x):\n",
    "    if x>=0:\n",
    "        return x\n",
    "    else:\n",
    "        return -x\n",
    "\n",
    "abs(-4)"
   ]
  },
  {
   "cell_type": "code",
   "execution_count": 5,
   "metadata": {},
   "outputs": [
    {
     "output_type": "execute_result",
     "data": {
      "text/plain": [
       "12.2"
      ]
     },
     "metadata": {},
     "execution_count": 5
    }
   ],
   "source": [
    "def add(x, y):\n",
    "    result = x + y\n",
    "    return result\n",
    "\n",
    "add(10.2, 2)"
   ]
  },
  {
   "cell_type": "code",
   "execution_count": 7,
   "metadata": {},
   "outputs": [
    {
     "output_type": "execute_result",
     "data": {
      "text/plain": [
       "5"
      ]
     },
     "metadata": {},
     "execution_count": 7
    }
   ],
   "source": [
    "def add(x, y):\n",
    "    result = x + y\n",
    "    return result\n",
    "\n",
    "add(2,3)"
   ]
  },
  {
   "cell_type": "code",
   "execution_count": 3,
   "metadata": {},
   "outputs": [
    {
     "output_type": "stream",
     "name": "stdout",
     "text": [
      "Hello, my name is: Bob."
     ]
    }
   ],
   "source": [
    "print('Hello, my name is', 'Bob', sep=': ', end='.')"
   ]
  },
  {
   "cell_type": "code",
   "execution_count": null,
   "metadata": {},
   "outputs": [],
   "source": [
    "my_dict = {'a':1, 'b':2, 'c':3, 'd':4, 'e':5, 'f':6, 'g':7, 'h':8, 'i':9}\n",
    "\n",
    "def print_keys_and_values(adict):\n",
    "    \"\"\"\n",
    "    Returns a list of strings, where each key and value is converted to a string, and each key-value pair is concatenated.\n",
    "    NOTE: we use the builtin str() function to convert \n",
    "\t\tadict's keys and values to strings.\n",
    "    \"\"\"\n",
    "    new_list = []\n",
    "    for key, value in adict.items():\n",
    "        pair = str(key) + str(value)\n",
    "        new_list.append(pair)\n",
    "    return new_list\n"
   ]
  },
  {
   "cell_type": "code",
   "execution_count": null,
   "metadata": {},
   "outputs": [],
   "source": [
    "import random\n",
    "\n",
    "my_list = [1,3,5,7,9]\n",
    "\n",
    "def get_N_random_elements_from_list(alist, N):\n",
    "    \"\"\"\n",
    "    Returns a new list that chooses N elements randomly from alist,\n",
    "    using the random.choice function, which can choose the same element more than once.\n",
    "    The resulting list that is returned should have N elements in it.\n",
    "    \"\"\"\n",
    "    counter = 0\n",
    "    new_list = []\n",
    "    while counter < N:\n",
    "        random_element = random.choice(alist)\n",
    "        new_list.append(random_element)\n",
    "        counter = counter + N\n",
    "    return new_list"
   ]
  },
  {
   "cell_type": "code",
   "execution_count": null,
   "metadata": {},
   "outputs": [],
   "source": [
    "import random\n",
    "\n",
    "my_list = [1,3,5,7,9]\n",
    "\n",
    "my_dict = {'a':1, 'b':2, 'c':3, 'd':4, 'e':5, 'f':6, 'g':7, 'h':8, 'i':9}\n",
    "\n",
    "def multiply_list_by(alist, multiplier):\n",
    "    \"\"\"\n",
    "    Returns a new list that multiplies each element of alist by the multiplier, so that the new list is the same length as alist, and the n'th element of new_list is equal to multiplier times the n'th element of alist\n",
    "    \"\"\"\n",
    "    new_list = []\n",
    "    for elem in alist:\n",
    "        new_list.append(elem*multiplier)\n",
    "    return new_list\n",
    "\n",
    "def print_keys_and_values(adict):\n",
    "    \"\"\"\n",
    "    Returns a list of strings, where each key and value is converted to a string, and each key-value pair is concatenated.\n",
    "    NOTE: we use the builtin str() function to convert \n",
    "\t\tadict's keys and values to strings.\n",
    "    \"\"\"\n",
    "    new_list = []\n",
    "    for key, value in adict.items():\n",
    "        pair = str(key) + str(value)\n",
    "        new_list.append(pair)\n",
    "    return new_list\n",
    "\n",
    "def get_N_random_elements_from_list(alist, N):\n",
    "    \"\"\"\n",
    "    Returns a new list that chooses N elements randomly from alist,\n",
    "    using the random.choice function, which can choose the same element more than once.\n",
    "    The resulting list that is returned should have N elements in it.\n",
    "    \"\"\"\n",
    "    counter = 0\n",
    "    new_list = []\n",
    "    while counter < N:\n",
    "        random_element = random.choice(alist)\n",
    "        new_list.append(random_element)\n",
    "        counter = counter + 1\n",
    "    return new_list\n",
    "  \n",
    "get_N_random_elements_from_list(my_list, 20)"
   ]
  },
  {
   "cell_type": "code",
   "execution_count": 6,
   "metadata": {},
   "outputs": [
    {
     "output_type": "stream",
     "name": "stdout",
     "text": [
      "11\n10\n9\n8\n7\n6\n5\n4\n3\n2\n1\n0\n"
     ]
    }
   ],
   "source": [
    "n = 12\n",
    "while n > 0:\n",
    "    n = n-1\n",
    "    print(n)"
   ]
  },
  {
   "cell_type": "code",
   "execution_count": 1,
   "metadata": {},
   "outputs": [
    {
     "output_type": "stream",
     "name": "stdout",
     "text": [
      "sum is less than 8\n"
     ]
    }
   ],
   "source": [
    "x = 3\n",
    "y = 4\n",
    "if (x+y) < 8:\n",
    "    print(\"sum is less than 8\")\n",
    "elif (x + y) == 8:\n",
    "    print(\"sum is equal to 8\")\n",
    "else:\n",
    "    print(\"sum is greater than 8\")"
   ]
  },
  {
   "cell_type": "code",
   "execution_count": 2,
   "metadata": {},
   "outputs": [
    {
     "output_type": "stream",
     "name": "stdout",
     "text": [
      "condition is True\n"
     ]
    }
   ],
   "source": [
    "condition = (3 < 4)\n",
    "if condition:\n",
    "    print(\"condition is True\")\n",
    "else:\n",
    "    print(\"condition is False\")"
   ]
  },
  {
   "cell_type": "code",
   "execution_count": null,
   "metadata": {},
   "outputs": [],
   "source": []
  }
 ]
}