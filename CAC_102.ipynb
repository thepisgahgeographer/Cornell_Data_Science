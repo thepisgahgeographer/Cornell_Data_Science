{
 "metadata": {
  "language_info": {
   "codemirror_mode": {
    "name": "ipython",
    "version": 3
   },
   "file_extension": ".py",
   "mimetype": "text/x-python",
   "name": "python",
   "nbconvert_exporter": "python",
   "pygments_lexer": "ipython3",
   "version": "3.8.5"
  },
  "orig_nbformat": 2,
  "kernelspec": {
   "name": "python3",
   "display_name": "Python 3.8.5 64-bit ('GISAPI': conda)"
  },
  "interpreter": {
   "hash": "d36bcb9db2b01809dd0786a778839d7cb7bf4091d5809431ddbab2266db9b46f"
  }
 },
 "nbformat": 4,
 "nbformat_minor": 2,
 "cells": [
  {
   "cell_type": "code",
   "execution_count": null,
   "metadata": {},
   "outputs": [],
   "source": [
    "def abs(x):\n",
    "    if x>=0:\n",
    "        return x\n",
    "    else:\n",
    "        return -x\n",
    "\n",
    "abs(-4)"
   ]
  },
  {
   "cell_type": "code",
   "execution_count": null,
   "metadata": {},
   "outputs": [],
   "source": [
    "def add(x, y):\n",
    "    result = x + y\n",
    "    return result\n",
    "\n",
    "add(10.2, 2)"
   ]
  },
  {
   "cell_type": "code",
   "execution_count": null,
   "metadata": {},
   "outputs": [],
   "source": [
    "def add(x, y):\n",
    "    result = x + y\n",
    "    return result\n",
    "\n",
    "add(2,3)"
   ]
  },
  {
   "cell_type": "code",
   "execution_count": null,
   "metadata": {},
   "outputs": [],
   "source": [
    "print('Hello, my name is', 'Bob', sep=': ', end='.')"
   ]
  },
  {
   "cell_type": "code",
   "execution_count": null,
   "metadata": {},
   "outputs": [],
   "source": [
    "my_dict = {'a':1, 'b':2, 'c':3, 'd':4, 'e':5, 'f':6, 'g':7, 'h':8, 'i':9}\n",
    "\n",
    "def print_keys_and_values(adict):\n",
    "    \"\"\"\n",
    "    Returns a list of strings, where each key and value is converted to a string, and each key-value pair is concatenated.\n",
    "    NOTE: we use the builtin str() function to convert \n",
    "\t\tadict's keys and values to strings.\n",
    "    \"\"\"\n",
    "    new_list = []\n",
    "    for key, value in adict.items():\n",
    "        pair = str(key) + str(value)\n",
    "        new_list.append(pair)\n",
    "    return new_list\n",
    "\n",
    "print_keys_and_values(my_dict)"
   ]
  },
  {
   "cell_type": "code",
   "execution_count": null,
   "metadata": {},
   "outputs": [],
   "source": [
    "my_dict = {'a':1, 'b':2, 'c':3, 'd':4, 'e':5, 'f':6, 'g':7, 'h':8, 'i':9}\n",
    "\n",
    "def print_keys_and_values(adict):\n",
    "    \"\"\"\n",
    "    Returns a list of strings, where each key and value is converted to a string, and each key-value pair is    \n",
    "    concatenated. NOTE: we use the builtin str() function to convert \n",
    "\t\tadict's keys and values to strings.\n",
    "    \"\"\"\n",
    "    newList = []\n",
    "    for key, value in adict.items():\n",
    "        val = str(key) + str(value)\n",
    "        newList.append(val)\n",
    "    return newList\n",
    "\n",
    "print_keys_and_values(my_dict)\n"
   ]
  },
  {
   "cell_type": "code",
   "execution_count": null,
   "metadata": {},
   "outputs": [],
   "source": [
    "import random\n",
    "\n",
    "my_list = [1,3,5,7,9]\n",
    "\n",
    "def get_N_random_elements_from_list(alist, N):\n",
    "    \"\"\"\n",
    "    Returns a new list that chooses N elements randomly from alist,\n",
    "    using the random.choice function, which can choose the same element more than once.\n",
    "    The resulting list that is returned should have N elements in it.\n",
    "    \"\"\"\n",
    "    counter = 0\n",
    "    new_list = []\n",
    "    while counter < N:\n",
    "        random_element = random.choice(alist)\n",
    "        new_list.append(random_element)\n",
    "        counter = counter + 1\n",
    "    return new_list\n",
    "get_N_random_elements_from_list(my_list, 10)"
   ]
  },
  {
   "cell_type": "code",
   "execution_count": null,
   "metadata": {},
   "outputs": [],
   "source": [
    "import random\n",
    "\n",
    "my_list = [1,3,5,7,9]\n",
    "\n",
    "my_dict = {'a':1, 'b':2, 'c':3, 'd':4, 'e':5, 'f':6, 'g':7, 'h':8, 'i':9}\n",
    "\n",
    "def multiply_list_by(alist, multiplier):\n",
    "    \"\"\"\n",
    "    Returns a new list that multiplies each element of alist by the multiplier, so that the new list is the same length as alist, and the n'th element of new_list is equal to multiplier times the n'th element of alist\n",
    "    \"\"\"\n",
    "    new_list = []\n",
    "    for elem in alist:\n",
    "        new_list.append(elem*multiplier)\n",
    "    return new_list\n",
    "\n",
    "def print_keys_and_values(adict):\n",
    "    \"\"\"\n",
    "    Returns a list of strings, where each key and value is converted to a string, and each key-value pair is concatenated.\n",
    "    NOTE: we use the builtin str() function to convert \n",
    "\t\tadict's keys and values to strings.\n",
    "    \"\"\"\n",
    "    new_list = []\n",
    "    for key, value in adict.items():\n",
    "        pair = str(key) + str(value)\n",
    "        new_list.append(pair)\n",
    "    return new_list\n",
    "\n",
    "def get_N_random_elements_from_list(alist, N):\n",
    "    \"\"\"\n",
    "    Returns a new list that chooses N elements randomly from alist,\n",
    "    using the random.choice function, which can choose the same element more than once.\n",
    "    The resulting list that is returned should have N elements in it.\n",
    "    \"\"\"\n",
    "    counter = 0\n",
    "    new_list = []\n",
    "    while counter < N:\n",
    "        random_element = random.choice(alist)\n",
    "        new_list.append(random_element)\n",
    "        counter = counter + 1\n",
    "    return new_list\n",
    "  \n",
    "get_N_random_elements_from_list(my_list, 20)"
   ]
  },
  {
   "cell_type": "code",
   "execution_count": null,
   "metadata": {},
   "outputs": [],
   "source": [
    "n = 12\n",
    "while n > 0:\n",
    "    n = n-1\n",
    "    print(n)"
   ]
  },
  {
   "cell_type": "code",
   "execution_count": null,
   "metadata": {},
   "outputs": [],
   "source": [
    "x = 3\n",
    "y = 4\n",
    "if (x+y) < 8:\n",
    "    print(\"sum is less than 8\")\n",
    "elif (x + y) == 8:\n",
    "    print(\"sum is equal to 8\")\n",
    "else:\n",
    "    print(\"sum is greater than 8\")"
   ]
  },
  {
   "cell_type": "code",
   "execution_count": null,
   "metadata": {},
   "outputs": [],
   "source": [
    "condition = (3 < 4)\n",
    "if condition:\n",
    "    print(\"condition is True\")\n",
    "else:\n",
    "    print(\"condition is False\")"
   ]
  },
  {
   "cell_type": "code",
   "execution_count": null,
   "metadata": {},
   "outputs": [],
   "source": [
    "squares = [n**2 for n in range(25) if n%2==0]\n",
    "squares"
   ]
  },
  {
   "cell_type": "code",
   "execution_count": null,
   "metadata": {},
   "outputs": [],
   "source": [
    "my_list = [1, 3, 14, 22, 29, 43, 89, 102, 256]\n",
    "\n",
    "def extract_even_numbers_in_list(alist):\n",
    "    \"\"\"\n",
    "    Returns a list of the numbers in the input alist\n",
    "    that are even numbers\n",
    "\n",
    "    NOTE: n%2 == 0 if n is even,  n%2 == 1 if n is odd\n",
    "    \"\"\"\n",
    "    result = []\n",
    "    for elem in alist:\n",
    "        if elem%2 == 0:\n",
    "            result.append(elem)\n",
    "    return result\n",
    "\n",
    "\n",
    "my_evens = extract_even_numbers_in_list(my_list)\n",
    "\n",
    "\n",
    "my_evens2 = [elem for elem in my_list if elem%2==0]\n",
    "my_evens"
   ]
  },
  {
   "cell_type": "code",
   "execution_count": null,
   "metadata": {},
   "outputs": [],
   "source": [
    "s = 'The answer is 42, but many people guess 12.'\n",
    "\n",
    "def extract_digits_from_string(s):\n",
    "    \"\"\"\n",
    "    Returns a list of all the digits that appear in a string,\n",
    "    in the order in which they are encountered.\n",
    "    \"\"\"\n",
    "    result = []\n",
    "    for c in s:\n",
    "        if c.isdigit():\n",
    "            result.append(c)\n",
    "    return result\n",
    "\n",
    "str_digits2 = [c for c in s if c.isdigit()]\n",
    "str_digits2\n",
    "\n"
   ]
  },
  {
   "cell_type": "code",
   "execution_count": null,
   "metadata": {},
   "outputs": [],
   "source": [
    "dict = {\n",
    "    \"Hibriten\": 2200,\n",
    "    \"Hen\": 1800\n",
    "}\n",
    "\n",
    "def make_dict_of_squares(n):\n",
    "    \"\"\"\n",
    "    Returns a dictionary that maps from integers to their squares, \n",
    "    starting with 0 and ending at one less than the input n\n",
    "    \"\"\"\n",
    "    result = {}\n",
    "    for i in range(n):\n",
    "        result[i] = i*i\n",
    "    return result\n",
    "make_dict_of_squares(10)\n",
    "\n",
    "squares2 = {x: x**2 for x in range(10)}\n",
    "squares2"
   ]
  },
  {
   "cell_type": "code",
   "execution_count": null,
   "metadata": {},
   "outputs": [],
   "source": [
    "for val in range(1,51,2):\n",
    "    print(val)\n",
    "\n",
    "[j for j in range(1,51,2) if j%2==0]\n",
    "tset\n",
    "9%2"
   ]
  },
  {
   "cell_type": "code",
   "execution_count": null,
   "metadata": {},
   "outputs": [],
   "source": [
    "[i for i in range(10) if True]"
   ]
  },
  {
   "cell_type": "code",
   "execution_count": null,
   "metadata": {},
   "outputs": [],
   "source": [
    "dict1 = {'a': 1, 'b': 2, 'c': 3, 'd': 4, 'e': 5}\n",
    "\n",
    "dict2 = {'c': 10, 'd': 20, 'e': 30, 'f': 40, 'g': 50}\n",
    "\n",
    "#shared_keys = {k for k in dict1.keys() if k in dict2.keys()}\n",
    "\n",
    "key1 = set(dict1.keys())\n",
    "key2 = set(dict2.keys())\n",
    "shared_keys = key1.intersection(key2)\n",
    "print(shared_keys)\n",
    "\n",
    "val1 = set(dict1.values())\n",
    "val2 = set(dict2.keys())\n",
    "shared_values = val1.intersection(val2)\n",
    "print(shared_values)"
   ]
  },
  {
   "cell_type": "code",
   "execution_count": null,
   "metadata": {},
   "outputs": [],
   "source": [
    "def sum_and_difference(x,y):\n",
    "    return x+y, x-y\n",
    "\n",
    "a,b = sum_and_difference(10,20)\n",
    "b"
   ]
  },
  {
   "cell_type": "code",
   "execution_count": null,
   "metadata": {},
   "outputs": [],
   "source": [
    "def product_and_ratio(x,y):\n",
    "    return x*y, x/y\n",
    "product_and_ratio(10, 20)"
   ]
  },
  {
   "cell_type": "code",
   "execution_count": null,
   "metadata": {},
   "outputs": [],
   "source": [
    "letters = \"ABCDEFGHIJKLMNOPQRSTUVWXYZabcdefghijklmnopqrstuvwxyz\"\n",
    "cipher = {letters[i]: letters[(i-3) % len(letters)] for i in range(len(letters))}\n",
    "\n",
    "def transform_message(message, cipher):\n",
    "    tmsg = \" \"\n",
    "    for c in message:\n",
    "        if c in cipher:\n",
    "            tmsg = tmsg + cipher[c]\n",
    "        else:\n",
    "            tmsg = tmsg + c\n",
    "    return tmsg\n",
    "\n",
    "\n",
    "test = \"I come to bury Caesar, not to praise him.\"\n",
    "\n",
    "transform_message(test, cipher)\n",
    "\n",
    "decode = {value: key for key, value in cipher.items()}\n",
    "decode"
   ]
  },
  {
   "source": [
    "### Classes"
   ],
   "cell_type": "markdown",
   "metadata": {}
  },
  {
   "cell_type": "code",
   "execution_count": null,
   "metadata": {},
   "outputs": [],
   "source": [
    "my_list = [1, 3, 14, 22, 29, 43, 89, 102, 256]\n",
    "my_list.__len__()"
   ]
  },
  {
   "cell_type": "code",
   "execution_count": null,
   "metadata": {},
   "outputs": [],
   "source": [
    "class bike:\n",
    "    def __init__(self, brand):\n",
    "        self.brand = brand\n",
    "        \n",
    "\n",
    "test = bike(\"Ragley\")\n",
    "test.brand"
   ]
  },
  {
   "cell_type": "code",
   "execution_count": null,
   "metadata": {},
   "outputs": [],
   "source": [
    "class ShiftCipher:\n",
    "    \"\"\"\n",
    "    ShiftCipher objects that can encrypt and decode text messages based on a specific shift length.\n",
    "    \"\"\"\n",
    "\n",
    "    def __init__(self, shift):\n",
    "        \"\"\"\n",
    "        Constructs a ShiftCipher for the specified degree of shift (positive or negative),\n",
    "        by building a cipher (dictionary mapping from letters to other letters), and \n",
    "        a decoder (the inverse of the cipher)\n",
    "        \"\"\"\n",
    "        self.shift = shift\n",
    "        self.letters = \"ABCDEFGHIJKLMNOPQRSTUVWXYZabcdefghijklmnopqrstuvwxyz\"\n",
    "        self.cipher = {self.letters[i]: self.letters[(i + shift) % len(self.letters)] for i in range(len  (self.letters))}\n",
    "        self.decoder = {value: key for key, value in self.cipher.items()}\n",
    "\n",
    "    def transform_message(self, message, cipher):\n",
    "        \"\"\"\n",
    "        Transforms a message using the specified cipher.  Is not called by users directly,\n",
    "        and can be called with either the cipher (to encrypt) or the decoder (to decode).\n",
    "        \"\"\"\n",
    "        tmsg = ''\n",
    "        for c in message:\n",
    "            tmsg = tmsg + cipher.get(c, c)\n",
    "        return tmsg\n",
    "\n",
    "\n",
    "    def encrypt(self, message):\n",
    "        \"\"\"\n",
    "        Transforms a message using the cipher, by calling self.transform_message\n",
    "        \"\"\"\n",
    "        return self.transform_message(message, self.cipher)\n",
    "\n",
    "\n",
    "    def decode(self, message):\n",
    "        \"\"\"\n",
    "        Transforms a message using the decoder, by calling self.transform_message\n",
    "        \"\"\"\n",
    "        return self.transform_message(message, self.decoder)\n",
    "        \n",
    "\n",
    "\n",
    "test = ShiftCipher(-3)\n",
    "# print(test.cipher)\n",
    "#print(test.decoder)\n",
    "# test.letters\n",
    "\n",
    "# print(test.transform_message(\"HELLO\", test.cipher))\n",
    "# print(test)\n",
    "print(test.encrypt(\"I come to bury Caesar, not to praise him.\"))\n",
    "#print(test.decode('v PbZR gb Ohel pNRfNe, abg gb ceNVfR UVZ.'))\n",
    "\n",
    "#F Zljb ql Yrov zXbpXo, klq ql moXfpb efj."
   ]
  },
  {
   "cell_type": "code",
   "execution_count": null,
   "metadata": {},
   "outputs": [],
   "source": [
    "# monthly expenses and revenues over course of year\n",
    "expenses = [40000., 42500., 47000., 40500., 38000., 36000., 39500., 43000., 47000., 48500., 49000., 50000.]\n",
    "revenues = [38000., 42500., 52000., 50000., 48000., 43000., 44500., 45000., 50000., 49500., 52000., 54000.]\n",
    "monthly_gross = [revenues[i]-expenses[i] for i in range(12)]\n",
    "\n",
    "def mean(x):\n",
    "    \"\"\"\n",
    "    return the mean value of the elements in x\n",
    "    by summing the elements and dividing by the length;\n",
    "    if the input type does not support this, \n",
    "    return the input itself\n",
    "    \"\"\"\n",
    "    try:\n",
    "        return sum(x)/len(x)\n",
    "    except TypeError:\n",
    "        return x\n",
    "\n",
    "def compute_quarterly_figures(expenses, revenues):\n",
    "    quarterlies = {}\n",
    "    for quarter in [1,2,3,4]:\n",
    "        start = (quarter - 1)*3\n",
    "        end = start + 3\n",
    "        total_expenses_qtr = sum(expenses[start:end])\n",
    "        mean_expenses = mean(expenses[start:end])\n",
    "        total_revenues_qtr = sum(revenues[start:end])\n",
    "        mean_revenues = mean(revenues[start:end])\n",
    "        total_gross_qtr = total_revenues_qtr - total_expenses_qtr\n",
    "        summary = 'Q{}: rev = {:.2f}, exp = {:.2f}, gross = {:.2f}'\n",
    "        summary_line = summary.format(\n",
    "            quarter, mean_revenues, mean_expenses, total_gross_qtr)\n",
    "\n",
    "        print(summary_line)\n",
    "\n",
    "        quarterlies['Q{0}'.format(quarter)] = \\\n",
    "          (mean_revenues,mean_expenses, total_gross_qtr)\n",
    "    return quarterlies"
   ]
  },
  {
   "cell_type": "code",
   "execution_count": null,
   "metadata": {},
   "outputs": [],
   "source": [
    "\n",
    "balance = 100.0\n",
    "rate = 0.03\n",
    "\n",
    "print(0, round(balance,2))\n",
    "for n in range(1,11):\n",
    "    balance = round(balance * (1 + rate), 2)\n",
    "    print(n, round(balance,2))\n",
    "\n",
    "def compound(balance, rate, num_periods):\n",
    "    print(0, round(balance,2))\n",
    "    for n in range(num_periods):\n",
    "        balance = round(balance * (1 + rate), 2)\n",
    "        print(n, round(balance,2))\n",
    "\n",
    "def compound_by_period(balance, rate, num_periods):\n",
    "    lists = []\n",
    "    print(0, round(balance,2))\n",
    "    for n in range(num_periods):\n",
    "        balance = round(balance * (1 + rate), 2)\n",
    "        print(n, round(balance,2))\n",
    "        lists.append(balance)\n",
    "    return lists\n",
    "\n",
    "def change_per_period(balance, rate, num_periods):\n",
    "    lists = []\n",
    "    lis = lists\n",
    "    bal = 0\n",
    "    print(0, round(balance,2))\n",
    "    for n in range(num_periods):\n",
    "        balance = round(balance * (1 + rate), 2)\n",
    "        print(n, round(balance,2))\n",
    "        bal +=n\n",
    "        lists.append(balance[n]-bal[i])\n",
    "    return lists"
   ]
  },
  {
   "cell_type": "code",
   "execution_count": null,
   "metadata": {},
   "outputs": [],
   "source": [
    "\n",
    "balance = 100.0\n",
    "rate = 0.03\n",
    "\n",
    "def compound_by_period(balance, rate, num_periods):\n",
    "    lists = []\n",
    "    #print(0, round(balance,2))\n",
    "    for n in range(num_periods):\n",
    "        balance = round(balance * (1 + rate), 2)\n",
    "        #print(n, round(balance,2))\n",
    "        lists.append(balance)\n",
    "    return lists\n",
    "\n",
    "\n",
    "wheat = compound_by_period(1, 1, 63)\n",
    "print(wheat)\n",
    "\n",
    "total_wheat = sum(wheat)\n",
    "print(total_wheat)"
   ]
  },
  {
   "cell_type": "code",
   "execution_count": null,
   "metadata": {},
   "outputs": [],
   "source": [
    "lists = [j for j in range(10) if j%2==0]\n",
    "lists"
   ]
  },
  {
   "cell_type": "code",
   "execution_count": null,
   "metadata": {},
   "outputs": [],
   "source": [
    "tup = ([1, 2, 3], \"Lake Norman State Park\", 0.315)\n",
    "type(tup)\n",
    "print(tup[0][1])"
   ]
  },
  {
   "cell_type": "code",
   "execution_count": null,
   "metadata": {},
   "outputs": [],
   "source": [
    "def myfunc(n):\n",
    "  return len(n)\n",
    "\n",
    "x = map(myfunc, ('apple', 'banana', 'cherry')) \n",
    "for y in x:\n",
    "  print(y)\n"
   ]
  },
  {
   "cell_type": "code",
   "execution_count": null,
   "metadata": {},
   "outputs": [],
   "source": [
    "pip install --upgrade numpy\n"
   ]
  },
  {
   "cell_type": "code",
   "execution_count": null,
   "metadata": {},
   "outputs": [],
   "source": [
    "import sys\n",
    "sys.path"
   ]
  },
  {
   "cell_type": "code",
   "execution_count": null,
   "metadata": {},
   "outputs": [],
   "source": [
    "conda -list"
   ]
  },
  {
   "cell_type": "code",
   "execution_count": null,
   "metadata": {},
   "outputs": [],
   "source": []
  }
 ]
}