{
 "metadata": {
  "language_info": {
   "codemirror_mode": {
    "name": "ipython",
    "version": 3
   },
   "file_extension": ".py",
   "mimetype": "text/x-python",
   "name": "python",
   "nbconvert_exporter": "python",
   "pygments_lexer": "ipython3",
   "version": "3.8.5"
  },
  "orig_nbformat": 2,
  "kernelspec": {
   "name": "python385jvsc74a57bd0d36bcb9db2b01809dd0786a778839d7cb7bf4091d5809431ddbab2266db9b46f",
   "display_name": "Python 3.8.5 64-bit ('GISAPI': conda)"
  }
 },
 "nbformat": 4,
 "nbformat_minor": 2,
 "cells": [
  {
   "cell_type": "code",
   "execution_count": null,
   "metadata": {},
   "outputs": [],
   "source": [
    "def abs(x):\n",
    "    if x>=0:\n",
    "        return x\n",
    "    else:\n",
    "        return -x\n",
    "\n",
    "abs(-4)"
   ]
  },
  {
   "cell_type": "code",
   "execution_count": null,
   "metadata": {},
   "outputs": [],
   "source": [
    "def add(x, y):\n",
    "    result = x + y\n",
    "    return result\n",
    "\n",
    "add(10.2, 2)"
   ]
  },
  {
   "cell_type": "code",
   "execution_count": null,
   "metadata": {},
   "outputs": [],
   "source": [
    "def add(x, y):\n",
    "    result = x + y\n",
    "    return result\n",
    "\n",
    "add(2,3)"
   ]
  },
  {
   "cell_type": "code",
   "execution_count": null,
   "metadata": {},
   "outputs": [],
   "source": [
    "print('Hello, my name is', 'Bob', sep=': ', end='.')"
   ]
  },
  {
   "cell_type": "code",
   "execution_count": null,
   "metadata": {},
   "outputs": [],
   "source": [
    "my_dict = {'a':1, 'b':2, 'c':3, 'd':4, 'e':5, 'f':6, 'g':7, 'h':8, 'i':9}\n",
    "\n",
    "def print_keys_and_values(adict):\n",
    "    \"\"\"\n",
    "    Returns a list of strings, where each key and value is converted to a string, and each key-value pair is concatenated.\n",
    "    NOTE: we use the builtin str() function to convert \n",
    "\t\tadict's keys and values to strings.\n",
    "    \"\"\"\n",
    "    new_list = []\n",
    "    for key, value in adict.items():\n",
    "        pair = str(key) + str(value)\n",
    "        new_list.append(pair)\n",
    "    return new_list\n",
    "\n",
    "print_keys_and_values(my_dict)"
   ]
  },
  {
   "cell_type": "code",
   "execution_count": null,
   "metadata": {},
   "outputs": [],
   "source": [
    "my_dict = {'a':1, 'b':2, 'c':3, 'd':4, 'e':5, 'f':6, 'g':7, 'h':8, 'i':9}\n",
    "\n",
    "def print_keys_and_values(adict):\n",
    "    \"\"\"\n",
    "    Returns a list of strings, where each key and value is converted to a string, and each key-value pair is    \n",
    "    concatenated. NOTE: we use the builtin str() function to convert \n",
    "\t\tadict's keys and values to strings.\n",
    "    \"\"\"\n",
    "    newList = []\n",
    "    for key, value in adict.items():\n",
    "        val = str(key) + str(value)\n",
    "        newList.append(val)\n",
    "    return newList\n",
    "\n",
    "print_keys_and_values(my_dict)\n"
   ]
  },
  {
   "cell_type": "code",
   "execution_count": null,
   "metadata": {},
   "outputs": [],
   "source": [
    "import random\n",
    "\n",
    "my_list = [1,3,5,7,9]\n",
    "\n",
    "def get_N_random_elements_from_list(alist, N):\n",
    "    \"\"\"\n",
    "    Returns a new list that chooses N elements randomly from alist,\n",
    "    using the random.choice function, which can choose the same element more than once.\n",
    "    The resulting list that is returned should have N elements in it.\n",
    "    \"\"\"\n",
    "    counter = 0\n",
    "    new_list = []\n",
    "    while counter < N:\n",
    "        random_element = random.choice(alist)\n",
    "        new_list.append(random_element)\n",
    "        counter = counter + 1\n",
    "    return new_list\n",
    "get_N_random_elements_from_list(my_list, 10)"
   ]
  },
  {
   "cell_type": "code",
   "execution_count": null,
   "metadata": {},
   "outputs": [],
   "source": [
    "import random\n",
    "\n",
    "my_list = [1,3,5,7,9]\n",
    "\n",
    "my_dict = {'a':1, 'b':2, 'c':3, 'd':4, 'e':5, 'f':6, 'g':7, 'h':8, 'i':9}\n",
    "\n",
    "def multiply_list_by(alist, multiplier):\n",
    "    \"\"\"\n",
    "    Returns a new list that multiplies each element of alist by the multiplier, so that the new list is the same length as alist, and the n'th element of new_list is equal to multiplier times the n'th element of alist\n",
    "    \"\"\"\n",
    "    new_list = []\n",
    "    for elem in alist:\n",
    "        new_list.append(elem*multiplier)\n",
    "    return new_list\n",
    "\n",
    "def print_keys_and_values(adict):\n",
    "    \"\"\"\n",
    "    Returns a list of strings, where each key and value is converted to a string, and each key-value pair is concatenated.\n",
    "    NOTE: we use the builtin str() function to convert \n",
    "\t\tadict's keys and values to strings.\n",
    "    \"\"\"\n",
    "    new_list = []\n",
    "    for key, value in adict.items():\n",
    "        pair = str(key) + str(value)\n",
    "        new_list.append(pair)\n",
    "    return new_list\n",
    "\n",
    "def get_N_random_elements_from_list(alist, N):\n",
    "    \"\"\"\n",
    "    Returns a new list that chooses N elements randomly from alist,\n",
    "    using the random.choice function, which can choose the same element more than once.\n",
    "    The resulting list that is returned should have N elements in it.\n",
    "    \"\"\"\n",
    "    counter = 0\n",
    "    new_list = []\n",
    "    while counter < N:\n",
    "        random_element = random.choice(alist)\n",
    "        new_list.append(random_element)\n",
    "        counter = counter + 1\n",
    "    return new_list\n",
    "  \n",
    "get_N_random_elements_from_list(my_list, 20)"
   ]
  },
  {
   "cell_type": "code",
   "execution_count": null,
   "metadata": {},
   "outputs": [],
   "source": [
    "n = 12\n",
    "while n > 0:\n",
    "    n = n-1\n",
    "    print(n)"
   ]
  },
  {
   "cell_type": "code",
   "execution_count": null,
   "metadata": {},
   "outputs": [],
   "source": [
    "x = 3\n",
    "y = 4\n",
    "if (x+y) < 8:\n",
    "    print(\"sum is less than 8\")\n",
    "elif (x + y) == 8:\n",
    "    print(\"sum is equal to 8\")\n",
    "else:\n",
    "    print(\"sum is greater than 8\")"
   ]
  },
  {
   "cell_type": "code",
   "execution_count": null,
   "metadata": {},
   "outputs": [],
   "source": [
    "condition = (3 < 4)\n",
    "if condition:\n",
    "    print(\"condition is True\")\n",
    "else:\n",
    "    print(\"condition is False\")"
   ]
  },
  {
   "cell_type": "code",
   "execution_count": null,
   "metadata": {},
   "outputs": [],
   "source": [
    "squares = [n**2 for n in range(25) if n%2==0]\n",
    "squares"
   ]
  },
  {
   "cell_type": "code",
   "execution_count": null,
   "metadata": {},
   "outputs": [],
   "source": [
    "my_list = [1, 3, 14, 22, 29, 43, 89, 102, 256]\n",
    "\n",
    "def extract_even_numbers_in_list(alist):\n",
    "    \"\"\"\n",
    "    Returns a list of the numbers in the input alist\n",
    "    that are even numbers\n",
    "\n",
    "    NOTE: n%2 == 0 if n is even,  n%2 == 1 if n is odd\n",
    "    \"\"\"\n",
    "    result = []\n",
    "    for elem in alist:\n",
    "        if elem%2 == 0:\n",
    "            result.append(elem)\n",
    "    return result\n",
    "\n",
    "\n",
    "my_evens = extract_even_numbers_in_list(my_list)\n",
    "\n",
    "\n",
    "my_evens2 = [elem for elem in my_list if elem%2==0]\n",
    "my_evens"
   ]
  },
  {
   "cell_type": "code",
   "execution_count": null,
   "metadata": {},
   "outputs": [],
   "source": [
    "s = 'The answer is 42, but many people guess 12.'\n",
    "\n",
    "def extract_digits_from_string(s):\n",
    "    \"\"\"\n",
    "    Returns a list of all the digits that appear in a string,\n",
    "    in the order in which they are encountered.\n",
    "    \"\"\"\n",
    "    result = []\n",
    "    for c in s:\n",
    "        if c.isdigit():\n",
    "            result.append(c)\n",
    "    return result\n",
    "\n",
    "str_digits2 = [c for c in s if c.isdigit()]\n",
    "str_digits2\n",
    "\n"
   ]
  },
  {
   "cell_type": "code",
   "execution_count": null,
   "metadata": {},
   "outputs": [],
   "source": [
    "dict = {\n",
    "    \"Hibriten\": 2200,\n",
    "    \"Hen\": 1800\n",
    "}\n",
    "\n",
    "def make_dict_of_squares(n):\n",
    "    \"\"\"\n",
    "    Returns a dictionary that maps from integers to their squares, \n",
    "    starting with 0 and ending at one less than the input n\n",
    "    \"\"\"\n",
    "    result = {}\n",
    "    for i in range(n):\n",
    "        result[i] = i*i\n",
    "    return result\n",
    "make_dict_of_squares(10)\n",
    "\n",
    "squares2 = {x: x**2 for x in range(10)}\n",
    "squares2"
   ]
  },
  {
   "cell_type": "code",
   "execution_count": null,
   "metadata": {},
   "outputs": [],
   "source": [
    "for val in range(1,51,2):\n",
    "    print(val)\n",
    "\n",
    "[j for j in range(1,51,2) if j%2==0]\n",
    "tset\n",
    "9%2"
   ]
  },
  {
   "cell_type": "code",
   "execution_count": null,
   "metadata": {},
   "outputs": [],
   "source": [
    "[i for i in range(10) if True]"
   ]
  },
  {
   "cell_type": "code",
   "execution_count": null,
   "metadata": {},
   "outputs": [],
   "source": [
    "dict1 = {'a': 1, 'b': 2, 'c': 3, 'd': 4, 'e': 5}\n",
    "\n",
    "dict2 = {'c': 10, 'd': 20, 'e': 30, 'f': 40, 'g': 50}\n",
    "\n",
    "#shared_keys = {k for k in dict1.keys() if k in dict2.keys()}\n",
    "\n",
    "key1 = set(dict1.keys())\n",
    "key2 = set(dict2.keys())\n",
    "shared_keys = key1.intersection(key2)\n",
    "print(shared_keys)\n",
    "\n",
    "val1 = set(dict1.values())\n",
    "val2 = set(dict2.keys())\n",
    "shared_values = val1.intersection(val2)\n",
    "print(shared_values)"
   ]
  },
  {
   "cell_type": "code",
   "execution_count": null,
   "metadata": {},
   "outputs": [],
   "source": [
    "def sum_and_difference(x,y):\n",
    "    return x+y, x-y\n",
    "\n",
    "a,b = sum_and_difference(10,20)\n",
    "b"
   ]
  },
  {
   "cell_type": "code",
   "execution_count": null,
   "metadata": {},
   "outputs": [],
   "source": [
    "def product_and_ratio(x,y):\n",
    "    return x*y, x/y\n",
    "product_and_ratio(10, 20)"
   ]
  },
  {
   "cell_type": "code",
   "execution_count": 196,
   "metadata": {},
   "outputs": [
    {
     "output_type": "error",
     "ename": "TypeError",
     "evalue": "can only concatenate str (not \"NoneType\") to str",
     "traceback": [
      "\u001b[1;31m---------------------------------------------------------------------------\u001b[0m",
      "\u001b[1;31mTypeError\u001b[0m                                 Traceback (most recent call last)",
      "\u001b[1;32m<ipython-input-196-5b012b0ef4e9>\u001b[0m in \u001b[0;36m<module>\u001b[1;34m\u001b[0m\n\u001b[0;32m     11\u001b[0m \u001b[0mtest\u001b[0m \u001b[1;33m=\u001b[0m \u001b[1;34m\"I come to bury Caesar, not to praise him.\"\u001b[0m\u001b[1;33m\u001b[0m\u001b[1;33m\u001b[0m\u001b[0m\n\u001b[0;32m     12\u001b[0m \u001b[1;33m\u001b[0m\u001b[0m\n\u001b[1;32m---> 13\u001b[1;33m \u001b[0mtransform_message\u001b[0m\u001b[1;33m(\u001b[0m\u001b[0mtest\u001b[0m\u001b[1;33m,\u001b[0m \u001b[0mcipher\u001b[0m\u001b[1;33m)\u001b[0m\u001b[1;33m\u001b[0m\u001b[1;33m\u001b[0m\u001b[0m\n\u001b[0m\u001b[0;32m     14\u001b[0m \u001b[1;33m\u001b[0m\u001b[0m\n",
      "\u001b[1;32m<ipython-input-196-5b012b0ef4e9>\u001b[0m in \u001b[0;36mtransform_message\u001b[1;34m(message, cipher)\u001b[0m\n\u001b[0;32m      5\u001b[0m     \u001b[0mtmsg\u001b[0m \u001b[1;33m=\u001b[0m \u001b[1;34m\" \"\u001b[0m\u001b[1;33m\u001b[0m\u001b[1;33m\u001b[0m\u001b[0m\n\u001b[0;32m      6\u001b[0m     \u001b[1;32mfor\u001b[0m \u001b[0mc\u001b[0m \u001b[1;32min\u001b[0m \u001b[0mmessage\u001b[0m\u001b[1;33m:\u001b[0m\u001b[1;33m\u001b[0m\u001b[1;33m\u001b[0m\u001b[0m\n\u001b[1;32m----> 7\u001b[1;33m         \u001b[0mtmsg\u001b[0m \u001b[1;33m=\u001b[0m \u001b[0mtmsg\u001b[0m \u001b[1;33m+\u001b[0m \u001b[0mcipher\u001b[0m\u001b[1;33m.\u001b[0m\u001b[0mget\u001b[0m\u001b[1;33m(\u001b[0m\u001b[0mc\u001b[0m\u001b[1;33m)\u001b[0m\u001b[1;33m\u001b[0m\u001b[1;33m\u001b[0m\u001b[0m\n\u001b[0m\u001b[0;32m      8\u001b[0m     \u001b[1;32mreturn\u001b[0m \u001b[0mtmsg\u001b[0m\u001b[1;33m\u001b[0m\u001b[1;33m\u001b[0m\u001b[0m\n\u001b[0;32m      9\u001b[0m \u001b[1;33m\u001b[0m\u001b[0m\n",
      "\u001b[1;31mTypeError\u001b[0m: can only concatenate str (not \"NoneType\") to str"
     ]
    }
   ],
   "source": [
    "letters = \"ABCDEFGHIJKLMNOPQRSTUVWXYZabcdefghijklmnopqrstuvwxyz\"\n",
    "cipher = {letters[i]: letters[(i-3) % len(letters)] for i in range(len(letters))}\n",
    "\n",
    "def transform_message(message, cipher):\n",
    "    tmsg = \" \"\n",
    "    for c in message:\n",
    "        if c in cipher:\n",
    "            tmsg = tmsg + cipher[c]\n",
    "        else:\n",
    "            tmsg = tmsg + c\n",
    "    return tmsg\n",
    "\n",
    "\n",
    "test = \"I come to bury Caesar, not to praise him.\"\n",
    "\n",
    "transform_message(test, cipher)\n",
    "\n"
   ]
  },
  {
   "cell_type": "code",
   "execution_count": null,
   "metadata": {},
   "outputs": [],
   "source": []
  }
 ]
}