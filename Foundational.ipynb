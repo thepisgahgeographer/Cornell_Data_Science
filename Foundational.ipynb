{
 "cells": [
  {
   "cell_type": "code",
   "execution_count": 1,
   "metadata": {},
   "outputs": [
    {
     "name": "stdout",
     "output_type": "stream",
     "text": [
      "1\n"
     ]
    }
   ],
   "source": [
    "print(1)"
   ]
  },
  {
   "cell_type": "code",
   "execution_count": 2,
   "metadata": {},
   "outputs": [
    {
     "name": "stdout",
     "output_type": "stream",
     "text": [
      "20 days are xxx minutes\n"
     ]
    }
   ],
   "source": [
    "print(\"20 days are xxx minutes\")"
   ]
  },
  {
   "cell_type": "code",
   "execution_count": 2,
   "metadata": {},
   "outputs": [
    {
     "name": "stdout",
     "output_type": "stream",
     "text": [
      "20 days are 28800 minutes\n"
     ]
    }
   ],
   "source": [
    "value1 = 20*24*60\n",
    "print(f\"20 days are {value1} minutes\")"
   ]
  },
  {
   "cell_type": "code",
   "execution_count": 5,
   "metadata": {},
   "outputs": [
    {
     "name": "stdout",
     "output_type": "stream",
     "text": [
      "28800\n"
     ]
    },
    {
     "data": {
      "text/plain": [
       "int"
      ]
     },
     "execution_count": 5,
     "metadata": {},
     "output_type": "execute_result"
    }
   ],
   "source": [
    "print(str(value1))\n",
    "type(value1)"
   ]
  },
  {
   "cell_type": "code",
   "execution_count": 11,
   "metadata": {},
   "outputs": [
    {
     "name": "stdout",
     "output_type": "stream",
     "text": [
      "15 days are 360 hours \n"
     ]
    }
   ],
   "source": [
    "calculationToUnits = 24\n",
    "nameOfUnit = \"hours\"\n",
    "\n",
    "def days_to_units(val):\n",
    "    print(f\"{val} days are {val * calculationToUnits} {nameOfUnit} \")\n",
    "\n",
    "days_to_units(15)"
   ]
  },
  {
   "cell_type": "code",
   "execution_count": 30,
   "metadata": {},
   "outputs": [
    {
     "name": "stdout",
     "output_type": "stream",
     "text": [
      "True\n"
     ]
    }
   ],
   "source": [
    "elevation = 2211\n",
    "\n",
    "def mountains(val1):\n",
    "    mtn_var = \"Hibriten\"\n",
    "    if val1 >2211:\n",
    "        print(\"False\")\n",
    "    else:\n",
    "        print(\"True\")\n",
    "    \n",
    "\n",
    "mountains(1800)"
   ]
  },
  {
   "cell_type": "code",
   "execution_count": 31,
   "metadata": {},
   "outputs": [
    {
     "name": "stdout",
     "output_type": "stream",
     "text": [
      "False\n"
     ]
    }
   ],
   "source": [
    "userInput = int(input(\"How tall is Hibriten Mountain\"))\n",
    "mtnHeight = mountains(userInput)\n"
   ]
  },
  {
   "cell_type": "code",
   "execution_count": 7,
   "metadata": {},
   "outputs": [
    {
     "name": "stdout",
     "output_type": "stream",
     "text": [
      "False\n"
     ]
    }
   ],
   "source": [
    "elevation = 2211\n",
    "\n",
    "userInput = input(\"What is the elevation\")\n",
    "\n",
    "def mountains():\n",
    "    if userInput.isdigit():\n",
    "        inputNumber = int(userInput)\n",
    "        if inputNumber >2211:\n",
    "            print(\"False\")\n",
    "        else:\n",
    "            print(\"True\")\n",
    "\n",
    "mountains()\n",
    "    \n",
    "\n"
   ]
  },
  {
   "cell_type": "code",
   "execution_count": 6,
   "metadata": {},
   "outputs": [
    {
     "name": "stdout",
     "output_type": "stream",
     "text": [
      "* \n",
      "* * * \n",
      "* * * * * \n",
      "* * * * * * * \n",
      "* * * * * * * * * \n"
     ]
    }
   ],
   "source": [
    "# def christmasTree():\n",
    "#     val = \"_\"\n",
    "#     for val in range(10):\n",
    "#         print(val)\n",
    "\n",
    "# christmasTree()\n",
    "\n",
    "def triangleShape(n):\n",
    "    for i in range(n):\n",
    "        # for j in range(n-i):\n",
    "        #     print(' ', end=' ')\n",
    "        for k in range(2*i+1):\n",
    "            print('*',end=' ')\n",
    "        print()\n",
    "\n",
    "triangleShape(5)"
   ]
  },
  {
   "cell_type": "code",
   "execution_count": 40,
   "metadata": {},
   "outputs": [
    {
     "name": "stdout",
     "output_type": "stream",
     "text": [
      "Welcome to "
     ]
    }
   ],
   "source": [
    "print(\"Welcome to\" , end = ' ') "
   ]
  },
  {
   "cell_type": "code",
   "execution_count": 11,
   "metadata": {},
   "outputs": [
    {
     "name": "stdout",
     "output_type": "stream",
     "text": [
      "[4, 16, 36, 64, 100]\n"
     ]
    }
   ],
   "source": [
    "a = [1, 4, 9, 16, 25, 36, 49, 64, 81, 100]\n",
    "\n",
    "evenElement = [item for item in a if item%2==0]\n",
    "print(evenElement)\n"
   ]
  },
  {
   "cell_type": "code",
   "execution_count": 15,
   "metadata": {},
   "outputs": [
    {
     "name": "stdout",
     "output_type": "stream",
     "text": [
      "561\n",
      "561\n"
     ]
    }
   ],
   "source": [
    "hibritenElevation = 2211\n",
    "\n",
    "user = input(\"To what elevation did you walk?\")\n",
    "totalElevation = hibritenElevation - int(user)\n",
    "print(totalElevation)\n",
    "\n",
    "print(str(totalElevation))\n"
   ]
  },
  {
   "cell_type": "code",
   "execution_count": 24,
   "metadata": {},
   "outputs": [
    {
     "name": "stdout",
     "output_type": "stream",
     "text": [
      "1\n",
      "HIBRITEN MOUNTAIN\n"
     ]
    }
   ],
   "source": [
    "Caldwell = \"Hibriten Mountain\"\n",
    "print(Caldwell.find(\"i\"))\n",
    "print(Caldwell.upper())"
   ]
  },
  {
   "cell_type": "code",
   "execution_count": 19,
   "metadata": {},
   "outputs": [
    {
     "name": "stdout",
     "output_type": "stream",
     "text": [
      "\n",
      "Here is a list of the Python keywords.  Enter any keyword to get more help.\n",
      "\n",
      "False               class               from                or\n",
      "None                continue            global              pass\n",
      "True                def                 if                  raise\n",
      "and                 del                 import              return\n",
      "as                  elif                in                  try\n",
      "assert              else                is                  while\n",
      "async               except              lambda              with\n",
      "await               finally             nonlocal            yield\n",
      "break               for                 not                 \n",
      "\n"
     ]
    }
   ],
   "source": [
    "import math as mt\n",
    "\n",
    "help(\"keywords\")"
   ]
  },
  {
   "cell_type": "code",
   "execution_count": 23,
   "metadata": {},
   "outputs": [
    {
     "data": {
      "text/plain": [
       "100"
      ]
     },
     "execution_count": 23,
     "metadata": {},
     "output_type": "execute_result"
    }
   ],
   "source": [
    "mountain1 = int(\"100\")\n",
    "mountain1"
   ]
  },
  {
   "cell_type": "code",
   "execution_count": 28,
   "metadata": {},
   "outputs": [
    {
     "name": "stdout",
     "output_type": "stream",
     "text": [
      "<class 'bool'>\n"
     ]
    }
   ],
   "source": [
    "print(type(\"Hibriten\" in Caldwell))\n"
   ]
  },
  {
   "cell_type": "code",
   "execution_count": 29,
   "metadata": {},
   "outputs": [
    {
     "name": "stdout",
     "output_type": "stream",
     "text": [
      "<class 'bool'>\n"
     ]
    }
   ],
   "source": [
    "mountain2 = 10<5\n",
    "print(type(mountain2))"
   ]
  },
  {
   "cell_type": "code",
   "execution_count": 1,
   "metadata": {},
   "outputs": [
    {
     "name": "stdout",
     "output_type": "stream",
     "text": [
      "['Hibriten', 'Hen', 'Timbered Ridge']\n"
     ]
    }
   ],
   "source": [
    "mountains = [\"Hibriten\", \"Hen\", \"Timbered Ridge\"]\n",
    "mountains_copy = mountains[:]\n",
    "print(mountains_copy)"
   ]
  },
  {
   "cell_type": "code",
   "execution_count": 2,
   "metadata": {},
   "outputs": [
    {
     "data": {
      "text/plain": [
       "['Timbered Ridge', 'Hen', 'Hibriten']"
      ]
     },
     "execution_count": 2,
     "metadata": {},
     "output_type": "execute_result"
    }
   ],
   "source": [
    "mountains_copy[::-1]"
   ]
  },
  {
   "cell_type": "code",
   "execution_count": 11,
   "metadata": {},
   "outputs": [
    {
     "name": "stdout",
     "output_type": "stream",
     "text": [
      "ccc\n",
      "ii\n"
     ]
    }
   ],
   "source": [
    "x = ['a', ['bb', ['ccc', 'ddd'], 'ee', 'ff'], 'g', ['hh', 'ii'], 'j']\n",
    "\n",
    "print(x[1][1][0])\n",
    "print(x[3][1])"
   ]
  },
  {
   "cell_type": "code",
   "execution_count": 14,
   "metadata": {},
   "outputs": [
    {
     "data": {
      "text/plain": [
       "['a',\n",
       " ['bb', ['ccc', 'ddd'], 'ee', 'ff'],\n",
       " 'g',\n",
       " ['hh', 'ii'],\n",
       " ['Hibriten', 'Hen', 'Timbered Ridge']]"
      ]
     },
     "execution_count": 14,
     "metadata": {},
     "output_type": "execute_result"
    }
   ],
   "source": [
    "x[4] = mountains_copy\n",
    "x"
   ]
  },
  {
   "cell_type": "code",
   "execution_count": null,
   "metadata": {},
   "outputs": [],
   "source": []
  }
 ],
 "metadata": {
  "interpreter": {
   "hash": "d36bcb9db2b01809dd0786a778839d7cb7bf4091d5809431ddbab2266db9b46f"
  },
  "kernelspec": {
   "display_name": "Python 3.8.5 64-bit ('GISAPI': conda)",
   "name": "python3"
  },
  "language_info": {
   "codemirror_mode": {
    "name": "ipython",
    "version": 3
   },
   "file_extension": ".py",
   "mimetype": "text/x-python",
   "name": "python",
   "nbconvert_exporter": "python",
   "pygments_lexer": "ipython3",
   "version": "3.8.5"
  },
  "metadata": {
   "interpreter": {
    "hash": "d36bcb9db2b01809dd0786a778839d7cb7bf4091d5809431ddbab2266db9b46f"
   }
  },
  "orig_nbformat": 2
 },
 "nbformat": 4,
 "nbformat_minor": 2
}
