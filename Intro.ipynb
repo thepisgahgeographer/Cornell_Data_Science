{
 "metadata": {
  "language_info": {
   "codemirror_mode": {
    "name": "ipython",
    "version": 3
   },
   "file_extension": ".py",
   "mimetype": "text/x-python",
   "name": "python",
   "nbconvert_exporter": "python",
   "pygments_lexer": "ipython3",
   "version": "3.8.5"
  },
  "orig_nbformat": 2,
  "kernelspec": {
   "name": "python38564bitgisapiconda9006691f20974030baa3b28e15c02088",
   "display_name": "Python 3.8.5 64-bit ('GISAPI': conda)"
  },
  "metadata": {
   "interpreter": {
    "hash": "d36bcb9db2b01809dd0786a778839d7cb7bf4091d5809431ddbab2266db9b46f"
   }
  }
 },
 "nbformat": 4,
 "nbformat_minor": 2,
 "cells": [
  {
   "cell_type": "code",
   "execution_count": null,
   "metadata": {},
   "outputs": [],
   "source": [
    "peak1 = \"Hibriten Mtn   \"\n",
    "peak2 = \"Timbered Ridge\"\n",
    "print(f\"{peak1.rstrip()} & {peak2}\")"
   ]
  },
  {
   "cell_type": "code",
   "execution_count": null,
   "metadata": {},
   "outputs": [],
   "source": [
    "3**2"
   ]
  },
  {
   "cell_type": "code",
   "execution_count": null,
   "metadata": {},
   "outputs": [],
   "source": [
    "import this"
   ]
  },
  {
   "cell_type": "code",
   "execution_count": null,
   "metadata": {},
   "outputs": [],
   "source": [
    "mtns = [\"Hibriten\", \"Timbered Ridge\", \"Hen\"]\n",
    "print(mtns[1])\n",
    "print(mtns[2])"
   ]
  },
  {
   "cell_type": "code",
   "execution_count": null,
   "metadata": {},
   "outputs": [],
   "source": [
    "pip install xlrd\n"
   ]
  },
  {
   "cell_type": "code",
   "execution_count": null,
   "metadata": {},
   "outputs": [],
   "source": [
    "mtns = [\"Hibriten\", \"Timbered Ridge\", \"Hen\"]\n",
    "message = f\"The Mountains are {mtns[0]}, {mtns[1]} and {mtns[2]}.\"\n",
    "#message\n",
    "\n",
    "for record in mtns:\n",
    "    print(record)\n",
    "\n"
   ]
  },
  {
   "cell_type": "code",
   "execution_count": null,
   "metadata": {},
   "outputs": [],
   "source": [
    "for val in range(1,5):\n",
    "    print(val)"
   ]
  },
  {
   "cell_type": "code",
   "execution_count": null,
   "metadata": {},
   "outputs": [],
   "source": [
    "mtnRange = list(range(1,6))\n",
    "mtnRange"
   ]
  },
  {
   "cell_type": "code",
   "execution_count": null,
   "metadata": {},
   "outputs": [],
   "source": [
    "squares = list()\n",
    "\n",
    "for record in range(1,4):\n",
    "    num = record**2\n",
    "    squares.append(num)\n",
    "\n",
    "print(squares)"
   ]
  },
  {
   "cell_type": "code",
   "execution_count": null,
   "metadata": {},
   "outputs": [],
   "source": [
    "squares = []\n",
    "for rec in range(1,10):\n",
    "    squares.append(rec**2)\n",
    "\n",
    "print(squares)"
   ]
  },
  {
   "cell_type": "code",
   "execution_count": null,
   "metadata": {},
   "outputs": [],
   "source": [
    "mtns = [\"Hibriten\", \"Timbered Ridge\", \"Hen\"]\n",
    "test = iter(mtns)\n",
    "test"
   ]
  },
  {
   "cell_type": "code",
   "execution_count": null,
   "metadata": {},
   "outputs": [],
   "source": [
    "next(test)  "
   ]
  },
  {
   "cell_type": "code",
   "execution_count": null,
   "metadata": {},
   "outputs": [],
   "source": [
    "next(test)"
   ]
  },
  {
   "cell_type": "code",
   "execution_count": null,
   "metadata": {},
   "outputs": [],
   "source": [
    "mtns = {\n",
    "    \"Hibriten\": 2211,\n",
    "    \"Timbered Rdige\": 1451,\n",
    "    \"Hen\": 1800\n",
    "}\n",
    "\n",
    "for mtn in mtns:\n",
    "    print(mtn)\n",
    "\n",
    "for mtn in mtns:\n",
    "    print(mtns[mtn])\n",
    "\n",
    "for mtn in mtns.values():\n",
    "    print(mtn)"
   ]
  },
  {
   "cell_type": "code",
   "execution_count": null,
   "metadata": {},
   "outputs": [],
   "source": [
    "mtns = {\n",
    "    \"Hibriten\": 2211,\n",
    "    \"Timbered Ridge\": 1451,\n",
    "    \"Hen\": 1800\n",
    "}\n",
    "\n",
    "#print(mtns.items())\n",
    "for mtn, ele in mtns.items():\n",
    "    print(mtn, ele)"
   ]
  },
  {
   "cell_type": "code",
   "execution_count": null,
   "metadata": {},
   "outputs": [],
   "source": [
    "for mtn in mtns:\n",
    "    print(mtns.keys())"
   ]
  },
  {
   "cell_type": "code",
   "execution_count": null,
   "metadata": {},
   "outputs": [],
   "source": [
    "for mtn in mtns:\n",
    "    print(mtns.values())"
   ]
  },
  {
   "cell_type": "code",
   "execution_count": null,
   "metadata": {},
   "outputs": [],
   "source": [
    "mtns[\"Cedar Valley\"] = 1100\n",
    "print(mtns)"
   ]
  },
  {
   "cell_type": "code",
   "execution_count": null,
   "metadata": {},
   "outputs": [],
   "source": [
    "del mtns[\"Cedar Valley\"]\n",
    "print(mtns)"
   ]
  },
  {
   "cell_type": "code",
   "execution_count": null,
   "metadata": {},
   "outputs": [],
   "source": [
    "\"Cedar Valley\" in mtns"
   ]
  },
  {
   "cell_type": "code",
   "execution_count": null,
   "metadata": {},
   "outputs": [],
   "source": [
    "len(mtns)"
   ]
  },
  {
   "cell_type": "code",
   "execution_count": null,
   "metadata": {},
   "outputs": [],
   "source": [
    "mtns.get(\"Hibriten\")"
   ]
  },
  {
   "cell_type": "code",
   "execution_count": null,
   "metadata": {},
   "outputs": [],
   "source": [
    "mtns[\"Small Peak\"] = 1940\n",
    "print(mtns)\n",
    "\n",
    "mtns.pop(\"Small Peak\")\n",
    "print(mtns)\n",
    "\n"
   ]
  },
  {
   "cell_type": "code",
   "execution_count": null,
   "metadata": {},
   "outputs": [],
   "source": [
    "mtnsEle = {\n",
    "    \"Adams\": 2490, \n",
    "    \"Brown\": 2283\n",
    "    }\n",
    "mtns.update(mtnsEle)\n",
    "print(mtns)"
   ]
  },
  {
   "cell_type": "code",
   "execution_count": null,
   "metadata": {},
   "outputs": [],
   "source": [
    "import pandas as pd\n",
    "print(pd)"
   ]
  },
  {
   "cell_type": "code",
   "execution_count": null,
   "metadata": {},
   "outputs": [],
   "source": [
    "import requests as rq\n",
    "print(rq)"
   ]
  },
  {
   "cell_type": "code",
   "execution_count": null,
   "metadata": {},
   "outputs": [],
   "source": [
    "def f():\n",
    "    s = '-- Inside f()'\n",
    "    print(s)\n",
    "\n",
    "print('Before calling f()')\n",
    "f()\n",
    "print('After calling f()')"
   ]
  },
  {
   "cell_type": "code",
   "execution_count": null,
   "metadata": {},
   "outputs": [],
   "source": [
    "def f(fx):\n",
    "    fx = 10\n",
    "    print(id(fx))\n",
    "\n",
    "x = 5\n",
    "f(x)\n",
    "print(id(x))\n",
    "print(x)\n",
    "\n"
   ]
  },
  {
   "cell_type": "code",
   "execution_count": null,
   "metadata": {},
   "outputs": [],
   "source": [
    "mtns = {\n",
    "    \"Hibriten\": 2211,\n",
    "    \"Timbered Ridge\": 1451,\n",
    "    \"Hen\": 1800\n",
    "}\n",
    "\n",
    "if \"Timbered\" in mtns:\n",
    "    print(True)"
   ]
  },
  {
   "cell_type": "code",
   "execution_count": null,
   "metadata": {},
   "outputs": [],
   "source": [
    "round(-0.88)\n"
   ]
  },
  {
   "cell_type": "code",
   "execution_count": null,
   "metadata": {},
   "outputs": [],
   "source": [
    "mtns = {\n",
    "    \"Hibriten\": 2211,\n",
    "    \"Timbered Ridge\": 1451,\n",
    "    \"Hen\": 1800\n",
    "}\n",
    "\n",
    "a,b,c = mtns\n",
    "print(f\"{a} Mountain,\\n{b},\\nand {c} Mountain\")"
   ]
  },
  {
   "cell_type": "code",
   "execution_count": null,
   "metadata": {},
   "outputs": [],
   "source": [
    "def test(x):\n",
    "    return x*2\n",
    "\n",
    "test(5)"
   ]
  },
  {
   "cell_type": "code",
   "execution_count": null,
   "metadata": {},
   "outputs": [],
   "source": [
    "def double(x):\n",
    "    i = 0\n",
    "    while i < len(x):\n",
    "        x[i] *= 2\n",
    "        i += 1\n",
    "\n",
    "def double_list(x):\n",
    "     r = []\n",
    "     for i in x:\n",
    "             r.append(i * 2)\n",
    "     return r\n",
    "\n",
    "\n",
    "b = [1, 2, 3, 4, 5]\n",
    "b= double_list(b)\n",
    "b\n"
   ]
  },
  {
   "cell_type": "code",
   "execution_count": null,
   "metadata": {},
   "outputs": [],
   "source": [
    "type(double_list)"
   ]
  },
  {
   "cell_type": "code",
   "execution_count": null,
   "metadata": {},
   "outputs": [],
   "source": [
    "type(2 +2.0)"
   ]
  },
  {
   "cell_type": "code",
   "execution_count": null,
   "metadata": {},
   "outputs": [],
   "source": [
    "type(1.0)"
   ]
  },
  {
   "cell_type": "code",
   "execution_count": null,
   "metadata": {},
   "outputs": [],
   "source": [
    "y = (3 + 4) * (5 + 7) + 0.001\n",
    "type(y)"
   ]
  },
  {
   "cell_type": "code",
   "execution_count": null,
   "metadata": {},
   "outputs": [],
   "source": [
    "#ele = (1850, 2000, 2500)\n",
    "\n",
    "def testing(*args):\n",
    "    return sum(args)\n",
    "\n",
    "testing(1850, 2000)\n"
   ]
  },
  {
   "cell_type": "code",
   "execution_count": null,
   "metadata": {},
   "outputs": [],
   "source": [
    "mtnsEle = {\n",
    "    \"Adams\": 2490, \n",
    "    \"Brown\": 2283\n",
    "    }\n",
    "\n",
    "for k,v in mtnsEle.items():\n",
    "    print(k,v)"
   ]
  },
  {
   "cell_type": "code",
   "execution_count": null,
   "metadata": {},
   "outputs": [],
   "source": [
    "def avg(*args):\n",
    "     total = 0\n",
    "     for i in args:\n",
    "         total += i\n",
    "         print(i)\n",
    "     return total / len(args)\n",
    "\n",
    "avg(10, 25, 30)"
   ]
  },
  {
   "cell_type": "code",
   "execution_count": null,
   "metadata": {},
   "outputs": [],
   "source": [
    "\n",
    "tup = (10, 25, 30)\n",
    "def average(*args):\n",
    "    return sum(args)/len(args)\n",
    "average(*tup)"
   ]
  },
  {
   "cell_type": "code",
   "execution_count": null,
   "metadata": {},
   "outputs": [],
   "source": [
    "mtns = {\n",
    "    \"Hibriten\": 2211,\n",
    "    \"Timbered Rdige\": 1451,\n",
    "    \"Hen\": 1800\n",
    "}\n",
    "\n",
    "def f(**kwargs):\n",
    "     print(kwargs)\n",
    "     print(type(kwargs))\n",
    "     for key, val in kwargs.items():\n",
    "             print(key, '->', val)\n",
    "\n",
    "f(Hibriten=2211, Hen=1800)\n",
    "f"
   ]
  },
  {
   "cell_type": "code",
   "execution_count": null,
   "metadata": {},
   "outputs": [],
   "source": [
    "mtns = {\n",
    "    \"Hibriten\": 2211,\n",
    "    \"Timbered Rdige\": 1451,\n",
    "    \"Hen\": 1800\n",
    "}\n",
    "\n",
    "f(**mtns)\n",
    "%whos"
   ]
  },
  {
   "cell_type": "code",
   "execution_count": null,
   "metadata": {},
   "outputs": [],
   "source": [
    "def concat(prefix, *args):\n",
    "     print(f'{prefix}{\".\".join(args)}')\n",
    "\n",
    "concat(\"*/* \", \"10\", \"20\", \"30\")"
   ]
  },
  {
   "cell_type": "code",
   "execution_count": null,
   "metadata": {},
   "outputs": [],
   "source": [
    "my_second_list = [1, 2.01, \"123\", [5, 6, 7]]\n",
    "my_second_list[3][1]"
   ]
  },
  {
   "cell_type": "code",
   "execution_count": null,
   "metadata": {},
   "outputs": [],
   "source": [
    "alist = [1,2,3,4,5,6,7,8,9,10]\n",
    "alist[7:]"
   ]
  },
  {
   "cell_type": "code",
   "execution_count": null,
   "metadata": {},
   "outputs": [],
   "source": [
    "adict = {'nickel': 5, 'dime': 10, 'quarter': 25}\n",
    "\n",
    "adict['quarter'] - 2*adict['dime'] "
   ]
  },
  {
   "cell_type": "code",
   "execution_count": null,
   "metadata": {},
   "outputs": [],
   "source": [
    "adict = {'a': [1,2,3], 'b': [4,5,6]}\n",
    "adict['d'] = [10,11,12]\n",
    "adict['b'] = [0,0,0]\n",
    "adict"
   ]
  },
  {
   "cell_type": "code",
   "execution_count": null,
   "metadata": {},
   "outputs": [],
   "source": [
    "def concat(*args, prefix='-> ', sep='.'):\n",
    "     print(f'{prefix}{sep.join(args)}')\n",
    "\n",
    "concat(\"10\", \"20\", \"30\", prefix=\"//\", sep=\"*\")"
   ]
  },
  {
   "cell_type": "code",
   "execution_count": null,
   "metadata": {},
   "outputs": [],
   "source": [
    "sets = {10,20,30}\n",
    "str = \"Hibriten Mountain\"\n",
    "\n",
    "def test():\n",
    "    if 10 in sets:\n",
    "        print(f\"The value {10} is in sets\")\n",
    "#test()\n",
    "\n",
    "splits = set(str)\n",
    "splits\n"
   ]
  },
  {
   "cell_type": "code",
   "execution_count": null,
   "metadata": {},
   "outputs": [],
   "source": [
    "allContent = gis.content.search(query=\"\", max_items = 500)\n",
    "allContent\n",
    "#call .delete(dry_run=True) to ensure deletion can proceed\n",
    "#call .delete() to let the torching commence"
   ]
  },
  {
   "cell_type": "code",
   "execution_count": null,
   "metadata": {},
   "outputs": [],
   "source": [
    "astring = \"aaa\"\n",
    "bstring = \"bbb\"\n",
    "cstring = astring + bstring\n",
    "cstring"
   ]
  },
  {
   "cell_type": "code",
   "execution_count": null,
   "metadata": {},
   "outputs": [],
   "source": [
    "mtns = {\n",
    "    \"Hibriten\": 2211,\n",
    "    \"Timbered Rdige\": 1451,\n",
    "    \"Hen\": 1800\n",
    "}\n",
    "\n",
    "mtns[\"Knoll Ridge\"] = 1980\n",
    "print(mtns)"
   ]
  },
  {
   "cell_type": "code",
   "execution_count": null,
   "metadata": {},
   "outputs": [],
   "source": [
    "sets = {10,20,30}\n",
    "sets.add(40)\n",
    "\n",
    "print(sets)\n"
   ]
  },
  {
   "cell_type": "code",
   "execution_count": null,
   "metadata": {},
   "outputs": [],
   "source": [
    "tup = (1, 2, 3)\n",
    "tup"
   ]
  },
  {
   "source": [
    "### Sets"
   ],
   "cell_type": "markdown",
   "metadata": {}
  },
  {
   "cell_type": "code",
   "execution_count": 53,
   "metadata": {},
   "outputs": [
    {
     "output_type": "execute_result",
     "data": {
      "text/plain": [
       "True"
      ]
     },
     "metadata": {},
     "execution_count": 53
    }
   ],
   "source": [
    "x = set([\"Hibriten\", \"Timbered Ridge\", \"Little Knoll\"])\n",
    "y = set((2200, 1800, 1650, \"Hibriten\"))\n",
    "\"Hibriten\" in y\n"
   ]
  },
  {
   "cell_type": "code",
   "execution_count": null,
   "metadata": {},
   "outputs": [],
   "source": [
    "print(\"Hibriten\" in x)\n",
    "print(\"Hen\" not in x)\n",
    "print(len(x))"
   ]
  },
  {
   "cell_type": "code",
   "execution_count": null,
   "metadata": {},
   "outputs": [],
   "source": [
    "#z = x | y\n",
    "\n",
    "x.union(y)\n",
    "\n"
   ]
  },
  {
   "cell_type": "code",
   "execution_count": null,
   "metadata": {},
   "outputs": [],
   "source": [
    "inter = x & y\n",
    "x.intersection(y)\n",
    "print(inter)"
   ]
  },
  {
   "cell_type": "code",
   "execution_count": null,
   "metadata": {},
   "outputs": [],
   "source": [
    "x = set([\"Hibriten\", \"Timbered Ridge\", \"Little Knoll\"])\n",
    "y = set((2200, 1800, 1650, \"Hibriten\"))\n",
    "\n",
    "print(x.difference(y))\n",
    "print(y.difference(x))"
   ]
  },
  {
   "cell_type": "code",
   "execution_count": null,
   "metadata": {},
   "outputs": [],
   "source": [
    "x.symmetric_difference(y)"
   ]
  },
  {
   "cell_type": "code",
   "execution_count": null,
   "metadata": {},
   "outputs": [],
   "source": [
    "y.symmetric_difference(x)"
   ]
  },
  {
   "cell_type": "code",
   "execution_count": null,
   "metadata": {},
   "outputs": [],
   "source": [
    "y.isdisjoint(x)"
   ]
  },
  {
   "cell_type": "code",
   "execution_count": null,
   "metadata": {},
   "outputs": [],
   "source": [
    "y.update([2150, 1980])\n",
    "y"
   ]
  },
  {
   "cell_type": "code",
   "execution_count": null,
   "metadata": {},
   "outputs": [],
   "source": [
    "y.symmetric_difference(x)"
   ]
  },
  {
   "cell_type": "code",
   "execution_count": null,
   "metadata": {},
   "outputs": [],
   "source": [
    "x.add()\n",
    "x.clear()\n",
    "x.remove()"
   ]
  },
  {
   "cell_type": "code",
   "execution_count": 44,
   "metadata": {},
   "outputs": [
    {
     "output_type": "execute_result",
     "data": {
      "text/plain": [
       "2050"
      ]
     },
     "metadata": {},
     "execution_count": 44
    }
   ],
   "source": [
    "x = set([\"Hibriten\", \"Timbered Ridge\", \"Little Knoll\"])\n",
    "y = set((2200, 1800, 1650, \"Hibriten\"))\n",
    "#yz = set((2000, 1950, 2050))\n",
    "un = x.union(y)\n",
    "un\n",
    "#max(yz)"
   ]
  },
  {
   "cell_type": "code",
   "execution_count": 35,
   "metadata": {},
   "outputs": [
    {
     "output_type": "execute_result",
     "data": {
      "text/plain": [
       "{1650, 1800, 2200, 'Little Knoll', 'Timbered Ridge'}"
      ]
     },
     "metadata": {},
     "execution_count": 35
    }
   ],
   "source": [
    "x.symmetric_difference(y)"
   ]
  },
  {
   "cell_type": "code",
   "execution_count": 36,
   "metadata": {},
   "outputs": [
    {
     "output_type": "execute_result",
     "data": {
      "text/plain": [
       "{'Little Knoll', 'Timbered Ridge'}"
      ]
     },
     "metadata": {},
     "execution_count": 36
    }
   ],
   "source": [
    "x.difference(y)"
   ]
  },
  {
   "cell_type": "code",
   "execution_count": 39,
   "metadata": {},
   "outputs": [
    {
     "output_type": "execute_result",
     "data": {
      "text/plain": [
       "{'Hibriten'}"
      ]
     },
     "metadata": {},
     "execution_count": 39
    }
   ],
   "source": [
    "x & y"
   ]
  },
  {
   "source": [
    "### Dictionaries"
   ],
   "cell_type": "markdown",
   "metadata": {}
  },
  {
   "cell_type": "code",
   "execution_count": 2,
   "metadata": {},
   "outputs": [
    {
     "output_type": "execute_result",
     "data": {
      "text/plain": [
       "2225484069184"
      ]
     },
     "metadata": {},
     "execution_count": 2
    }
   ],
   "source": [
    "mountains = dict()\n",
    "mountains[\"Hibriten\"] = 2200\n",
    "mountains[\"Hen\"] = 1850\n",
    "#print(mountains)\n",
    "#mountains[\"Hen\"]\n",
    "mountains[\"Brushy Mtns\"] = [2000, 2100, 2200]\n",
    "mountains[\"Brushy Mtns\"][0]\n",
    "id(mountains)"
   ]
  },
  {
   "cell_type": "code",
   "execution_count": 3,
   "metadata": {},
   "outputs": [
    {
     "output_type": "execute_result",
     "data": {
      "text/plain": [
       "3"
      ]
     },
     "metadata": {},
     "execution_count": 3
    }
   ],
   "source": [
    "len(mountains)"
   ]
  },
  {
   "cell_type": "code",
   "execution_count": 4,
   "metadata": {},
   "outputs": [
    {
     "output_type": "execute_result",
     "data": {
      "text/plain": [
       "2200"
      ]
     },
     "metadata": {},
     "execution_count": 4
    }
   ],
   "source": [
    "#mountains.clear()\n",
    "mountains.get(\"Hibriten\")   "
   ]
  },
  {
   "cell_type": "code",
   "execution_count": 24,
   "metadata": {},
   "outputs": [
    {
     "output_type": "stream",
     "name": "stdout",
     "text": [
      "dict_items([('Hibriten', 2200), ('Brushy Mtns', [2000, 2100, 2200]), ('Hen', 1920)])\ndict_keys(['Hibriten', 'Brushy Mtns', 'Hen'])\ndict_values([2200, [2000, 2100, 2200], 1920])\n"
     ]
    }
   ],
   "source": [
    "mountains[\"Hen\"] = 1920\n",
    "\n",
    "\n",
    "print(mountains.items())\n",
    "print(mountains.keys())\n",
    "print(mountains.values())"
   ]
  },
  {
   "cell_type": "code",
   "execution_count": 25,
   "metadata": {},
   "outputs": [
    {
     "output_type": "execute_result",
     "data": {
      "text/plain": [
       "1920"
      ]
     },
     "metadata": {},
     "execution_count": 25
    }
   ],
   "source": [
    "#help(mountains)\n",
    "mountains.pop('Hen')"
   ]
  },
  {
   "cell_type": "code",
   "execution_count": 26,
   "metadata": {},
   "outputs": [
    {
     "output_type": "execute_result",
     "data": {
      "text/plain": [
       "dict_items([('Hibriten', 2200), ('Brushy Mtns', [2000, 2100, 2200])])"
      ]
     },
     "metadata": {},
     "execution_count": 26
    }
   ],
   "source": [
    "mountains.items()"
   ]
  },
  {
   "cell_type": "code",
   "execution_count": 27,
   "metadata": {},
   "outputs": [
    {
     "output_type": "execute_result",
     "data": {
      "text/plain": [
       "{'Hibriten': 2200,\n",
       " 'Brushy Mtns': [2000, 2100, 2200],\n",
       " \"Miller's Creek Ridge\": 1500}"
      ]
     },
     "metadata": {},
     "execution_count": 27
    }
   ],
   "source": [
    "add = {\"Miller's Creek Ridge\": 1500}\n",
    "mountains.update(add)\n",
    "mountains"
   ]
  },
  {
   "cell_type": "code",
   "execution_count": 29,
   "metadata": {},
   "outputs": [
    {
     "output_type": "execute_result",
     "data": {
      "text/plain": [
       "{'Hibriten': 2200,\n",
       " 'Brushy Mtns': [2000, 2100, 2200],\n",
       " \"Miller's Creek Ridge\": 1500}"
      ]
     },
     "metadata": {},
     "execution_count": 29
    }
   ],
   "source": [
    "# Merge 2 dictionaries together\n",
    "final = {**mountains, **add}\n",
    "final"
   ]
  },
  {
   "source": [
    "### Lists & Tuples"
   ],
   "cell_type": "markdown",
   "metadata": {}
  },
  {
   "cell_type": "code",
   "execution_count": 30,
   "metadata": {},
   "outputs": [
    {
     "output_type": "execute_result",
     "data": {
      "text/plain": [
       "[2340, 2200, 1950]"
      ]
     },
     "metadata": {},
     "execution_count": 30
    }
   ],
   "source": [
    "elevations = [2340, 2200, 1950]\n",
    "elevations"
   ]
  },
  {
   "cell_type": "code",
   "execution_count": 40,
   "metadata": {},
   "outputs": [
    {
     "output_type": "execute_result",
     "data": {
      "text/plain": [
       "[1950, 2200, 2340]"
      ]
     },
     "metadata": {},
     "execution_count": 40
    }
   ],
   "source": [
    "elevations[-2]\n",
    "elevations[::-1]"
   ]
  },
  {
   "cell_type": "code",
   "execution_count": 42,
   "metadata": {},
   "outputs": [
    {
     "output_type": "execute_result",
     "data": {
      "text/plain": [
       "2340"
      ]
     },
     "metadata": {},
     "execution_count": 42
    }
   ],
   "source": [
    "max(elevations)"
   ]
  },
  {
   "cell_type": "code",
   "execution_count": 49,
   "metadata": {},
   "outputs": [
    {
     "output_type": "stream",
     "text": [
      "\u001b[1;31mSignature:\u001b[0m \u001b[0mconcat\u001b[0m\u001b[1;33m(\u001b[0m\u001b[1;33m*\u001b[0m\u001b[0margs\u001b[0m\u001b[1;33m,\u001b[0m \u001b[0mprefix\u001b[0m\u001b[1;33m=\u001b[0m\u001b[1;34m'-> '\u001b[0m\u001b[1;33m,\u001b[0m \u001b[0msep\u001b[0m\u001b[1;33m=\u001b[0m\u001b[1;34m'.'\u001b[0m\u001b[1;33m)\u001b[0m\u001b[1;33m\u001b[0m\u001b[1;33m\u001b[0m\u001b[0m\n",
      "\u001b[1;31mDocstring:\u001b[0m <no docstring>\n",
      "\u001b[1;31mSource:\u001b[0m   \n",
      "\u001b[1;32mdef\u001b[0m \u001b[0mconcat\u001b[0m\u001b[1;33m(\u001b[0m\u001b[1;33m*\u001b[0m\u001b[0margs\u001b[0m\u001b[1;33m,\u001b[0m \u001b[0mprefix\u001b[0m\u001b[1;33m=\u001b[0m\u001b[1;34m'-> '\u001b[0m\u001b[1;33m,\u001b[0m \u001b[0msep\u001b[0m\u001b[1;33m=\u001b[0m\u001b[1;34m'.'\u001b[0m\u001b[1;33m)\u001b[0m\u001b[1;33m:\u001b[0m\u001b[1;33m\n",
      "\u001b[0m     \u001b[0mprint\u001b[0m\u001b[1;33m(\u001b[0m\u001b[1;34mf'{prefix}{sep.join(args)}'\u001b[0m\u001b[1;33m)\u001b[0m\u001b[1;33m\u001b[0m\u001b[1;33m\u001b[0m\u001b[0m\n",
      "\u001b[1;31mFile:\u001b[0m      c:\\development_projects\\cornell_ds\\cornell_data_science\\<ipython-input-49-4942a364fcc7>\n",
      "\u001b[1;31mType:\u001b[0m      function\n"
     ],
     "name": "stdout"
    }
   ],
   "source": [
    "\n",
    "\n",
    "def concat(*args, prefix='-> ', sep='.'):\n",
    "     print(f'{prefix}{sep.join(args)}')\n",
    "\n",
    "#concat??"
   ]
  },
  {
   "cell_type": "code",
   "execution_count": 55,
   "metadata": {},
   "outputs": [
    {
     "output_type": "execute_result",
     "data": {
      "text/plain": [
       "True"
      ]
     },
     "metadata": {},
     "execution_count": 55
    }
   ],
   "source": [
    "adict = {\n",
    "    \"a\":1,\n",
    "    \"b\":2,\n",
    "    \"c\":3\n",
    "        }\n",
    "\n",
    "\"c\" in adict"
   ]
  },
  {
   "cell_type": "code",
   "execution_count": 2,
   "metadata": {},
   "outputs": [
    {
     "output_type": "execute_result",
     "data": {
      "text/plain": [
       "[1, 4, 2, 3]"
      ]
     },
     "metadata": {},
     "execution_count": 2
    }
   ],
   "source": [
    "my_list = [1,2,3] \n",
    "my_list.insert(1,4)\n",
    "my_list"
   ]
  },
  {
   "cell_type": "code",
   "execution_count": 3,
   "metadata": {},
   "outputs": [
    {
     "output_type": "execute_result",
     "data": {
      "text/plain": [
       "{0: 0, 1: 1, 2: 4, 3: 9, 4: 16, 5: 25}"
      ]
     },
     "metadata": {},
     "execution_count": 3
    }
   ],
   "source": [
    "squares = {x: x * x for x in range(6)}\n",
    "squares"
   ]
  },
  {
   "cell_type": "code",
   "execution_count": 10,
   "metadata": {},
   "outputs": [
    {
     "output_type": "execute_result",
     "data": {
      "text/plain": [
       "{'Steels': 3000, 'Gingercake': 2800, 'Upper': 2200}"
      ]
     },
     "metadata": {},
     "execution_count": 10
    }
   ],
   "source": [
    "streams = [\"Steels\", \"Gingercake\", \"Upper\"]\n",
    "elevation = [3000, 2800, 2200]\n",
    "\n",
    "mountains2 = {key:value for key, value in zip(streams, elevation)}\n",
    "mountains2"
   ]
  },
  {
   "cell_type": "code",
   "execution_count": 14,
   "metadata": {},
   "outputs": [
    {
     "output_type": "execute_result",
     "data": {
      "text/plain": [
       "3000"
      ]
     },
     "metadata": {},
     "execution_count": 14
    }
   ],
   "source": [
    "min(mountains2.values())\n",
    "max(mountains2.values())"
   ]
  },
  {
   "cell_type": "code",
   "execution_count": 16,
   "metadata": {},
   "outputs": [
    {
     "output_type": "execute_result",
     "data": {
      "text/plain": [
       "1950"
      ]
     },
     "metadata": {},
     "execution_count": 16
    }
   ],
   "source": [
    "tup = (2200, 1950, 1600)\n",
    "tup[1]"
   ]
  },
  {
   "cell_type": "code",
   "execution_count": null,
   "metadata": {},
   "outputs": [],
   "source": []
  }
 ]
}