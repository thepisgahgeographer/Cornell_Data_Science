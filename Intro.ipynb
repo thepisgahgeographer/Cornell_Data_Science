{
 "metadata": {
  "language_info": {
   "codemirror_mode": {
    "name": "ipython",
    "version": 3
   },
   "file_extension": ".py",
   "mimetype": "text/x-python",
   "name": "python",
   "nbconvert_exporter": "python",
   "pygments_lexer": "ipython3",
   "version": "3.8.5"
  },
  "orig_nbformat": 2,
  "kernelspec": {
   "name": "python38564bitgisapiconda9006691f20974030baa3b28e15c02088",
   "display_name": "Python 3.8.5 64-bit ('GISAPI': conda)"
  },
  "metadata": {
   "interpreter": {
    "hash": "d36bcb9db2b01809dd0786a778839d7cb7bf4091d5809431ddbab2266db9b46f"
   }
  }
 },
 "nbformat": 4,
 "nbformat_minor": 2,
 "cells": [
  {
   "cell_type": "code",
   "execution_count": null,
   "metadata": {},
   "outputs": [],
   "source": [
    "peak1 = \"Hibriten Mtn   \"\n",
    "peak2 = \"Timbered Ridge\"\n",
    "print(f\"{peak1.rstrip()} & {peak2}\")"
   ]
  },
  {
   "cell_type": "code",
   "execution_count": null,
   "metadata": {},
   "outputs": [],
   "source": [
    "3**2"
   ]
  },
  {
   "cell_type": "code",
   "execution_count": null,
   "metadata": {},
   "outputs": [],
   "source": [
    "import this"
   ]
  },
  {
   "cell_type": "code",
   "execution_count": null,
   "metadata": {},
   "outputs": [],
   "source": [
    "mtns = [\"Hibriten\", \"Timbered Ridge\", \"Hen\"]\n",
    "print(mtns[1])\n",
    "print(mtns[2])"
   ]
  },
  {
   "cell_type": "code",
   "execution_count": null,
   "metadata": {},
   "outputs": [],
   "source": [
    "pip install xlrd\n"
   ]
  },
  {
   "cell_type": "code",
   "execution_count": null,
   "metadata": {},
   "outputs": [],
   "source": [
    "mtns = [\"Hibriten\", \"Timbered Ridge\", \"Hen\"]\n",
    "message = f\"The Mountains are {mtns[0]}, {mtns[1]} and {mtns[2]}.\"\n",
    "#message\n",
    "\n",
    "for record in mtns:\n",
    "    print(record)\n",
    "\n"
   ]
  },
  {
   "cell_type": "code",
   "execution_count": null,
   "metadata": {},
   "outputs": [],
   "source": [
    "for val in range(1,5):\n",
    "    print(val)"
   ]
  },
  {
   "cell_type": "code",
   "execution_count": null,
   "metadata": {},
   "outputs": [],
   "source": [
    "mtnRange = list(range(1,6))\n",
    "mtnRange"
   ]
  },
  {
   "cell_type": "code",
   "execution_count": null,
   "metadata": {},
   "outputs": [],
   "source": [
    "squares = list()\n",
    "\n",
    "for record in range(1,4):\n",
    "    num = record**2\n",
    "    squares.append(num)\n",
    "\n",
    "print(squares)"
   ]
  },
  {
   "cell_type": "code",
   "execution_count": null,
   "metadata": {},
   "outputs": [],
   "source": [
    "squares = []\n",
    "for rec in range(1,10):\n",
    "    squares.append(rec**2)\n",
    "\n",
    "print(squares)"
   ]
  },
  {
   "cell_type": "code",
   "execution_count": null,
   "metadata": {},
   "outputs": [],
   "source": [
    "mtns = [\"Hibriten\", \"Timbered Ridge\", \"Hen\"]\n",
    "test = iter(mtns)\n",
    "test"
   ]
  },
  {
   "cell_type": "code",
   "execution_count": null,
   "metadata": {},
   "outputs": [],
   "source": [
    "next(test)  "
   ]
  },
  {
   "cell_type": "code",
   "execution_count": null,
   "metadata": {},
   "outputs": [],
   "source": [
    "next(test)"
   ]
  },
  {
   "cell_type": "code",
   "execution_count": null,
   "metadata": {},
   "outputs": [],
   "source": [
    "mtns = {\n",
    "    \"Hibriten\": 2211,\n",
    "    \"Timbered Rdige\": 1451,\n",
    "    \"Hen\": 1800\n",
    "}\n",
    "\n",
    "for mtn in mtns:\n",
    "    print(mtn)\n",
    "\n",
    "for mtn in mtns:\n",
    "    print(mtns[mtn])\n",
    "\n",
    "for mtn in mtns.values():\n",
    "    print(mtn)"
   ]
  },
  {
   "cell_type": "code",
   "execution_count": null,
   "metadata": {},
   "outputs": [],
   "source": [
    "mtns = {\n",
    "    \"Hibriten\": 2211,\n",
    "    \"Timbered Ridge\": 1451,\n",
    "    \"Hen\": 1800\n",
    "}\n",
    "\n",
    "#print(mtns.items())\n",
    "for mtn, ele in mtns.items():\n",
    "    print(mtn, ele)"
   ]
  },
  {
   "cell_type": "code",
   "execution_count": null,
   "metadata": {},
   "outputs": [],
   "source": [
    "for mtn in mtns:\n",
    "    print(mtns.keys())"
   ]
  },
  {
   "cell_type": "code",
   "execution_count": null,
   "metadata": {},
   "outputs": [],
   "source": [
    "for mtn in mtns:\n",
    "    print(mtns.values())"
   ]
  },
  {
   "cell_type": "code",
   "execution_count": null,
   "metadata": {},
   "outputs": [],
   "source": [
    "mtns[\"Cedar Valley\"] = 1100\n",
    "print(mtns)"
   ]
  },
  {
   "cell_type": "code",
   "execution_count": null,
   "metadata": {},
   "outputs": [],
   "source": [
    "del mtns[\"Cedar Valley\"]\n",
    "print(mtns)"
   ]
  },
  {
   "cell_type": "code",
   "execution_count": null,
   "metadata": {},
   "outputs": [],
   "source": [
    "\"Cedar Valley\" in mtns"
   ]
  },
  {
   "cell_type": "code",
   "execution_count": null,
   "metadata": {},
   "outputs": [],
   "source": [
    "len(mtns)"
   ]
  },
  {
   "cell_type": "code",
   "execution_count": null,
   "metadata": {},
   "outputs": [],
   "source": [
    "mtns.get(\"Hibriten\")"
   ]
  },
  {
   "cell_type": "code",
   "execution_count": null,
   "metadata": {},
   "outputs": [],
   "source": [
    "mtns[\"Small Peak\"] = 1940\n",
    "print(mtns)\n",
    "\n",
    "mtns.pop(\"Small Peak\")\n",
    "print(mtns)\n",
    "\n"
   ]
  },
  {
   "cell_type": "code",
   "execution_count": null,
   "metadata": {},
   "outputs": [],
   "source": [
    "mtnsEle = {\n",
    "    \"Adams\": 2490, \n",
    "    \"Brown\": 2283\n",
    "    }\n",
    "mtns.update(mtnsEle)\n",
    "print(mtns)"
   ]
  },
  {
   "cell_type": "code",
   "execution_count": null,
   "metadata": {},
   "outputs": [],
   "source": [
    "import pandas as pd\n",
    "print(pd)"
   ]
  },
  {
   "cell_type": "code",
   "execution_count": null,
   "metadata": {},
   "outputs": [],
   "source": [
    "import requests as rq\n",
    "print(rq)"
   ]
  },
  {
   "cell_type": "code",
   "execution_count": null,
   "metadata": {},
   "outputs": [],
   "source": [
    "def f():\n",
    "    s = '-- Inside f()'\n",
    "    print(s)\n",
    "\n",
    "print('Before calling f()')\n",
    "f()\n",
    "print('After calling f()')"
   ]
  },
  {
   "cell_type": "code",
   "execution_count": null,
   "metadata": {},
   "outputs": [],
   "source": [
    "def f(fx):\n",
    "    fx = 10\n",
    "    print(id(fx))\n",
    "\n",
    "x = 5\n",
    "f(x)\n",
    "print(id(x))\n",
    "print(x)\n",
    "\n"
   ]
  },
  {
   "cell_type": "code",
   "execution_count": null,
   "metadata": {},
   "outputs": [],
   "source": [
    "mtns = {\n",
    "    \"Hibriten\": 2211,\n",
    "    \"Timbered Ridge\": 1451,\n",
    "    \"Hen\": 1800\n",
    "}\n",
    "\n",
    "if \"Timbered\" in mtns:\n",
    "    print(True)"
   ]
  },
  {
   "cell_type": "code",
   "execution_count": null,
   "metadata": {},
   "outputs": [],
   "source": [
    "round(-0.88)\n"
   ]
  },
  {
   "cell_type": "code",
   "execution_count": null,
   "metadata": {},
   "outputs": [],
   "source": [
    "mtns = {\n",
    "    \"Hibriten\": 2211,\n",
    "    \"Timbered Ridge\": 1451,\n",
    "    \"Hen\": 1800\n",
    "}\n",
    "\n",
    "a,b,c = mtns\n",
    "print(f\"{a} Mountain,\\n{b},\\nand {c} Mountain\")"
   ]
  },
  {
   "cell_type": "code",
   "execution_count": null,
   "metadata": {},
   "outputs": [],
   "source": [
    "def test(x):\n",
    "    return x*2\n",
    "\n",
    "test(5)"
   ]
  },
  {
   "cell_type": "code",
   "execution_count": null,
   "metadata": {},
   "outputs": [],
   "source": [
    "def double(x):\n",
    "    i = 0\n",
    "    while i < len(x):\n",
    "        x[i] *= 2\n",
    "        i += 1\n",
    "\n",
    "def double_list(x):\n",
    "     r = []\n",
    "     for i in x:\n",
    "             r.append(i * 2)\n",
    "     return r\n",
    "\n",
    "\n",
    "b = [1, 2, 3, 4, 5]\n",
    "b= double_list(b)\n",
    "b\n"
   ]
  },
  {
   "cell_type": "code",
   "execution_count": null,
   "metadata": {},
   "outputs": [],
   "source": [
    "type(double_list)"
   ]
  },
  {
   "cell_type": "code",
   "execution_count": null,
   "metadata": {},
   "outputs": [],
   "source": [
    "type(2 +2.0)"
   ]
  },
  {
   "cell_type": "code",
   "execution_count": null,
   "metadata": {},
   "outputs": [],
   "source": [
    "type(1.0)"
   ]
  },
  {
   "cell_type": "code",
   "execution_count": null,
   "metadata": {},
   "outputs": [],
   "source": [
    "y = (3 + 4) * (5 + 7) + 0.001\n",
    "type(y)"
   ]
  },
  {
   "cell_type": "code",
   "execution_count": null,
   "metadata": {},
   "outputs": [],
   "source": [
    "#ele = (1850, 2000, 2500)\n",
    "\n",
    "def testing(*args):\n",
    "    return sum(args)\n",
    "\n",
    "testing(1850, 2000)\n"
   ]
  },
  {
   "cell_type": "code",
   "execution_count": null,
   "metadata": {},
   "outputs": [],
   "source": [
    "mtnsEle = {\n",
    "    \"Adams\": 2490, \n",
    "    \"Brown\": 2283\n",
    "    }\n",
    "\n",
    "for k,v in mtnsEle.items():\n",
    "    print(k,v)"
   ]
  },
  {
   "cell_type": "code",
   "execution_count": null,
   "metadata": {},
   "outputs": [],
   "source": [
    "def avg(*args):\n",
    "     total = 0\n",
    "     for i in args:\n",
    "         total += i\n",
    "         print(i)\n",
    "     return total / len(args)\n",
    "\n",
    "avg(10, 25, 30)"
   ]
  },
  {
   "cell_type": "code",
   "execution_count": null,
   "metadata": {},
   "outputs": [],
   "source": [
    "\n",
    "tup = (10, 25, 30)\n",
    "def average(*args):\n",
    "    return sum(args)/len(args)\n",
    "average(*tup)"
   ]
  },
  {
   "cell_type": "code",
   "execution_count": null,
   "metadata": {},
   "outputs": [],
   "source": [
    "mtns = {\n",
    "    \"Hibriten\": 2211,\n",
    "    \"Timbered Rdige\": 1451,\n",
    "    \"Hen\": 1800\n",
    "}\n",
    "\n",
    "def f(**kwargs):\n",
    "     print(kwargs)\n",
    "     print(type(kwargs))\n",
    "     for key, val in kwargs.items():\n",
    "             print(key, '->', val)\n",
    "\n",
    "f(Hibriten=2211, Hen=1800)\n",
    "f"
   ]
  },
  {
   "cell_type": "code",
   "execution_count": null,
   "metadata": {},
   "outputs": [],
   "source": [
    "mtns = {\n",
    "    \"Hibriten\": 2211,\n",
    "    \"Timbered Rdige\": 1451,\n",
    "    \"Hen\": 1800\n",
    "}\n",
    "\n",
    "f(**mtns)\n",
    "%whos"
   ]
  },
  {
   "cell_type": "code",
   "execution_count": null,
   "metadata": {},
   "outputs": [],
   "source": [
    "def concat(prefix, *args):\n",
    "     print(f'{prefix}{\".\".join(args)}')\n",
    "\n",
    "concat(\"*/* \", \"10\", \"20\", \"30\")"
   ]
  },
  {
   "cell_type": "code",
   "execution_count": null,
   "metadata": {},
   "outputs": [],
   "source": [
    "my_second_list = [1, 2.01, \"123\", [5, 6, 7]]\n",
    "my_second_list[3][1]"
   ]
  },
  {
   "cell_type": "code",
   "execution_count": null,
   "metadata": {},
   "outputs": [],
   "source": [
    "alist = [1,2,3,4,5,6,7,8,9,10]\n",
    "alist[7:]"
   ]
  },
  {
   "cell_type": "code",
   "execution_count": null,
   "metadata": {},
   "outputs": [],
   "source": [
    "adict = {'nickel': 5, 'dime': 10, 'quarter': 25}\n",
    "\n",
    "adict['quarter'] - 2*adict['dime'] "
   ]
  },
  {
   "cell_type": "code",
   "execution_count": null,
   "metadata": {},
   "outputs": [],
   "source": [
    "adict = {'a': [1,2,3], 'b': [4,5,6]}\n",
    "adict['d'] = [10,11,12]\n",
    "adict['b'] = [0,0,0]\n",
    "adict"
   ]
  },
  {
   "cell_type": "code",
   "execution_count": null,
   "metadata": {},
   "outputs": [],
   "source": [
    "def concat(*args, prefix='-> ', sep='.'):\n",
    "     print(f'{prefix}{sep.join(args)}')\n",
    "\n",
    "concat(\"10\", \"20\", \"30\", prefix=\"//\", sep=\"*\")"
   ]
  },
  {
   "cell_type": "code",
   "execution_count": null,
   "metadata": {},
   "outputs": [],
   "source": [
    "sets = {10,20,30}\n",
    "str = \"Hibriten Mountain\"\n",
    "\n",
    "def test():\n",
    "    if 10 in sets:\n",
    "        print(f\"The value {10} is in sets\")\n",
    "#test()\n",
    "\n",
    "splits = set(str)\n",
    "splits\n"
   ]
  },
  {
   "cell_type": "code",
   "execution_count": null,
   "metadata": {},
   "outputs": [],
   "source": [
    "allContent = gis.content.search(query=\"\", max_items = 500)\n",
    "allContent\n",
    "#call .delete(dry_run=True) to ensure deletion can proceed\n",
    "#call .delete() to let the torching commence"
   ]
  },
  {
   "cell_type": "code",
   "execution_count": null,
   "metadata": {},
   "outputs": [],
   "source": [
    "astring = \"aaa\"\n",
    "bstring = \"bbb\"\n",
    "cstring = astring + bstring\n",
    "cstring"
   ]
  },
  {
   "cell_type": "code",
   "execution_count": null,
   "metadata": {},
   "outputs": [],
   "source": [
    "mtns = {\n",
    "    \"Hibriten\": 2211,\n",
    "    \"Timbered Rdige\": 1451,\n",
    "    \"Hen\": 1800\n",
    "}\n",
    "\n",
    "mtns[\"Knoll Ridge\"] = 1980\n",
    "print(mtns)"
   ]
  },
  {
   "cell_type": "code",
   "execution_count": 4,
   "metadata": {},
   "outputs": [
    {
     "output_type": "stream",
     "name": "stdout",
     "text": [
      "{40, 10, 20, 30}\n"
     ]
    }
   ],
   "source": [
    "sets = {10,20,30}\n",
    "sets.add(40)\n",
    "\n",
    "print(sets)\n"
   ]
  },
  {
   "cell_type": "code",
   "execution_count": null,
   "metadata": {},
   "outputs": [],
   "source": [
    "tup = (1, 2, 3)\n",
    "tup[1]"
   ]
  },
  {
   "cell_type": "code",
   "execution_count": null,
   "metadata": {},
   "outputs": [],
   "source": []
  }
 ]
}