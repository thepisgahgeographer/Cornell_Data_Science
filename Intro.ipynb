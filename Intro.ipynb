{
 "metadata": {
  "language_info": {
   "codemirror_mode": {
    "name": "ipython",
    "version": 3
   },
   "file_extension": ".py",
   "mimetype": "text/x-python",
   "name": "python",
   "nbconvert_exporter": "python",
   "pygments_lexer": "ipython3",
   "version": "3.8.5"
  },
  "orig_nbformat": 2,
  "kernelspec": {
   "name": "python38564bitgisapiconda9006691f20974030baa3b28e15c02088",
   "display_name": "Python 3.8.5 64-bit ('GISAPI': conda)"
  },
  "metadata": {
   "interpreter": {
    "hash": "d36bcb9db2b01809dd0786a778839d7cb7bf4091d5809431ddbab2266db9b46f"
   }
  }
 },
 "nbformat": 4,
 "nbformat_minor": 2,
 "cells": [
  {
   "cell_type": "code",
   "execution_count": null,
   "metadata": {},
   "outputs": [],
   "source": [
    "peak1 = \"Hibriten Mtn   \"\n",
    "peak2 = \"Timbered Ridge\"\n",
    "print(f\"{peak1.rstrip()} & {peak2}\")"
   ]
  },
  {
   "cell_type": "code",
   "execution_count": null,
   "metadata": {},
   "outputs": [],
   "source": [
    "3**2"
   ]
  },
  {
   "cell_type": "code",
   "execution_count": null,
   "metadata": {},
   "outputs": [],
   "source": [
    "import this"
   ]
  },
  {
   "cell_type": "code",
   "execution_count": null,
   "metadata": {},
   "outputs": [],
   "source": [
    "mtns = [\"Hibriten\", \"Timbered Ridge\", \"Hen\"]\n",
    "print(mtns[1])\n",
    "print(mtns[2])"
   ]
  },
  {
   "cell_type": "code",
   "execution_count": null,
   "metadata": {},
   "outputs": [],
   "source": [
    "pip install xlrd\n"
   ]
  },
  {
   "cell_type": "code",
   "execution_count": null,
   "metadata": {},
   "outputs": [],
   "source": [
    "mtns = [\"Hibriten\", \"Timbered Ridge\", \"Hen\"]\n",
    "message = f\"The Mountains are {mtns[0]}, {mtns[1]} and {mtns[2]}.\"\n",
    "#message\n",
    "\n",
    "for record in mtns:\n",
    "    print(record)\n",
    "\n"
   ]
  },
  {
   "cell_type": "code",
   "execution_count": null,
   "metadata": {},
   "outputs": [],
   "source": [
    "for val in range(1,5):\n",
    "    print(val)"
   ]
  },
  {
   "cell_type": "code",
   "execution_count": null,
   "metadata": {},
   "outputs": [],
   "source": [
    "mtnRange = list(range(1,6))\n",
    "mtnRange"
   ]
  },
  {
   "cell_type": "code",
   "execution_count": null,
   "metadata": {},
   "outputs": [],
   "source": [
    "squares = list()\n",
    "\n",
    "for record in range(1,4):\n",
    "    num = record**2\n",
    "    squares.append(num)\n",
    "\n",
    "print(squares)"
   ]
  },
  {
   "cell_type": "code",
   "execution_count": null,
   "metadata": {},
   "outputs": [],
   "source": [
    "squares = []\n",
    "for rec in range(1,10):\n",
    "    squares.append(rec**2)\n",
    "\n",
    "print(squares)"
   ]
  },
  {
   "cell_type": "code",
   "execution_count": null,
   "metadata": {},
   "outputs": [],
   "source": [
    "mtns = [\"Hibriten\", \"Timbered Ridge\", \"Hen\"]\n",
    "test = iter(mtns)\n",
    "test"
   ]
  },
  {
   "cell_type": "code",
   "execution_count": null,
   "metadata": {},
   "outputs": [],
   "source": [
    "next(test)  "
   ]
  },
  {
   "cell_type": "code",
   "execution_count": null,
   "metadata": {},
   "outputs": [],
   "source": [
    "next(test)"
   ]
  },
  {
   "cell_type": "code",
   "execution_count": null,
   "metadata": {},
   "outputs": [],
   "source": [
    "mtns = {\n",
    "    \"Hibriten\": 2211,\n",
    "    \"Timbered Rdige\": 1451,\n",
    "    \"Hen\": 1800\n",
    "}\n",
    "\n",
    "for mtn in mtns:\n",
    "    print(mtn)\n",
    "\n",
    "for mtn in mtns:\n",
    "    print(mtns[mtn])\n",
    "\n",
    "for mtn in mtns.values():\n",
    "    print(mtn)"
   ]
  },
  {
   "cell_type": "code",
   "execution_count": null,
   "metadata": {},
   "outputs": [],
   "source": [
    "mtns = {\n",
    "    \"Hibriten\": 2211,\n",
    "    \"Timbered Ridge\": 1451,\n",
    "    \"Hen\": 1800\n",
    "}\n",
    "\n",
    "#print(mtns.items())\n",
    "for mtn, ele in mtns.items():\n",
    "    print(mtn, ele)"
   ]
  },
  {
   "cell_type": "code",
   "execution_count": null,
   "metadata": {},
   "outputs": [],
   "source": [
    "for mtn in mtns:\n",
    "    print(mtns.keys())"
   ]
  },
  {
   "cell_type": "code",
   "execution_count": null,
   "metadata": {},
   "outputs": [],
   "source": [
    "for mtn in mtns:\n",
    "    print(mtns.values())"
   ]
  },
  {
   "cell_type": "code",
   "execution_count": null,
   "metadata": {},
   "outputs": [],
   "source": [
    "mtns[\"Cedar Valley\"] = 1100\n",
    "print(mtns)"
   ]
  },
  {
   "cell_type": "code",
   "execution_count": null,
   "metadata": {},
   "outputs": [],
   "source": [
    "del mtns[\"Cedar Valley\"]\n",
    "print(mtns)"
   ]
  },
  {
   "cell_type": "code",
   "execution_count": null,
   "metadata": {},
   "outputs": [],
   "source": [
    "\"Cedar Valley\" in mtns"
   ]
  },
  {
   "cell_type": "code",
   "execution_count": null,
   "metadata": {},
   "outputs": [],
   "source": [
    "len(mtns)"
   ]
  },
  {
   "cell_type": "code",
   "execution_count": null,
   "metadata": {},
   "outputs": [],
   "source": [
    "mtns.get(\"Hibriten\")"
   ]
  },
  {
   "cell_type": "code",
   "execution_count": null,
   "metadata": {},
   "outputs": [],
   "source": [
    "mtns[\"Small Peak\"] = 1940\n",
    "print(mtns)\n",
    "\n",
    "mtns.pop(\"Small Peak\")\n",
    "print(mtns)\n",
    "\n"
   ]
  },
  {
   "cell_type": "code",
   "execution_count": null,
   "metadata": {},
   "outputs": [],
   "source": [
    "mtnsEle = {\n",
    "    \"Adams\": 2490, \n",
    "    \"Brown\": 2283\n",
    "    }\n",
    "mtns.update(mtnsEle)\n",
    "print(mtns)"
   ]
  },
  {
   "cell_type": "code",
   "execution_count": null,
   "metadata": {},
   "outputs": [],
   "source": [
    "import pandas as pd\n",
    "print(pd)"
   ]
  },
  {
   "cell_type": "code",
   "execution_count": null,
   "metadata": {},
   "outputs": [],
   "source": [
    "import requests as rq\n",
    "print(rq)"
   ]
  },
  {
   "cell_type": "code",
   "execution_count": null,
   "metadata": {},
   "outputs": [],
   "source": [
    "def f():\n",
    "    s = '-- Inside f()'\n",
    "    print(s)\n",
    "\n",
    "print('Before calling f()')\n",
    "f()\n",
    "print('After calling f()')"
   ]
  },
  {
   "cell_type": "code",
   "execution_count": null,
   "metadata": {},
   "outputs": [],
   "source": [
    "def f(fx):\n",
    "    fx = 10\n",
    "    print(id(fx))\n",
    "\n",
    "x = 5\n",
    "f(x)\n",
    "print(id(x))\n",
    "print(x)\n",
    "\n"
   ]
  },
  {
   "cell_type": "code",
   "execution_count": null,
   "metadata": {},
   "outputs": [],
   "source": [
    "mtns = {\n",
    "    \"Hibriten\": 2211,\n",
    "    \"Timbered Ridge\": 1451,\n",
    "    \"Hen\": 1800\n",
    "}\n",
    "\n",
    "if \"Timbered\" in mtns:\n",
    "    print(True)"
   ]
  },
  {
   "cell_type": "code",
   "execution_count": 6,
   "metadata": {},
   "outputs": [
    {
     "output_type": "execute_result",
     "data": {
      "text/plain": [
       "8"
      ]
     },
     "metadata": {},
     "execution_count": 6
    }
   ],
   "source": [
    "2**3\n"
   ]
  },
  {
   "cell_type": "code",
   "execution_count": null,
   "metadata": {},
   "outputs": [],
   "source": []
  }
 ]
}