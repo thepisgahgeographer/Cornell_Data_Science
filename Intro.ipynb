{
 "metadata": {
  "language_info": {
   "codemirror_mode": {
    "name": "ipython",
    "version": 3
   },
   "file_extension": ".py",
   "mimetype": "text/x-python",
   "name": "python",
   "nbconvert_exporter": "python",
   "pygments_lexer": "ipython3",
   "version": "3.8.5"
  },
  "orig_nbformat": 2,
  "kernelspec": {
   "name": "python38564bitgisapiconda9006691f20974030baa3b28e15c02088",
   "display_name": "Python 3.8.5 64-bit ('GISAPI': conda)"
  },
  "metadata": {
   "interpreter": {
    "hash": "d36bcb9db2b01809dd0786a778839d7cb7bf4091d5809431ddbab2266db9b46f"
   }
  }
 },
 "nbformat": 4,
 "nbformat_minor": 2,
 "cells": [
  {
   "cell_type": "code",
   "execution_count": null,
   "metadata": {},
   "outputs": [],
   "source": [
    "peak1 = \"Hibriten Mtn   \"\n",
    "peak2 = \"Timbered Ridge\"\n",
    "print(f\"{peak1.rstrip()} & {peak2}\")"
   ]
  },
  {
   "cell_type": "code",
   "execution_count": null,
   "metadata": {},
   "outputs": [],
   "source": [
    "3**2"
   ]
  },
  {
   "cell_type": "code",
   "execution_count": null,
   "metadata": {},
   "outputs": [],
   "source": [
    "import this"
   ]
  },
  {
   "cell_type": "code",
   "execution_count": 1,
   "metadata": {},
   "outputs": [
    {
     "output_type": "stream",
     "name": "stdout",
     "text": [
      "Timbered Ridge\nHen\n"
     ]
    }
   ],
   "source": [
    "mtns = [\"Hibriten\", \"Timbered Ridge\", \"Hen\"]\n",
    "print(mtns[1])\n",
    "print(mtns[2])"
   ]
  },
  {
   "cell_type": "code",
   "execution_count": 2,
   "metadata": {},
   "outputs": [
    {
     "output_type": "stream",
     "name": "stdout",
     "text": [
      "Collecting xlrd\n  Downloading xlrd-2.0.1-py2.py3-none-any.whl (96 kB)\nInstalling collected packages: xlrd\nSuccessfully installed xlrd-2.0.1\nNote: you may need to restart the kernel to use updated packages.\n"
     ]
    }
   ],
   "source": [
    "pip install xlrd\n"
   ]
  },
  {
   "cell_type": "code",
   "execution_count": 3,
   "metadata": {},
   "outputs": [
    {
     "output_type": "stream",
     "name": "stdout",
     "text": [
      "Hibriten\nTimbered Ridge\nHen\n"
     ]
    }
   ],
   "source": [
    "mtns = [\"Hibriten\", \"Timbered Ridge\", \"Hen\"]\n",
    "message = f\"The Mountains are {mtns[0]}, {mtns[1]} and {mtns[2]}.\"\n",
    "#message\n",
    "\n",
    "for record in mtns:\n",
    "    print(record)\n",
    "\n"
   ]
  },
  {
   "cell_type": "code",
   "execution_count": 5,
   "metadata": {},
   "outputs": [
    {
     "output_type": "stream",
     "name": "stdout",
     "text": [
      "1\n2\n3\n4\n"
     ]
    }
   ],
   "source": [
    "for val in range(1,5):\n",
    "    print(val)"
   ]
  },
  {
   "cell_type": "code",
   "execution_count": 6,
   "metadata": {},
   "outputs": [
    {
     "output_type": "execute_result",
     "data": {
      "text/plain": [
       "[1, 2, 3, 4, 5]"
      ]
     },
     "metadata": {},
     "execution_count": 6
    }
   ],
   "source": [
    "mtnRange = list(range(1,6))\n",
    "mtnRange"
   ]
  },
  {
   "cell_type": "code",
   "execution_count": 8,
   "metadata": {},
   "outputs": [
    {
     "output_type": "stream",
     "name": "stdout",
     "text": [
      "[1, 4, 9]\n"
     ]
    }
   ],
   "source": [
    "squares = list()\n",
    "\n",
    "for record in range(1,4):\n",
    "    num = record**2\n",
    "    squares.append(num)\n",
    "\n",
    "print(squares)"
   ]
  },
  {
   "cell_type": "code",
   "execution_count": 9,
   "metadata": {},
   "outputs": [
    {
     "output_type": "stream",
     "name": "stdout",
     "text": [
      "[1, 4, 9, 16, 25, 36, 49, 64, 81]\n"
     ]
    }
   ],
   "source": [
    "squares = []\n",
    "for rec in range(1,10):\n",
    "    squares.append(rec**2)\n",
    "\n",
    "print(squares)"
   ]
  },
  {
   "cell_type": "code",
   "execution_count": 1,
   "metadata": {},
   "outputs": [
    {
     "output_type": "execute_result",
     "data": {
      "text/plain": [
       "<list_iterator at 0x242aad58b20>"
      ]
     },
     "metadata": {},
     "execution_count": 1
    }
   ],
   "source": [
    "mtns = [\"Hibriten\", \"Timbered Ridge\", \"Hen\"]\n",
    "test = iter(mtns)\n",
    "test"
   ]
  },
  {
   "cell_type": "code",
   "execution_count": 3,
   "metadata": {},
   "outputs": [
    {
     "output_type": "execute_result",
     "data": {
      "text/plain": [
       "'Hibriten'"
      ]
     },
     "metadata": {},
     "execution_count": 3
    }
   ],
   "source": [
    "next(test)  "
   ]
  },
  {
   "cell_type": "code",
   "execution_count": 4,
   "metadata": {},
   "outputs": [
    {
     "output_type": "execute_result",
     "data": {
      "text/plain": [
       "'Timbered Ridge'"
      ]
     },
     "metadata": {},
     "execution_count": 4
    }
   ],
   "source": [
    "next(test)"
   ]
  },
  {
   "cell_type": "code",
   "execution_count": 9,
   "metadata": {},
   "outputs": [
    {
     "output_type": "stream",
     "name": "stdout",
     "text": [
      "Hibriten\nTimbered Rdige\nHen\n2211\n1451\n1800\n2211\n1451\n1800\n"
     ]
    }
   ],
   "source": [
    "mtns = {\n",
    "    \"Hibriten\": 2211,\n",
    "    \"Timbered Rdige\": 1451,\n",
    "    \"Hen\": 1800\n",
    "}\n",
    "\n",
    "for mtn in mtns:\n",
    "    print(mtn)\n",
    "\n",
    "for mtn in mtns:\n",
    "    print(mtns[mtn])\n",
    "\n",
    "for mtn in mtns.values():\n",
    "    print(mtn)"
   ]
  },
  {
   "cell_type": "code",
   "execution_count": 29,
   "metadata": {},
   "outputs": [
    {
     "output_type": "stream",
     "name": "stdout",
     "text": [
      "Hibriten 2211\nTimbered Ridge 1451\nHen 1800\n"
     ]
    }
   ],
   "source": [
    "mtns = {\n",
    "    \"Hibriten\": 2211,\n",
    "    \"Timbered Ridge\": 1451,\n",
    "    \"Hen\": 1800\n",
    "}\n",
    "\n",
    "#print(mtns.items())\n",
    "for mtn, ele in mtns.items():\n",
    "    print(mtn, ele)"
   ]
  },
  {
   "cell_type": "code",
   "execution_count": 15,
   "metadata": {},
   "outputs": [
    {
     "output_type": "stream",
     "name": "stdout",
     "text": [
      "dict_keys(['Hibriten', 'Timbered Rdige', 'Hen'])\ndict_keys(['Hibriten', 'Timbered Rdige', 'Hen'])\ndict_keys(['Hibriten', 'Timbered Rdige', 'Hen'])\n"
     ]
    }
   ],
   "source": [
    "for mtn in mtns:\n",
    "    print(mtns.keys())"
   ]
  },
  {
   "cell_type": "code",
   "execution_count": 19,
   "metadata": {},
   "outputs": [
    {
     "output_type": "stream",
     "name": "stdout",
     "text": [
      "dict_values([2211, 1451, 1800])\ndict_values([2211, 1451, 1800])\ndict_values([2211, 1451, 1800])\n"
     ]
    }
   ],
   "source": [
    "for mtn in mtns:\n",
    "    print(mtns.values())"
   ]
  },
  {
   "cell_type": "code",
   "execution_count": 20,
   "metadata": {},
   "outputs": [
    {
     "output_type": "stream",
     "name": "stdout",
     "text": [
      "{'Hibriten': 2211, 'Timbered Rdige': 1451, 'Hen': 1800, 'Cedar Valley': 1100}\n"
     ]
    }
   ],
   "source": [
    "mtns[\"Cedar Valley\"] = 1100\n",
    "print(mtns)"
   ]
  },
  {
   "cell_type": "code",
   "execution_count": 21,
   "metadata": {},
   "outputs": [
    {
     "output_type": "stream",
     "name": "stdout",
     "text": [
      "{'Hibriten': 2211, 'Timbered Rdige': 1451, 'Hen': 1800}\n"
     ]
    }
   ],
   "source": [
    "del mtns[\"Cedar Valley\"]\n",
    "print(mtns)"
   ]
  },
  {
   "cell_type": "code",
   "execution_count": 22,
   "metadata": {},
   "outputs": [
    {
     "output_type": "execute_result",
     "data": {
      "text/plain": [
       "False"
      ]
     },
     "metadata": {},
     "execution_count": 22
    }
   ],
   "source": [
    "\"Cedar Valley\" in mtns"
   ]
  },
  {
   "cell_type": "code",
   "execution_count": 23,
   "metadata": {},
   "outputs": [
    {
     "output_type": "execute_result",
     "data": {
      "text/plain": [
       "3"
      ]
     },
     "metadata": {},
     "execution_count": 23
    }
   ],
   "source": [
    "len(mtns)"
   ]
  },
  {
   "cell_type": "code",
   "execution_count": 24,
   "metadata": {},
   "outputs": [
    {
     "output_type": "execute_result",
     "data": {
      "text/plain": [
       "2211"
      ]
     },
     "metadata": {},
     "execution_count": 24
    }
   ],
   "source": [
    "mtns.get(\"Hibriten\")"
   ]
  },
  {
   "cell_type": "code",
   "execution_count": 27,
   "metadata": {},
   "outputs": [
    {
     "output_type": "stream",
     "name": "stdout",
     "text": [
      "{'Hibriten': 2211, 'Timbered Rdige': 1451, 'Hen': 1800, 'Small Peak': 1940}\n{'Hibriten': 2211, 'Timbered Rdige': 1451, 'Hen': 1800}\n"
     ]
    }
   ],
   "source": [
    "mtns[\"Small Peak\"] = 1940\n",
    "print(mtns)\n",
    "\n",
    "mtns.pop(\"Small Peak\")\n",
    "print(mtns)\n",
    "\n"
   ]
  },
  {
   "cell_type": "code",
   "execution_count": 30,
   "metadata": {},
   "outputs": [
    {
     "output_type": "stream",
     "name": "stdout",
     "text": [
      "{'Hibriten': 2211, 'Timbered Ridge': 1451, 'Hen': 1800, 'Adams': 2490, 'Brown': 2283}\n"
     ]
    }
   ],
   "source": [
    "mtnsEle = {\n",
    "    \"Adams\": 2490, \n",
    "    \"Brown\": 2283\n",
    "    }\n",
    "mtns.update(mtnsEle)\n",
    "print(mtns)"
   ]
  },
  {
   "cell_type": "code",
   "execution_count": 33,
   "metadata": {},
   "outputs": [
    {
     "output_type": "stream",
     "name": "stdout",
     "text": [
      "<module 'pandas' from 'C:\\\\Development_Environments\\\\Conda\\\\envs\\\\GISAPI\\\\lib\\\\site-packages\\\\pandas\\\\__init__.py'>\n"
     ]
    }
   ],
   "source": [
    "import pandas as pd\n",
    "print(pd)"
   ]
  },
  {
   "cell_type": "code",
   "execution_count": 35,
   "metadata": {},
   "outputs": [
    {
     "output_type": "stream",
     "name": "stdout",
     "text": [
      "<module 'requests' from 'C:\\\\Development_Environments\\\\Conda\\\\envs\\\\GISAPI\\\\lib\\\\site-packages\\\\requests\\\\__init__.py'>\n"
     ]
    }
   ],
   "source": [
    "import requests as rq\n",
    "print(rq)"
   ]
  },
  {
   "cell_type": "code",
   "execution_count": null,
   "metadata": {},
   "outputs": [],
   "source": []
  }
 ]
}