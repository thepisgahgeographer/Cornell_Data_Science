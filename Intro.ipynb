{
 "metadata": {
  "language_info": {
   "codemirror_mode": {
    "name": "ipython",
    "version": 3
   },
   "file_extension": ".py",
   "mimetype": "text/x-python",
   "name": "python",
   "nbconvert_exporter": "python",
   "pygments_lexer": "ipython3",
   "version": "3.8.5"
  },
  "orig_nbformat": 2,
  "kernelspec": {
   "name": "python3",
   "display_name": "Python 3.8.5 64-bit ('GISAPI': conda)"
  },
  "metadata": {
   "interpreter": {
    "hash": "d36bcb9db2b01809dd0786a778839d7cb7bf4091d5809431ddbab2266db9b46f"
   }
  },
  "interpreter": {
   "hash": "d36bcb9db2b01809dd0786a778839d7cb7bf4091d5809431ddbab2266db9b46f"
  }
 },
 "nbformat": 4,
 "nbformat_minor": 2,
 "cells": [
  {
   "cell_type": "code",
   "execution_count": null,
   "source": [
    "peak1 = \"Hibriten Mtn   \"\r\n",
    "peak2 = \"Timbered Ridge\"\r\n",
    "print(f\"{peak1.rstrip()} & {peak2}\")"
   ],
   "outputs": [],
   "metadata": {}
  },
  {
   "cell_type": "code",
   "execution_count": null,
   "source": [
    "3**2"
   ],
   "outputs": [],
   "metadata": {}
  },
  {
   "cell_type": "code",
   "execution_count": null,
   "source": [
    "import this"
   ],
   "outputs": [],
   "metadata": {}
  },
  {
   "cell_type": "code",
   "execution_count": null,
   "source": [
    "mtns = [\"Hibriten\", \"Timbered Ridge\", \"Hen\"]\r\n",
    "print(mtns[1])\r\n",
    "print(mtns[2])"
   ],
   "outputs": [],
   "metadata": {}
  },
  {
   "cell_type": "code",
   "execution_count": null,
   "source": [
    "pip install xlrd\r\n"
   ],
   "outputs": [],
   "metadata": {}
  },
  {
   "cell_type": "code",
   "execution_count": null,
   "source": [
    "mtns = [\"Hibriten\", \"Timbered Ridge\", \"Hen\"]\r\n",
    "message = f\"The Mountains are {mtns[0]}, {mtns[1]} and {mtns[2]}.\"\r\n",
    "#message\r\n",
    "\r\n",
    "for record in mtns:\r\n",
    "    print(record)\r\n",
    "\r\n"
   ],
   "outputs": [],
   "metadata": {}
  },
  {
   "cell_type": "code",
   "execution_count": null,
   "source": [
    "for val in range(1,5):\n",
    "    print(val)"
   ],
   "outputs": [],
   "metadata": {}
  },
  {
   "cell_type": "code",
   "execution_count": null,
   "source": [
    "mtnRange = list(range(1,6))\n",
    "mtnRange"
   ],
   "outputs": [],
   "metadata": {}
  },
  {
   "cell_type": "code",
   "execution_count": null,
   "source": [
    "squares = list()\n",
    "\n",
    "for record in range(1,4):\n",
    "    num = record**2\n",
    "    squares.append(num)\n",
    "\n",
    "print(squares)"
   ],
   "outputs": [],
   "metadata": {}
  },
  {
   "cell_type": "code",
   "execution_count": null,
   "source": [
    "squares = []\n",
    "for rec in range(1,10):\n",
    "    squares.append(rec**2)\n",
    "\n",
    "print(squares)"
   ],
   "outputs": [],
   "metadata": {}
  },
  {
   "cell_type": "code",
   "execution_count": null,
   "source": [
    "mtns = [\"Hibriten\", \"Timbered Ridge\", \"Hen\"]\r\n",
    "test = iter(mtns)\r\n",
    "test"
   ],
   "outputs": [],
   "metadata": {}
  },
  {
   "cell_type": "code",
   "execution_count": null,
   "source": [
    "next(test)  "
   ],
   "outputs": [],
   "metadata": {}
  },
  {
   "cell_type": "code",
   "execution_count": null,
   "source": [
    "next(test)"
   ],
   "outputs": [],
   "metadata": {}
  },
  {
   "cell_type": "code",
   "execution_count": null,
   "source": [
    "mtns = {\r\n",
    "    \"Hibriten\": 2211,\r\n",
    "    \"Timbered Rdige\": 1451,\r\n",
    "    \"Hen\": 1800\r\n",
    "}\r\n",
    "\r\n",
    "for mtn in mtns:\r\n",
    "    print(mtn)\r\n",
    "\r\n",
    "for mtn in mtns:\r\n",
    "    print(mtns[mtn])\r\n",
    "\r\n",
    "for mtn in mtns.values():\r\n",
    "    print(mtn)"
   ],
   "outputs": [],
   "metadata": {}
  },
  {
   "cell_type": "code",
   "execution_count": null,
   "source": [
    "mtns = {\n",
    "    \"Hibriten\": 2211,\n",
    "    \"Timbered Ridge\": 1451,\n",
    "    \"Hen\": 1800\n",
    "}\n",
    "\n",
    "#print(mtns.items())\n",
    "for mtn, ele in mtns.items():\n",
    "    print(mtn, ele)"
   ],
   "outputs": [],
   "metadata": {}
  },
  {
   "cell_type": "code",
   "execution_count": null,
   "source": [
    "for mtn in mtns:\n",
    "    print(mtns.keys())"
   ],
   "outputs": [],
   "metadata": {}
  },
  {
   "cell_type": "code",
   "execution_count": null,
   "source": [
    "for mtn in mtns:\n",
    "    print(mtns.values())"
   ],
   "outputs": [],
   "metadata": {}
  },
  {
   "cell_type": "code",
   "execution_count": null,
   "source": [
    "mtns[\"Cedar Valley\"] = 1100\n",
    "print(mtns)"
   ],
   "outputs": [],
   "metadata": {}
  },
  {
   "cell_type": "code",
   "execution_count": null,
   "source": [
    "del mtns[\"Cedar Valley\"]\n",
    "print(mtns)"
   ],
   "outputs": [],
   "metadata": {}
  },
  {
   "cell_type": "code",
   "execution_count": null,
   "source": [
    "\"Cedar Valley\" in mtns"
   ],
   "outputs": [],
   "metadata": {}
  },
  {
   "cell_type": "code",
   "execution_count": null,
   "source": [
    "len(mtns)"
   ],
   "outputs": [],
   "metadata": {}
  },
  {
   "cell_type": "code",
   "execution_count": null,
   "source": [
    "mtns.get(\"Hibriten\")"
   ],
   "outputs": [],
   "metadata": {}
  },
  {
   "cell_type": "code",
   "execution_count": null,
   "source": [
    "mtns[\"Small Peak\"] = 1940\n",
    "print(mtns)\n",
    "\n",
    "mtns.pop(\"Small Peak\")\n",
    "print(mtns)\n",
    "\n"
   ],
   "outputs": [],
   "metadata": {}
  },
  {
   "cell_type": "code",
   "execution_count": null,
   "source": [
    "mtnsEle = {\n",
    "    \"Adams\": 2490, \n",
    "    \"Brown\": 2283\n",
    "    }\n",
    "mtns.update(mtnsEle)\n",
    "print(mtns)"
   ],
   "outputs": [],
   "metadata": {}
  },
  {
   "cell_type": "code",
   "execution_count": null,
   "source": [
    "import pandas as pd\n",
    "print(pd)"
   ],
   "outputs": [],
   "metadata": {}
  },
  {
   "cell_type": "code",
   "execution_count": null,
   "source": [
    "import requests as rq\n",
    "print(rq)"
   ],
   "outputs": [],
   "metadata": {}
  },
  {
   "cell_type": "code",
   "execution_count": null,
   "source": [
    "def f():\n",
    "    s = '-- Inside f()'\n",
    "    print(s)\n",
    "\n",
    "print('Before calling f()')\n",
    "f()\n",
    "print('After calling f()')"
   ],
   "outputs": [],
   "metadata": {}
  },
  {
   "cell_type": "code",
   "execution_count": null,
   "source": [
    "def f(fx):\n",
    "    fx = 10\n",
    "    print(id(fx))\n",
    "\n",
    "x = 5\n",
    "f(x)\n",
    "print(id(x))\n",
    "print(x)\n",
    "\n"
   ],
   "outputs": [],
   "metadata": {}
  },
  {
   "cell_type": "code",
   "execution_count": null,
   "source": [
    "mtns = {\n",
    "    \"Hibriten\": 2211,\n",
    "    \"Timbered Ridge\": 1451,\n",
    "    \"Hen\": 1800\n",
    "}\n",
    "\n",
    "if \"Timbered\" in mtns:\n",
    "    print(True)"
   ],
   "outputs": [],
   "metadata": {}
  },
  {
   "cell_type": "code",
   "execution_count": null,
   "source": [
    "round(-0.88)\n"
   ],
   "outputs": [],
   "metadata": {}
  },
  {
   "cell_type": "code",
   "execution_count": null,
   "source": [
    "mtns = {\n",
    "    \"Hibriten\": 2211,\n",
    "    \"Timbered Ridge\": 1451,\n",
    "    \"Hen\": 1800\n",
    "}\n",
    "\n",
    "a,b,c = mtns\n",
    "print(f\"{a} Mountain,\\n{b},\\nand {c} Mountain\")"
   ],
   "outputs": [],
   "metadata": {}
  },
  {
   "cell_type": "code",
   "execution_count": null,
   "source": [
    "def test(x):\n",
    "    return x*2\n",
    "\n",
    "test(5)"
   ],
   "outputs": [],
   "metadata": {}
  },
  {
   "cell_type": "code",
   "execution_count": null,
   "source": [
    "def double(x):\n",
    "    i = 0\n",
    "    while i < len(x):\n",
    "        x[i] *= 2\n",
    "        i += 1\n",
    "\n",
    "def double_list(x):\n",
    "     r = []\n",
    "     for i in x:\n",
    "             r.append(i * 2)\n",
    "     return r\n",
    "\n",
    "\n",
    "b = [1, 2, 3, 4, 5]\n",
    "b= double_list(b)\n",
    "b\n"
   ],
   "outputs": [],
   "metadata": {}
  },
  {
   "cell_type": "code",
   "execution_count": null,
   "source": [
    "type(double_list)"
   ],
   "outputs": [],
   "metadata": {}
  },
  {
   "cell_type": "code",
   "execution_count": null,
   "source": [
    "type(2 +2.0)"
   ],
   "outputs": [],
   "metadata": {}
  },
  {
   "cell_type": "code",
   "execution_count": null,
   "source": [
    "type(1.0)"
   ],
   "outputs": [],
   "metadata": {}
  },
  {
   "cell_type": "code",
   "execution_count": null,
   "source": [
    "y = (3 + 4) * (5 + 7) + 0.001\r\n",
    "type(y)"
   ],
   "outputs": [],
   "metadata": {}
  },
  {
   "cell_type": "code",
   "execution_count": null,
   "source": [
    "#ele = (1850, 2000, 2500)\r\n",
    "\r\n",
    "def testing(*args):\r\n",
    "    return sum(args)\r\n",
    "\r\n",
    "testing(1850, 2000)\r\n"
   ],
   "outputs": [],
   "metadata": {}
  },
  {
   "cell_type": "code",
   "execution_count": null,
   "source": [
    "mtnsEle = {\n",
    "    \"Adams\": 2490, \n",
    "    \"Brown\": 2283\n",
    "    }\n",
    "\n",
    "for k,v in mtnsEle.items():\n",
    "    print(k,v)"
   ],
   "outputs": [],
   "metadata": {}
  },
  {
   "cell_type": "code",
   "execution_count": null,
   "source": [
    "def avg(*args):\n",
    "     total = 0\n",
    "     for i in args:\n",
    "         total += i\n",
    "         print(i)\n",
    "     return total / len(args)\n",
    "\n",
    "avg(10, 25, 30)"
   ],
   "outputs": [],
   "metadata": {}
  },
  {
   "cell_type": "code",
   "execution_count": null,
   "source": [
    "\n",
    "tup = (10, 25, 30)\n",
    "def average(*args):\n",
    "    return sum(args)/len(args)\n",
    "average(*tup)"
   ],
   "outputs": [],
   "metadata": {}
  },
  {
   "cell_type": "code",
   "execution_count": null,
   "source": [
    "mtns = {\n",
    "    \"Hibriten\": 2211,\n",
    "    \"Timbered Rdige\": 1451,\n",
    "    \"Hen\": 1800\n",
    "}\n",
    "\n",
    "def f(**kwargs):\n",
    "     print(kwargs)\n",
    "     print(type(kwargs))\n",
    "     for key, val in kwargs.items():\n",
    "             print(key, '->', val)\n",
    "\n",
    "f(Hibriten=2211, Hen=1800)\n",
    "f"
   ],
   "outputs": [],
   "metadata": {}
  },
  {
   "cell_type": "code",
   "execution_count": null,
   "source": [
    "mtns = {\r\n",
    "    \"Hibriten\": 2211,\r\n",
    "    \"Timbered Rdige\": 1451,\r\n",
    "    \"Hen\": 1800\r\n",
    "}\r\n",
    "\r\n",
    "f(**mtns)\r\n",
    "%whos"
   ],
   "outputs": [],
   "metadata": {}
  },
  {
   "cell_type": "code",
   "execution_count": null,
   "source": [
    "def concat(prefix, *args):\r\n",
    "     print(f'{prefix}{\".\".join(args)}')\r\n",
    "\r\n",
    "concat(\"*/* \", \"10\", \"20\", \"30\")"
   ],
   "outputs": [],
   "metadata": {}
  },
  {
   "cell_type": "code",
   "execution_count": null,
   "source": [
    "my_second_list = [1, 2.01, \"123\", [5, 6, 7]]\r\n",
    "my_second_list[3][1]"
   ],
   "outputs": [],
   "metadata": {}
  },
  {
   "cell_type": "code",
   "execution_count": null,
   "source": [
    "alist = [1,2,3,4,5,6,7,8,9,10]\r\n",
    "alist[7:]"
   ],
   "outputs": [],
   "metadata": {}
  },
  {
   "cell_type": "code",
   "execution_count": null,
   "source": [
    "adict = {'nickel': 5, 'dime': 10, 'quarter': 25}\r\n",
    "\r\n",
    "adict['quarter'] - 2*adict['dime'] "
   ],
   "outputs": [],
   "metadata": {}
  },
  {
   "cell_type": "code",
   "execution_count": null,
   "source": [
    "adict = {'a': [1,2,3], 'b': [4,5,6]}\n",
    "adict['d'] = [10,11,12]\n",
    "adict['b'] = [0,0,0]\n",
    "adict"
   ],
   "outputs": [],
   "metadata": {}
  },
  {
   "cell_type": "code",
   "execution_count": null,
   "source": [
    "def concat(*args, prefix='-> ', sep='.'):\n",
    "     print(f'{prefix}{sep.join(args)}')\n",
    "\n",
    "concat(\"10\", \"20\", \"30\", prefix=\"//\", sep=\"*\")"
   ],
   "outputs": [],
   "metadata": {}
  },
  {
   "cell_type": "code",
   "execution_count": null,
   "source": [
    "sets = {10,20,30}\n",
    "str = \"Hibriten Mountain\"\n",
    "\n",
    "def test():\n",
    "    if 10 in sets:\n",
    "        print(f\"The value {10} is in sets\")\n",
    "#test()\n",
    "\n",
    "splits = set(str)\n",
    "splits\n"
   ],
   "outputs": [],
   "metadata": {}
  },
  {
   "cell_type": "code",
   "execution_count": null,
   "source": [
    "allContent = gis.content.search(query=\"\", max_items = 500)\n",
    "allContent\n",
    "#call .delete(dry_run=True) to ensure deletion can proceed\n",
    "#call .delete() to let the torching commence"
   ],
   "outputs": [],
   "metadata": {}
  },
  {
   "cell_type": "code",
   "execution_count": null,
   "source": [
    "astring = \"aaa\"\n",
    "bstring = \"bbb\"\n",
    "cstring = astring + bstring\n",
    "cstring"
   ],
   "outputs": [],
   "metadata": {}
  },
  {
   "cell_type": "code",
   "execution_count": null,
   "source": [
    "mtns = {\r\n",
    "    \"Hibriten\": 2211,\r\n",
    "    \"Timbered Rdige\": 1451,\r\n",
    "    \"Hen\": 1800\r\n",
    "}\r\n",
    "\r\n",
    "mtns[\"Knoll Ridge\"] = 1980\r\n",
    "print(mtns)"
   ],
   "outputs": [],
   "metadata": {}
  },
  {
   "cell_type": "code",
   "execution_count": null,
   "source": [
    "sets = {10,20,30}\r\n",
    "sets.add(40)\r\n",
    "\r\n",
    "print(sets)\r\n"
   ],
   "outputs": [],
   "metadata": {}
  },
  {
   "cell_type": "code",
   "execution_count": null,
   "source": [
    "tup = (1, 2, 3)\r\n",
    "tup"
   ],
   "outputs": [],
   "metadata": {}
  },
  {
   "cell_type": "markdown",
   "source": [
    "### Sets"
   ],
   "metadata": {}
  },
  {
   "cell_type": "code",
   "execution_count": 53,
   "source": [
    "x = set([\"Hibriten\", \"Timbered Ridge\", \"Little Knoll\"])\r\n",
    "y = set((2200, 1800, 1650, \"Hibriten\"))\r\n",
    "\"Hibriten\" in y\r\n"
   ],
   "outputs": [
    {
     "output_type": "execute_result",
     "data": {
      "text/plain": [
       "True"
      ]
     },
     "metadata": {},
     "execution_count": 53
    }
   ],
   "metadata": {}
  },
  {
   "cell_type": "code",
   "execution_count": null,
   "source": [
    "print(\"Hibriten\" in x)\n",
    "print(\"Hen\" not in x)\n",
    "print(len(x))"
   ],
   "outputs": [],
   "metadata": {}
  },
  {
   "cell_type": "code",
   "execution_count": null,
   "source": [
    "#z = x | y\n",
    "\n",
    "x.union(y)\n",
    "\n"
   ],
   "outputs": [],
   "metadata": {}
  },
  {
   "cell_type": "code",
   "execution_count": null,
   "source": [
    "inter = x & y\r\n",
    "x.intersection(y)\r\n",
    "print(inter)"
   ],
   "outputs": [],
   "metadata": {}
  },
  {
   "cell_type": "code",
   "execution_count": null,
   "source": [
    "x = set([\"Hibriten\", \"Timbered Ridge\", \"Little Knoll\"])\r\n",
    "y = set((2200, 1800, 1650, \"Hibriten\"))\r\n",
    "\r\n",
    "print(x.difference(y))\r\n",
    "print(y.difference(x))"
   ],
   "outputs": [],
   "metadata": {}
  },
  {
   "cell_type": "code",
   "execution_count": null,
   "source": [
    "x.symmetric_difference(y)"
   ],
   "outputs": [],
   "metadata": {}
  },
  {
   "cell_type": "code",
   "execution_count": null,
   "source": [
    "y.symmetric_difference(x)"
   ],
   "outputs": [],
   "metadata": {}
  },
  {
   "cell_type": "code",
   "execution_count": null,
   "source": [
    "y.isdisjoint(x)"
   ],
   "outputs": [],
   "metadata": {}
  },
  {
   "cell_type": "code",
   "execution_count": null,
   "source": [
    "y.update([2150, 1980])\r\n",
    "y"
   ],
   "outputs": [],
   "metadata": {}
  },
  {
   "cell_type": "code",
   "execution_count": null,
   "source": [
    "y.symmetric_difference(x)"
   ],
   "outputs": [],
   "metadata": {}
  },
  {
   "cell_type": "code",
   "execution_count": null,
   "source": [
    "x.add()\r\n",
    "x.clear()\r\n",
    "x.remove()"
   ],
   "outputs": [],
   "metadata": {}
  },
  {
   "cell_type": "code",
   "execution_count": 44,
   "source": [
    "x = set([\"Hibriten\", \"Timbered Ridge\", \"Little Knoll\"])\r\n",
    "y = set((2200, 1800, 1650, \"Hibriten\"))\r\n",
    "#yz = set((2000, 1950, 2050))\r\n",
    "un = x.union(y)\r\n",
    "un\r\n",
    "#max(yz)"
   ],
   "outputs": [
    {
     "output_type": "execute_result",
     "data": {
      "text/plain": [
       "2050"
      ]
     },
     "metadata": {},
     "execution_count": 44
    }
   ],
   "metadata": {}
  },
  {
   "cell_type": "code",
   "execution_count": 35,
   "source": [
    "x.symmetric_difference(y)"
   ],
   "outputs": [
    {
     "output_type": "execute_result",
     "data": {
      "text/plain": [
       "{1650, 1800, 2200, 'Little Knoll', 'Timbered Ridge'}"
      ]
     },
     "metadata": {},
     "execution_count": 35
    }
   ],
   "metadata": {}
  },
  {
   "cell_type": "code",
   "execution_count": 36,
   "source": [
    "x.difference(y)"
   ],
   "outputs": [
    {
     "output_type": "execute_result",
     "data": {
      "text/plain": [
       "{'Little Knoll', 'Timbered Ridge'}"
      ]
     },
     "metadata": {},
     "execution_count": 36
    }
   ],
   "metadata": {}
  },
  {
   "cell_type": "code",
   "execution_count": 39,
   "source": [
    "x & y"
   ],
   "outputs": [
    {
     "output_type": "execute_result",
     "data": {
      "text/plain": [
       "{'Hibriten'}"
      ]
     },
     "metadata": {},
     "execution_count": 39
    }
   ],
   "metadata": {}
  },
  {
   "cell_type": "markdown",
   "source": [
    "### Dictionaries"
   ],
   "metadata": {}
  },
  {
   "cell_type": "code",
   "execution_count": 2,
   "source": [
    "mountains = dict()\r\n",
    "mountains[\"Hibriten\"] = 2200\r\n",
    "mountains[\"Hen\"] = 1850\r\n",
    "#print(mountains)\r\n",
    "#mountains[\"Hen\"]\r\n",
    "mountains[\"Brushy Mtns\"] = [2000, 2100, 2200]\r\n",
    "mountains[\"Brushy Mtns\"][0]\r\n",
    "id(mountains)"
   ],
   "outputs": [
    {
     "output_type": "execute_result",
     "data": {
      "text/plain": [
       "2225484069184"
      ]
     },
     "metadata": {},
     "execution_count": 2
    }
   ],
   "metadata": {}
  },
  {
   "cell_type": "code",
   "execution_count": 3,
   "source": [
    "len(mountains)"
   ],
   "outputs": [
    {
     "output_type": "execute_result",
     "data": {
      "text/plain": [
       "3"
      ]
     },
     "metadata": {},
     "execution_count": 3
    }
   ],
   "metadata": {}
  },
  {
   "cell_type": "code",
   "execution_count": 4,
   "source": [
    "#mountains.clear()\r\n",
    "mountains.get(\"Hibriten\")   "
   ],
   "outputs": [
    {
     "output_type": "execute_result",
     "data": {
      "text/plain": [
       "2200"
      ]
     },
     "metadata": {},
     "execution_count": 4
    }
   ],
   "metadata": {}
  },
  {
   "cell_type": "code",
   "execution_count": 24,
   "source": [
    "mountains[\"Hen\"] = 1920\r\n",
    "\r\n",
    "\r\n",
    "print(mountains.items())\r\n",
    "print(mountains.keys())\r\n",
    "print(mountains.values())"
   ],
   "outputs": [
    {
     "output_type": "stream",
     "name": "stdout",
     "text": [
      "dict_items([('Hibriten', 2200), ('Brushy Mtns', [2000, 2100, 2200]), ('Hen', 1920)])\n",
      "dict_keys(['Hibriten', 'Brushy Mtns', 'Hen'])\n",
      "dict_values([2200, [2000, 2100, 2200], 1920])\n"
     ]
    }
   ],
   "metadata": {}
  },
  {
   "cell_type": "code",
   "execution_count": 25,
   "source": [
    "#help(mountains)\r\n",
    "mountains.pop('Hen')"
   ],
   "outputs": [
    {
     "output_type": "execute_result",
     "data": {
      "text/plain": [
       "1920"
      ]
     },
     "metadata": {},
     "execution_count": 25
    }
   ],
   "metadata": {}
  },
  {
   "cell_type": "code",
   "execution_count": 26,
   "source": [
    "mountains.items()"
   ],
   "outputs": [
    {
     "output_type": "execute_result",
     "data": {
      "text/plain": [
       "dict_items([('Hibriten', 2200), ('Brushy Mtns', [2000, 2100, 2200])])"
      ]
     },
     "metadata": {},
     "execution_count": 26
    }
   ],
   "metadata": {}
  },
  {
   "cell_type": "code",
   "execution_count": 27,
   "source": [
    "add = {\"Miller's Creek Ridge\": 1500}\r\n",
    "mountains.update(add)\r\n",
    "mountains"
   ],
   "outputs": [
    {
     "output_type": "execute_result",
     "data": {
      "text/plain": [
       "{'Hibriten': 2200,\n",
       " 'Brushy Mtns': [2000, 2100, 2200],\n",
       " \"Miller's Creek Ridge\": 1500}"
      ]
     },
     "metadata": {},
     "execution_count": 27
    }
   ],
   "metadata": {}
  },
  {
   "cell_type": "code",
   "execution_count": 29,
   "source": [
    "# Merge 2 dictionaries together\r\n",
    "final = {**mountains, **add}\r\n",
    "final"
   ],
   "outputs": [
    {
     "output_type": "execute_result",
     "data": {
      "text/plain": [
       "{'Hibriten': 2200,\n",
       " 'Brushy Mtns': [2000, 2100, 2200],\n",
       " \"Miller's Creek Ridge\": 1500}"
      ]
     },
     "metadata": {},
     "execution_count": 29
    }
   ],
   "metadata": {}
  },
  {
   "cell_type": "markdown",
   "source": [
    "### Lists & Tuples"
   ],
   "metadata": {}
  },
  {
   "cell_type": "code",
   "execution_count": 30,
   "source": [
    "elevations = [2340, 2200, 1950]\r\n",
    "elevations"
   ],
   "outputs": [
    {
     "output_type": "execute_result",
     "data": {
      "text/plain": [
       "[2340, 2200, 1950]"
      ]
     },
     "metadata": {},
     "execution_count": 30
    }
   ],
   "metadata": {}
  },
  {
   "cell_type": "code",
   "execution_count": 40,
   "source": [
    "elevations[-2]\r\n",
    "elevations[::-1]"
   ],
   "outputs": [
    {
     "output_type": "execute_result",
     "data": {
      "text/plain": [
       "[1950, 2200, 2340]"
      ]
     },
     "metadata": {},
     "execution_count": 40
    }
   ],
   "metadata": {}
  },
  {
   "cell_type": "code",
   "execution_count": 42,
   "source": [
    "max(elevations)"
   ],
   "outputs": [
    {
     "output_type": "execute_result",
     "data": {
      "text/plain": [
       "2340"
      ]
     },
     "metadata": {},
     "execution_count": 42
    }
   ],
   "metadata": {}
  },
  {
   "cell_type": "code",
   "execution_count": 49,
   "source": [
    "\r\n",
    "\r\n",
    "def concat(*args, prefix='-> ', sep='.'):\r\n",
    "     print(f'{prefix}{sep.join(args)}')\r\n",
    "\r\n",
    "#concat??"
   ],
   "outputs": [
    {
     "output_type": "stream",
     "name": "stdout",
     "text": [
      "\u001b[1;31mSignature:\u001b[0m \u001b[0mconcat\u001b[0m\u001b[1;33m(\u001b[0m\u001b[1;33m*\u001b[0m\u001b[0margs\u001b[0m\u001b[1;33m,\u001b[0m \u001b[0mprefix\u001b[0m\u001b[1;33m=\u001b[0m\u001b[1;34m'-> '\u001b[0m\u001b[1;33m,\u001b[0m \u001b[0msep\u001b[0m\u001b[1;33m=\u001b[0m\u001b[1;34m'.'\u001b[0m\u001b[1;33m)\u001b[0m\u001b[1;33m\u001b[0m\u001b[1;33m\u001b[0m\u001b[0m\n",
      "\u001b[1;31mDocstring:\u001b[0m <no docstring>\n",
      "\u001b[1;31mSource:\u001b[0m   \n",
      "\u001b[1;32mdef\u001b[0m \u001b[0mconcat\u001b[0m\u001b[1;33m(\u001b[0m\u001b[1;33m*\u001b[0m\u001b[0margs\u001b[0m\u001b[1;33m,\u001b[0m \u001b[0mprefix\u001b[0m\u001b[1;33m=\u001b[0m\u001b[1;34m'-> '\u001b[0m\u001b[1;33m,\u001b[0m \u001b[0msep\u001b[0m\u001b[1;33m=\u001b[0m\u001b[1;34m'.'\u001b[0m\u001b[1;33m)\u001b[0m\u001b[1;33m:\u001b[0m\u001b[1;33m\n",
      "\u001b[0m     \u001b[0mprint\u001b[0m\u001b[1;33m(\u001b[0m\u001b[1;34mf'{prefix}{sep.join(args)}'\u001b[0m\u001b[1;33m)\u001b[0m\u001b[1;33m\u001b[0m\u001b[1;33m\u001b[0m\u001b[0m\n",
      "\u001b[1;31mFile:\u001b[0m      c:\\development_projects\\cornell_ds\\cornell_data_science\\<ipython-input-49-4942a364fcc7>\n",
      "\u001b[1;31mType:\u001b[0m      function\n"
     ]
    }
   ],
   "metadata": {}
  },
  {
   "cell_type": "code",
   "execution_count": 55,
   "source": [
    "adict = {\r\n",
    "    \"a\":1,\r\n",
    "    \"b\":2,\r\n",
    "    \"c\":3\r\n",
    "        }\r\n",
    "\r\n",
    "\"c\" in adict"
   ],
   "outputs": [
    {
     "output_type": "execute_result",
     "data": {
      "text/plain": [
       "True"
      ]
     },
     "metadata": {},
     "execution_count": 55
    }
   ],
   "metadata": {}
  },
  {
   "cell_type": "code",
   "execution_count": 2,
   "source": [
    "my_list = [1,2,3] \r\n",
    "my_list.insert(1,4)\r\n",
    "my_list"
   ],
   "outputs": [
    {
     "output_type": "execute_result",
     "data": {
      "text/plain": [
       "[1, 4, 2, 3]"
      ]
     },
     "metadata": {},
     "execution_count": 2
    }
   ],
   "metadata": {}
  },
  {
   "cell_type": "code",
   "execution_count": 3,
   "source": [
    "squares = {x: x * x for x in range(6)}\r\n",
    "squares"
   ],
   "outputs": [
    {
     "output_type": "execute_result",
     "data": {
      "text/plain": [
       "{0: 0, 1: 1, 2: 4, 3: 9, 4: 16, 5: 25}"
      ]
     },
     "metadata": {},
     "execution_count": 3
    }
   ],
   "metadata": {}
  },
  {
   "cell_type": "code",
   "execution_count": 10,
   "source": [
    "streams = [\"Steels\", \"Gingercake\", \"Upper\"]\r\n",
    "elevation = [3000, 2800, 2200]\r\n",
    "\r\n",
    "mountains2 = {key:value for key, value in zip(streams, elevation)}\r\n",
    "mountains2"
   ],
   "outputs": [
    {
     "output_type": "execute_result",
     "data": {
      "text/plain": [
       "{'Steels': 3000, 'Gingercake': 2800, 'Upper': 2200}"
      ]
     },
     "metadata": {},
     "execution_count": 10
    }
   ],
   "metadata": {}
  },
  {
   "cell_type": "code",
   "execution_count": 14,
   "source": [
    "min(mountains2.values())\r\n",
    "max(mountains2.values())"
   ],
   "outputs": [
    {
     "output_type": "execute_result",
     "data": {
      "text/plain": [
       "3000"
      ]
     },
     "metadata": {},
     "execution_count": 14
    }
   ],
   "metadata": {}
  },
  {
   "cell_type": "code",
   "execution_count": 16,
   "source": [
    "tup = (2200, 1950, 1600)\r\n",
    "tup[1]"
   ],
   "outputs": [
    {
     "output_type": "execute_result",
     "data": {
      "text/plain": [
       "1950"
      ]
     },
     "metadata": {},
     "execution_count": 16
    }
   ],
   "metadata": {}
  },
  {
   "cell_type": "markdown",
   "source": [
    "### Create a function that takes a list containing only numbers and return the first element."
   ],
   "metadata": {}
  },
  {
   "cell_type": "code",
   "execution_count": 1,
   "source": [
    "def firstElement (list):\r\n",
    "    return list[0]\r\n",
    "\r\n",
    "firstElement([1, 2, 3, 4])"
   ],
   "outputs": [
    {
     "output_type": "execute_result",
     "data": {
      "text/plain": [
       "1"
      ]
     },
     "metadata": {},
     "execution_count": 1
    }
   ],
   "metadata": {}
  },
  {
   "cell_type": "code",
   "execution_count": null,
   "source": [],
   "outputs": [],
   "metadata": {}
  }
 ]
}